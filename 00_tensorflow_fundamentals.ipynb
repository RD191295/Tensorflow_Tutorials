{
  "nbformat": 4,
  "nbformat_minor": 0,
  "metadata": {
    "colab": {
      "name": "00_tensorflow_fundamentals.ipynb",
      "provenance": [],
      "collapsed_sections": [],
      "authorship_tag": "ABX9TyPiD1BxaGNwn6Ess3ac4ckd",
      "include_colab_link": true
    },
    "kernelspec": {
      "name": "python3",
      "display_name": "Python 3"
    },
    "language_info": {
      "name": "python"
    }
  },
  "cells": [
    {
      "cell_type": "markdown",
      "metadata": {
        "id": "view-in-github",
        "colab_type": "text"
      },
      "source": [
        "<a href=\"https://colab.research.google.com/github/RD191295/Tensorflow_Tutorials/blob/main/00_tensorflow_fundamentals.ipynb\" target=\"_parent\"><img src=\"https://colab.research.google.com/assets/colab-badge.svg\" alt=\"Open In Colab\"/></a>"
      ]
    },
    {
      "cell_type": "markdown",
      "source": [
        "## In this Notbook we are going to cover some of most fundamentals concepts of tensors using TensorFLow\n",
        "\n",
        "\n",
        "\n",
        "1.   Introduction to tensors\n",
        "2.   Getting information from tensors\n",
        "3.   Manipulating tensors\n",
        "4.   Tensors & Numpy\n",
        "5.   Using @tf.function (a way to speed up your regular functions)\n",
        "6.   Using GPUS with Tensorflow(or TPUs)\n",
        "7.   Excercises to try yourself\n",
        "\n",
        "\n"
      ],
      "metadata": {
        "id": "v--IbS73iD1k"
      }
    },
    {
      "cell_type": "markdown",
      "source": [
        "# Introduction to Tensors"
      ],
      "metadata": {
        "id": "g5gezZ5djHny"
      }
    },
    {
      "cell_type": "code",
      "execution_count": 1,
      "metadata": {
        "colab": {
          "base_uri": "https://localhost:8080/"
        },
        "id": "CDa6FD80hhra",
        "outputId": "5c024398-ad63-4588-f9a8-4f99245f82cb"
      },
      "outputs": [
        {
          "output_type": "stream",
          "name": "stdout",
          "text": [
            "2.8.2\n"
          ]
        }
      ],
      "source": [
        "# Import TensorFlow\n",
        "\n",
        "import tensorflow as tf\n",
        "print(tf.__version__)"
      ]
    },
    {
      "cell_type": "code",
      "source": [
        "# creating tensors with tf.constant()\n",
        "scalar = tf.constant(7)\n",
        "scalar"
      ],
      "metadata": {
        "colab": {
          "base_uri": "https://localhost:8080/"
        },
        "id": "C2omV-x7jazB",
        "outputId": "a4eccdcb-8ec9-494d-f92d-828dd3837abf"
      },
      "execution_count": 2,
      "outputs": [
        {
          "output_type": "execute_result",
          "data": {
            "text/plain": [
              "<tf.Tensor: shape=(), dtype=int32, numpy=7>"
            ]
          },
          "metadata": {},
          "execution_count": 2
        }
      ]
    },
    {
      "cell_type": "code",
      "source": [
        "# Check the number of dimensions of a tensor( ndim stands for number of dimensions)\n",
        "scalar.ndim"
      ],
      "metadata": {
        "colab": {
          "base_uri": "https://localhost:8080/"
        },
        "id": "IrcqVSSDj4P8",
        "outputId": "2f87b0c7-cda0-4045-cc77-2c841780c617"
      },
      "execution_count": 3,
      "outputs": [
        {
          "output_type": "execute_result",
          "data": {
            "text/plain": [
              "0"
            ]
          },
          "metadata": {},
          "execution_count": 3
        }
      ]
    },
    {
      "cell_type": "code",
      "source": [
        "# create vector\n",
        "\n",
        "vector = tf.constant([10,12])\n",
        "vector"
      ],
      "metadata": {
        "colab": {
          "base_uri": "https://localhost:8080/"
        },
        "id": "8WKZgKNAkRxu",
        "outputId": "22d04738-c843-4c14-d9a6-a5451c55d410"
      },
      "execution_count": 4,
      "outputs": [
        {
          "output_type": "execute_result",
          "data": {
            "text/plain": [
              "<tf.Tensor: shape=(2,), dtype=int32, numpy=array([10, 12], dtype=int32)>"
            ]
          },
          "metadata": {},
          "execution_count": 4
        }
      ]
    },
    {
      "cell_type": "code",
      "source": [
        "# Check the number of dimensions of a vector( ndim stands for number of dimensions)\n",
        "vector.ndim"
      ],
      "metadata": {
        "colab": {
          "base_uri": "https://localhost:8080/"
        },
        "id": "u9I_SXc_kZQ7",
        "outputId": "20945394-421f-40e7-eff3-d825803d8875"
      },
      "execution_count": 5,
      "outputs": [
        {
          "output_type": "execute_result",
          "data": {
            "text/plain": [
              "1"
            ]
          },
          "metadata": {},
          "execution_count": 5
        }
      ]
    },
    {
      "cell_type": "code",
      "source": [
        "# create matrix( has more than 1 dim)\n",
        "matrix = tf.constant([[10,7],\n",
        "                      [12,14]])\n",
        "matrix"
      ],
      "metadata": {
        "colab": {
          "base_uri": "https://localhost:8080/"
        },
        "id": "HpSA-gKEkh9W",
        "outputId": "58488efd-3de6-4c89-e676-a6f8ee29b4d7"
      },
      "execution_count": 6,
      "outputs": [
        {
          "output_type": "execute_result",
          "data": {
            "text/plain": [
              "<tf.Tensor: shape=(2, 2), dtype=int32, numpy=\n",
              "array([[10,  7],\n",
              "       [12, 14]], dtype=int32)>"
            ]
          },
          "metadata": {},
          "execution_count": 6
        }
      ]
    },
    {
      "cell_type": "code",
      "source": [
        "# Check the number of dimensions of a matrix( ndim stands for number of dimensions)\n",
        "matrix.ndim"
      ],
      "metadata": {
        "colab": {
          "base_uri": "https://localhost:8080/"
        },
        "id": "SZbMJvSIky-x",
        "outputId": "aec24a33-f963-40d7-84fc-d34287d7c4d7"
      },
      "execution_count": 7,
      "outputs": [
        {
          "output_type": "execute_result",
          "data": {
            "text/plain": [
              "2"
            ]
          },
          "metadata": {},
          "execution_count": 7
        }
      ]
    },
    {
      "cell_type": "code",
      "source": [
        "# create matrix ( specify dtype)\n",
        "another_matrix = tf.constant([[10.,12.],\n",
        "                              [12.,14.9]],dtype= tf.float16) # specify datatype\n",
        "another_matrix"
      ],
      "metadata": {
        "colab": {
          "base_uri": "https://localhost:8080/"
        },
        "id": "R6HF0Sdxk6ZO",
        "outputId": "af36cba4-8b77-4e7a-abf7-a2568c3ef0bf"
      },
      "execution_count": 8,
      "outputs": [
        {
          "output_type": "execute_result",
          "data": {
            "text/plain": [
              "<tf.Tensor: shape=(2, 2), dtype=float16, numpy=\n",
              "array([[10. , 12. ],\n",
              "       [12. , 14.9]], dtype=float16)>"
            ]
          },
          "metadata": {},
          "execution_count": 8
        }
      ]
    },
    {
      "cell_type": "code",
      "source": [
        "# what's number of dimension of another_matrix\n",
        "another_matrix.ndim"
      ],
      "metadata": {
        "colab": {
          "base_uri": "https://localhost:8080/"
        },
        "id": "v_m82lrnlXmK",
        "outputId": "b74fa1e9-bec0-48f1-802e-92a147881498"
      },
      "execution_count": 9,
      "outputs": [
        {
          "output_type": "execute_result",
          "data": {
            "text/plain": [
              "2"
            ]
          },
          "metadata": {},
          "execution_count": 9
        }
      ]
    },
    {
      "cell_type": "code",
      "source": [
        "# Let's create tensors\n",
        "tensor = tf.constant([[[1,2,3],\n",
        "                       [3,4,5]],\n",
        "                       [[4,5,6],\n",
        "                        [7,8,9]],\n",
        "                       [[1,2,45],\n",
        "                        [1,3,4]]])\n",
        "tensor"
      ],
      "metadata": {
        "colab": {
          "base_uri": "https://localhost:8080/"
        },
        "id": "7GCDONJzlnhf",
        "outputId": "d5761796-2a6b-473d-ffcd-af3023cc3b69"
      },
      "execution_count": 10,
      "outputs": [
        {
          "output_type": "execute_result",
          "data": {
            "text/plain": [
              "<tf.Tensor: shape=(3, 2, 3), dtype=int32, numpy=\n",
              "array([[[ 1,  2,  3],\n",
              "        [ 3,  4,  5]],\n",
              "\n",
              "       [[ 4,  5,  6],\n",
              "        [ 7,  8,  9]],\n",
              "\n",
              "       [[ 1,  2, 45],\n",
              "        [ 1,  3,  4]]], dtype=int32)>"
            ]
          },
          "metadata": {},
          "execution_count": 10
        }
      ]
    },
    {
      "cell_type": "code",
      "source": [
        "# let's check dimensions of tensor\n",
        "tensor.ndim"
      ],
      "metadata": {
        "colab": {
          "base_uri": "https://localhost:8080/"
        },
        "id": "SkZv6sLOmgm0",
        "outputId": "8764e5ef-a9b9-493a-d118-47820a2017e8"
      },
      "execution_count": 11,
      "outputs": [
        {
          "output_type": "execute_result",
          "data": {
            "text/plain": [
              "3"
            ]
          },
          "metadata": {},
          "execution_count": 11
        }
      ]
    },
    {
      "cell_type": "markdown",
      "source": [
        "# Note :\n",
        "* Scalar : a single Number\n",
        "* Vector : a number with direction ( e.g. wind speed and direction)\n",
        "* matrix : 2-dimesional array of numbers\n",
        "* Tensor : an n-dimensional array of numbers(when n can be any number , a o-dimesional tensor is scalar,a 1-dimensional is vector)"
      ],
      "metadata": {
        "id": "qD7l5aNimor3"
      }
    },
    {
      "cell_type": "markdown",
      "source": [
        "### Creating tensors with tf.variable()"
      ],
      "metadata": {
        "id": "XqWc1G-MqrNz"
      }
    },
    {
      "cell_type": "code",
      "source": [
        "# create the same tensor with tf.variable() as above\n",
        "changable_tensor = tf.Variable([10,7])\n",
        "unchangable_tensor = tf.constant([10,7])\n",
        "changable_tensor,unchangable_tensor"
      ],
      "metadata": {
        "colab": {
          "base_uri": "https://localhost:8080/"
        },
        "id": "17zi3beiqopZ",
        "outputId": "54db89b5-c6de-40f2-ed31-26c3c503ab73"
      },
      "execution_count": 12,
      "outputs": [
        {
          "output_type": "execute_result",
          "data": {
            "text/plain": [
              "(<tf.Variable 'Variable:0' shape=(2,) dtype=int32, numpy=array([10,  7], dtype=int32)>,\n",
              " <tf.Tensor: shape=(2,), dtype=int32, numpy=array([10,  7], dtype=int32)>)"
            ]
          },
          "metadata": {},
          "execution_count": 12
        }
      ]
    },
    {
      "cell_type": "code",
      "source": [
        "# Let's try change one of the elements in our changeable in changable_tensor\n",
        "changable_tensor[0].assign(7)\n",
        "changable_tensor"
      ],
      "metadata": {
        "colab": {
          "base_uri": "https://localhost:8080/"
        },
        "id": "7ley6htKrXnz",
        "outputId": "46e6e9e4-936b-4582-abd5-5aff4766b00a"
      },
      "execution_count": 13,
      "outputs": [
        {
          "output_type": "execute_result",
          "data": {
            "text/plain": [
              "<tf.Variable 'Variable:0' shape=(2,) dtype=int32, numpy=array([7, 7], dtype=int32)>"
            ]
          },
          "metadata": {},
          "execution_count": 13
        }
      ]
    },
    {
      "cell_type": "code",
      "source": [
        "# Let's try change one of the elements in our changeable in unchangable_tensor\n",
        "\n",
        "# unchangable_tensor[0].assign[7]\n",
        "# unchangable_tensor\n",
        "\n",
        "# with tf.constant you can not change value...."
      ],
      "metadata": {
        "id": "RxXAXOgUrted"
      },
      "execution_count": 16,
      "outputs": []
    },
    {
      "cell_type": "markdown",
      "source": [
        "🔑**Note** : Rarely in practice will you need to decide whether to use tf.constant or tf.variable to create tensors. However ,if in doubt use tf.constant and change it later if needed"
      ],
      "metadata": {
        "id": "Uls_Diij0OMM"
      }
    },
    {
      "cell_type": "markdown",
      "source": [
        "### Creating random tensors\n",
        "\n",
        "##### Random tensors are tensors of some arbitary size which contain random numbers."
      ],
      "metadata": {
        "id": "38Z4vfUj07GY"
      }
    },
    {
      "cell_type": "code",
      "source": [
        "random_1 = tf.random.Generator.from_seed(42) #set seed for reproducibility\n",
        "random_1 = random_1.normal(shape=(3,2))\n",
        "random_2 = tf.random.Generator.from_seed(42) #set seed for reproducibility\n",
        "random_2 = random_2.normal(shape=(3,2))\n",
        "\n",
        "# Are they equal --- Yes\n",
        "random_1,random_2,random_1 == random_2"
      ],
      "metadata": {
        "id": "8CnSOM-qy0vA",
        "outputId": "6eb08208-5dcc-4e6f-c384-5756236a60e3",
        "colab": {
          "base_uri": "https://localhost:8080/"
        }
      },
      "execution_count": 21,
      "outputs": [
        {
          "output_type": "execute_result",
          "data": {
            "text/plain": [
              "(<tf.Tensor: shape=(3, 2), dtype=float32, numpy=\n",
              " array([[-0.7565803 , -0.06854702],\n",
              "        [ 0.07595026, -1.2573844 ],\n",
              "        [-0.23193763, -1.8107855 ]], dtype=float32)>,\n",
              " <tf.Tensor: shape=(3, 2), dtype=float32, numpy=\n",
              " array([[-0.7565803 , -0.06854702],\n",
              "        [ 0.07595026, -1.2573844 ],\n",
              "        [-0.23193763, -1.8107855 ]], dtype=float32)>,\n",
              " <tf.Tensor: shape=(3, 2), dtype=bool, numpy=\n",
              " array([[ True,  True],\n",
              "        [ True,  True],\n",
              "        [ True,  True]])>)"
            ]
          },
          "metadata": {},
          "execution_count": 21
        }
      ]
    },
    {
      "cell_type": "markdown",
      "source": [
        "### Shuffle the order of elements in tensor"
      ],
      "metadata": {
        "id": "k5m-7qkk9B4g"
      }
    },
    {
      "cell_type": "code",
      "source": [
        "# Shuffle a tensor ( valuble for when you want to shuffle your data so the inherent )\n",
        "not_shuffled = tf.constant([[10,7],\n",
        "                            [5,2],\n",
        "                            [3,4]])\n",
        "# shuffle our non-shuffled tensor\n",
        "tf.random.shuffle(not_shuffled,seed = 42)"
      ],
      "metadata": {
        "id": "rNxkmsq-7VkU",
        "outputId": "2b0cd18e-2a82-423a-b106-88b31d4dfd80",
        "colab": {
          "base_uri": "https://localhost:8080/"
        }
      },
      "execution_count": 28,
      "outputs": [
        {
          "output_type": "execute_result",
          "data": {
            "text/plain": [
              "<tf.Tensor: shape=(3, 2), dtype=int32, numpy=\n",
              "array([[ 3,  4],\n",
              "       [ 5,  2],\n",
              "       [10,  7]], dtype=int32)>"
            ]
          },
          "metadata": {},
          "execution_count": 28
        }
      ]
    },
    {
      "cell_type": "code",
      "source": [
        "not_shuffled"
      ],
      "metadata": {
        "id": "IqLoErKD-wbe"
      },
      "execution_count": null,
      "outputs": []
    },
    {
      "cell_type": "markdown",
      "source": [
        "🛠 **Excercise** : Read Tensorflow documentation on tensorflow random seed. create 5 tensors and shuffle them "
      ],
      "metadata": {
        "id": "uj_eX9x-_gFh"
      }
    },
    {
      "cell_type": "code",
      "source": [
        "not_shuffled_1 = tf.Variable([[[10,23],[20,34]],\n",
        "                              [[34,45],[56,45]],\n",
        "                              [[23,34],[23,56]]])\n",
        "\n",
        "# shffule it!!!\n",
        "tf.random.shuffle(not_shuffled_1)"
      ],
      "metadata": {
        "id": "SgkTV04I-22F",
        "outputId": "da11d96f-8b85-453c-ec86-b8cf68fad28f",
        "colab": {
          "base_uri": "https://localhost:8080/"
        }
      },
      "execution_count": 37,
      "outputs": [
        {
          "output_type": "execute_result",
          "data": {
            "text/plain": [
              "<tf.Tensor: shape=(3, 2, 2), dtype=int32, numpy=\n",
              "array([[[23, 34],\n",
              "        [23, 56]],\n",
              "\n",
              "       [[10, 23],\n",
              "        [20, 34]],\n",
              "\n",
              "       [[34, 45],\n",
              "        [56, 45]]], dtype=int32)>"
            ]
          },
          "metadata": {},
          "execution_count": 37
        }
      ]
    },
    {
      "cell_type": "code",
      "source": [
        "not_shuffled_2 = tf.constant([[[10,15],[24,56]],\n",
        "                               [[34,45],[45,25]],\n",
        "                              [[24,45],[45,67]]])\n",
        "\n",
        "tf.random.shuffle(not_shuffled_2)"
      ],
      "metadata": {
        "id": "2NddGOWSZQz2",
        "outputId": "a560ffed-30bc-4178-b1ca-b503ff2aa366",
        "colab": {
          "base_uri": "https://localhost:8080/"
        }
      },
      "execution_count": 40,
      "outputs": [
        {
          "output_type": "execute_result",
          "data": {
            "text/plain": [
              "<tf.Tensor: shape=(3, 2, 2), dtype=int32, numpy=\n",
              "array([[[10, 15],\n",
              "        [24, 56]],\n",
              "\n",
              "       [[24, 45],\n",
              "        [45, 67]],\n",
              "\n",
              "       [[34, 45],\n",
              "        [45, 25]]], dtype=int32)>"
            ]
          },
          "metadata": {},
          "execution_count": 40
        }
      ]
    },
    {
      "cell_type": "markdown",
      "source": [
        "### Others ways to Make tensors"
      ],
      "metadata": {
        "id": "F0ge0w5RcbrZ"
      }
    },
    {
      "cell_type": "code",
      "source": [
        "# create a tensor of all ones\n",
        "\n",
        "tf.ones(shape=(13,4))"
      ],
      "metadata": {
        "id": "Q4tuEgn0aIwJ",
        "outputId": "6bd37a83-1e17-4e58-872d-76f20a54e175",
        "colab": {
          "base_uri": "https://localhost:8080/"
        }
      },
      "execution_count": 42,
      "outputs": [
        {
          "output_type": "execute_result",
          "data": {
            "text/plain": [
              "<tf.Tensor: shape=(13, 4), dtype=float32, numpy=\n",
              "array([[1., 1., 1., 1.],\n",
              "       [1., 1., 1., 1.],\n",
              "       [1., 1., 1., 1.],\n",
              "       [1., 1., 1., 1.],\n",
              "       [1., 1., 1., 1.],\n",
              "       [1., 1., 1., 1.],\n",
              "       [1., 1., 1., 1.],\n",
              "       [1., 1., 1., 1.],\n",
              "       [1., 1., 1., 1.],\n",
              "       [1., 1., 1., 1.],\n",
              "       [1., 1., 1., 1.],\n",
              "       [1., 1., 1., 1.],\n",
              "       [1., 1., 1., 1.]], dtype=float32)>"
            ]
          },
          "metadata": {},
          "execution_count": 42
        }
      ]
    },
    {
      "cell_type": "code",
      "source": [
        "# create a tensor of all zeroes\n",
        "\n",
        "tf.zeros(shape=(3, 4))"
      ],
      "metadata": {
        "id": "6h6IP_HwckLJ",
        "outputId": "04bf982c-8c0a-4ca9-a5e2-b7dea4fc8152",
        "colab": {
          "base_uri": "https://localhost:8080/"
        }
      },
      "execution_count": 43,
      "outputs": [
        {
          "output_type": "execute_result",
          "data": {
            "text/plain": [
              "<tf.Tensor: shape=(3, 4), dtype=float32, numpy=\n",
              "array([[0., 0., 0., 0.],\n",
              "       [0., 0., 0., 0.],\n",
              "       [0., 0., 0., 0.]], dtype=float32)>"
            ]
          },
          "metadata": {},
          "execution_count": 43
        }
      ]
    },
    {
      "cell_type": "markdown",
      "source": [
        "### Turn Numpy array into tenosrs\n",
        "\n",
        "###### The main differnce between Numpy arrays and tensorflow tensors is that tensors can be run on a GPU (much faster computing)"
      ],
      "metadata": {
        "id": "jnX3e-M0cuyc"
      }
    },
    {
      "cell_type": "code",
      "source": [
        "# you can also turn Numpy arrays into tensors\n",
        "\n",
        "import numpy as np\n",
        "numpy_A = np.arange(1,25, dtype = np.int32) # create numpy array from between 1 to 25"
      ],
      "metadata": {
        "id": "BYytQUmect7W"
      },
      "execution_count": 46,
      "outputs": []
    },
    {
      "cell_type": "code",
      "source": [
        "A = tf.constant(numpy_A, shape= (3, 2, 4))\n",
        "A"
      ],
      "metadata": {
        "id": "N36w6JKVdo0d",
        "outputId": "4ef76a1c-428e-4ea7-8c5c-424c2b7117d2",
        "colab": {
          "base_uri": "https://localhost:8080/"
        }
      },
      "execution_count": 48,
      "outputs": [
        {
          "output_type": "execute_result",
          "data": {
            "text/plain": [
              "<tf.Tensor: shape=(3, 2, 4), dtype=int32, numpy=\n",
              "array([[[ 1,  2,  3,  4],\n",
              "        [ 5,  6,  7,  8]],\n",
              "\n",
              "       [[ 9, 10, 11, 12],\n",
              "        [13, 14, 15, 16]],\n",
              "\n",
              "       [[17, 18, 19, 20],\n",
              "        [21, 22, 23, 24]]], dtype=int32)>"
            ]
          },
          "metadata": {},
          "execution_count": 48
        }
      ]
    },
    {
      "cell_type": "markdown",
      "source": [],
      "metadata": {
        "id": "lHe734O7eJMs"
      }
    }
  ]
}
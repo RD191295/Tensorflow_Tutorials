{
  "nbformat": 4,
  "nbformat_minor": 0,
  "metadata": {
    "colab": {
      "provenance": [],
      "authorship_tag": "ABX9TyNAKYrTdLRmCOh8kYWJFNKe",
      "include_colab_link": true
    },
    "kernelspec": {
      "name": "python3",
      "display_name": "Python 3"
    },
    "language_info": {
      "name": "python"
    }
  },
  "cells": [
    {
      "cell_type": "markdown",
      "metadata": {
        "id": "view-in-github",
        "colab_type": "text"
      },
      "source": [
        "<a href=\"https://colab.research.google.com/github/RD191295/Tensorflow_Tutorials/blob/main/01_nerual_network_regression_in_tensorflow.ipynb\" target=\"_parent\"><img src=\"https://colab.research.google.com/assets/colab-badge.svg\" alt=\"Open In Colab\"/></a>"
      ]
    },
    {
      "cell_type": "markdown",
      "source": [
        "# Introduction to Regression with Nerual Networks in Tensorflow\n",
        "\n",
        "\n",
        "There are Many defination for a regression problem but in our case we are going to simplify it: predicting  a numerical variable based on som other combination of variables , even shorter... predicting number"
      ],
      "metadata": {
        "id": "QG9S58AJsV1y"
      }
    },
    {
      "cell_type": "code",
      "source": [
        "# Import tensorflow\n",
        "import tensorflow as tf\n",
        "print(tf.__version__)"
      ],
      "metadata": {
        "colab": {
          "base_uri": "https://localhost:8080/"
        },
        "id": "0X1rl37Xss37",
        "outputId": "a3602060-4d2c-4ab9-a722-e33fa8f3a96e"
      },
      "execution_count": 58,
      "outputs": [
        {
          "output_type": "stream",
          "name": "stdout",
          "text": [
            "2.8.2\n"
          ]
        }
      ]
    },
    {
      "cell_type": "markdown",
      "source": [
        "# Creating data to view and fit"
      ],
      "metadata": {
        "id": "hkfIXSTOs7Ki"
      }
    },
    {
      "cell_type": "code",
      "source": [
        "import numpy as np\n",
        "import matplotlib.pyplot as plt\n",
        "\n",
        "# create features\n",
        "x = np.array([-7.0, -4.0, -1.0, 2.0, 5.0, 8.0, 11.0, 14.0])\n",
        "\n",
        "# create labels\n",
        "y = np.array([3.0, 6.0, 9.0, 12.0, 15.0, 18.0, 21.0, 24.0])\n",
        "\n",
        "# Visualize it\n",
        "plt.scatter(x, y)"
      ],
      "metadata": {
        "colab": {
          "base_uri": "https://localhost:8080/",
          "height": 286
        },
        "id": "Y9q64ATas55r",
        "outputId": "2c8e6728-45d4-4b11-ad45-2b78aefb6752"
      },
      "execution_count": 59,
      "outputs": [
        {
          "output_type": "execute_result",
          "data": {
            "text/plain": [
              "<matplotlib.collections.PathCollection at 0x7f7aad49afd0>"
            ]
          },
          "metadata": {},
          "execution_count": 59
        },
        {
          "output_type": "display_data",
          "data": {
            "text/plain": [
              "<Figure size 432x288 with 1 Axes>"
            ],
            "image/png": "[encoded data removed]"
          },
          "metadata": {
            "needs_background": "light"
          }
        }
      ]
    },
    {
      "cell_type": "markdown",
      "source": [
        "## Input and Output shapes"
      ],
      "metadata": {
        "id": "o9HOMeDEt-J5"
      }
    },
    {
      "cell_type": "code",
      "source": [
        "# create a demo tensor for our housing price prediction problem\n",
        "house_info = tf.constant([\"bedroom\", \"bathroom\", \"garage\"])\n",
        "house_price = tf.constant([939700])\n",
        "house_info, house_price                         "
      ],
      "metadata": {
        "colab": {
          "base_uri": "https://localhost:8080/"
        },
        "id": "Ofi06hU2uBRw",
        "outputId": "7a468e50-9b56-4b7a-82c6-e9d894bfa2af"
      },
      "execution_count": 60,
      "outputs": [
        {
          "output_type": "execute_result",
          "data": {
            "text/plain": [
              "(<tf.Tensor: shape=(3,), dtype=string, numpy=array([b'bedroom', b'bathroom', b'garage'], dtype=object)>,\n",
              " <tf.Tensor: shape=(1,), dtype=int32, numpy=array([939700], dtype=int32)>)"
            ]
          },
          "metadata": {},
          "execution_count": 60
        }
      ]
    },
    {
      "cell_type": "code",
      "source": [
        "x[0], y[0]"
      ],
      "metadata": {
        "colab": {
          "base_uri": "https://localhost:8080/"
        },
        "id": "SObjt0d8uzo2",
        "outputId": "474c17b1-4580-40f0-ad09-b6466e9576c2"
      },
      "execution_count": 61,
      "outputs": [
        {
          "output_type": "execute_result",
          "data": {
            "text/plain": [
              "(-7.0, 3.0)"
            ]
          },
          "metadata": {},
          "execution_count": 61
        }
      ]
    },
    {
      "cell_type": "code",
      "source": [
        "x[1], y[1]"
      ],
      "metadata": {
        "colab": {
          "base_uri": "https://localhost:8080/"
        },
        "id": "TzeL-XRnu3U6",
        "outputId": "cbfc7d9b-25e0-46ac-c93e-a5749770c0a2"
      },
      "execution_count": 62,
      "outputs": [
        {
          "output_type": "execute_result",
          "data": {
            "text/plain": [
              "(-4.0, 6.0)"
            ]
          },
          "metadata": {},
          "execution_count": 62
        }
      ]
    },
    {
      "cell_type": "code",
      "source": [
        "input_shape = x.shape\n",
        "output_shape = y.shape\n",
        "input_shape, output_shape"
      ],
      "metadata": {
        "colab": {
          "base_uri": "https://localhost:8080/"
        },
        "id": "N2EsdPL8ujkI",
        "outputId": "d01082c5-dbe8-4a11-89c6-a654e2c1d95f"
      },
      "execution_count": 63,
      "outputs": [
        {
          "output_type": "execute_result",
          "data": {
            "text/plain": [
              "((8,), (8,))"
            ]
          },
          "metadata": {},
          "execution_count": 63
        }
      ]
    },
    {
      "cell_type": "code",
      "source": [
        "# Turn our Numpy array into tensors\n",
        "X = tf.constant(x)\n",
        "y = tf.constant(y)\n",
        "x, y"
      ],
      "metadata": {
        "colab": {
          "base_uri": "https://localhost:8080/"
        },
        "id": "WkNRlyfCvA5A",
        "outputId": "6f2c6c73-3d5e-4b8b-f013-d618b88071cf"
      },
      "execution_count": 64,
      "outputs": [
        {
          "output_type": "execute_result",
          "data": {
            "text/plain": [
              "(array([-7., -4., -1.,  2.,  5.,  8., 11., 14.]),\n",
              " <tf.Tensor: shape=(8,), dtype=float64, numpy=array([ 3.,  6.,  9., 12., 15., 18., 21., 24.])>)"
            ]
          },
          "metadata": {},
          "execution_count": 64
        }
      ]
    },
    {
      "cell_type": "markdown",
      "source": [
        "## steps in modeling with Tensorflow\n",
        "\n",
        "1. **creating a model** - define the input and output layers, as well as the hidden layers of a deep learning model.\n",
        "\n",
        "2. **compiling a model** - define the loss function( in other words , the function which tells our model how wrong it is) and the optimizer ( tells our model how to improve the patterns its learning) and evaluation metrics ( what we can use to interpret the performance of our model)\n",
        "\n",
        "3. **Fitting a model**- letting the model try to find patterns between x & y"
      ],
      "metadata": {
        "id": "rRIz8FUiv65p"
      }
    },
    {
      "cell_type": "code",
      "source": [
        "# set random seed\n",
        "tf.random.set_seed(42)\n",
        "\n",
        "# 1. Build model using the sequential API\n",
        "\n",
        "model = tf.keras.Sequential([\n",
        "    tf.keras.layers.Dense(1)\n",
        "])\n",
        "# 2. compile the model\n",
        "\n",
        "model.compile(loss = tf.keras.losses.mae,\n",
        "              optimizer = tf.keras.optimizers.SGD(),\n",
        "              metrics = [\"mae\"])\n",
        "\n",
        "# 3. Fit the model\n",
        "model.fit(tf.expand_dims(X,axis = -1),y, epochs = 25)"
      ],
      "metadata": {
        "colab": {
          "base_uri": "https://localhost:8080/"
        },
        "id": "ku7l_gSbvzQt",
        "outputId": "309e4f30-9ad8-4e2f-ead8-d8d172e4418c"
      },
      "execution_count": 65,
      "outputs": [
        {
          "output_type": "stream",
          "name": "stdout",
          "text": [
            "Epoch 1/25\n",
            "1/1 [==============================] - 0s 270ms/step - loss: 11.5048 - mae: 11.5048\n",
            "Epoch 2/25\n",
            "1/1 [==============================] - 0s 7ms/step - loss: 11.3723 - mae: 11.3723\n",
            "Epoch 3/25\n",
            "1/1 [==============================] - 0s 6ms/step - loss: 11.2398 - mae: 11.2398\n",
            "Epoch 4/25\n",
            "1/1 [==============================] - 0s 6ms/step - loss: 11.1073 - mae: 11.1073\n",
            "Epoch 5/25\n",
            "1/1 [==============================] - 0s 11ms/step - loss: 10.9748 - mae: 10.9748\n",
            "Epoch 6/25\n",
            "1/1 [==============================] - 0s 5ms/step - loss: 10.8423 - mae: 10.8423\n",
            "Epoch 7/25\n",
            "1/1 [==============================] - 0s 6ms/step - loss: 10.7098 - mae: 10.7098\n",
            "Epoch 8/25\n",
            "1/1 [==============================] - 0s 5ms/step - loss: 10.5773 - mae: 10.5773\n",
            "Epoch 9/25\n",
            "1/1 [==============================] - 0s 5ms/step - loss: 10.4448 - mae: 10.4448\n",
            "Epoch 10/25\n",
            "1/1 [==============================] - 0s 5ms/step - loss: 10.3123 - mae: 10.3123\n",
            "Epoch 11/25\n",
            "1/1 [==============================] - 0s 5ms/step - loss: 10.1798 - mae: 10.1798\n",
            "Epoch 12/25\n",
            "1/1 [==============================] - 0s 11ms/step - loss: 10.0473 - mae: 10.0473\n",
            "Epoch 13/25\n",
            "1/1 [==============================] - 0s 7ms/step - loss: 9.9148 - mae: 9.9148\n",
            "Epoch 14/25\n",
            "1/1 [==============================] - 0s 5ms/step - loss: 9.7823 - mae: 9.7823\n",
            "Epoch 15/25\n",
            "1/1 [==============================] - 0s 5ms/step - loss: 9.6498 - mae: 9.6498\n",
            "Epoch 16/25\n",
            "1/1 [==============================] - 0s 5ms/step - loss: 9.5173 - mae: 9.5173\n",
            "Epoch 17/25\n",
            "1/1 [==============================] - 0s 5ms/step - loss: 9.3848 - mae: 9.3848\n",
            "Epoch 18/25\n",
            "1/1 [==============================] - 0s 5ms/step - loss: 9.2523 - mae: 9.2523\n",
            "Epoch 19/25\n",
            "1/1 [==============================] - 0s 5ms/step - loss: 9.1198 - mae: 9.1198\n",
            "Epoch 20/25\n",
            "1/1 [==============================] - 0s 5ms/step - loss: 8.9873 - mae: 8.9873\n",
            "Epoch 21/25\n",
            "1/1 [==============================] - 0s 5ms/step - loss: 8.8548 - mae: 8.8548\n",
            "Epoch 22/25\n",
            "1/1 [==============================] - 0s 5ms/step - loss: 8.7223 - mae: 8.7223\n",
            "Epoch 23/25\n",
            "1/1 [==============================] - 0s 5ms/step - loss: 8.5898 - mae: 8.5898\n",
            "Epoch 24/25\n",
            "1/1 [==============================] - 0s 5ms/step - loss: 8.4573 - mae: 8.4573\n",
            "Epoch 25/25\n",
            "1/1 [==============================] - 0s 5ms/step - loss: 8.3248 - mae: 8.3248\n"
          ]
        },
        {
          "output_type": "execute_result",
          "data": {
            "text/plain": [
              "<keras.callbacks.History at 0x7f7aad4054d0>"
            ]
          },
          "metadata": {},
          "execution_count": 65
        }
      ]
    },
    {
      "cell_type": "code",
      "source": [
        "# check out X and y\n",
        "X, y"
      ],
      "metadata": {
        "colab": {
          "base_uri": "https://localhost:8080/"
        },
        "id": "tsXLbNd70hKE",
        "outputId": "30957ea5-4cc6-43ea-c5ef-e664d344783a"
      },
      "execution_count": 66,
      "outputs": [
        {
          "output_type": "execute_result",
          "data": {
            "text/plain": [
              "(<tf.Tensor: shape=(8,), dtype=float64, numpy=array([-7., -4., -1.,  2.,  5.,  8., 11., 14.])>,\n",
              " <tf.Tensor: shape=(8,), dtype=float64, numpy=array([ 3.,  6.,  9., 12., 15., 18., 21., 24.])>)"
            ]
          },
          "metadata": {},
          "execution_count": 66
        }
      ]
    },
    {
      "cell_type": "code",
      "source": [
        "# Try and make prediction using our model\n",
        "model.predict([17.0])"
      ],
      "metadata": {
        "colab": {
          "base_uri": "https://localhost:8080/"
        },
        "id": "a8YN3ekQ0njN",
        "outputId": "8e2c8297-66c5-4bb3-e4d9-3346a95201ca"
      },
      "execution_count": 67,
      "outputs": [
        {
          "output_type": "execute_result",
          "data": {
            "text/plain": [
              "array([[24.816017]], dtype=float32)"
            ]
          },
          "metadata": {},
          "execution_count": 67
        }
      ]
    },
    {
      "cell_type": "markdown",
      "source": [
        "## Improve Model\n",
        "\n",
        "We can imporve our model , by altering the steps we took to create model.\n",
        "\n",
        "1. **Creating a Model** - we might add more layers, increase the number of hidden units( all called neurons) within each of the hidden layers, change the activation function of each layer.\n",
        "\n",
        "2. **compiling model** - here we might change optimization function or perhaps the lerning rate of the optimization function.\n",
        "\n",
        "3. **Fitting model** - here we might fit a model for more epochs (leave it training for longer) or on more data(give the model more examples to learn from)"
      ],
      "metadata": {
        "id": "wN_KM7y_1DIB"
      }
    },
    {
      "cell_type": "code",
      "source": [
        "# 1. Build model using the sequential API\n",
        "\n",
        "model = tf.keras.Sequential([\n",
        "    tf.keras.layers.Dense(units = 64 , activation = \"relu\"),\n",
        "    tf.keras.layers.Dense(units = 32, activation = \"relu\"),\n",
        "    tf.keras.layers.Dense(units = 16, activation = \"relu\"),\n",
        "    tf.keras.layers.Dense(1)\n",
        "])\n",
        "# 2. compile the model\n",
        "\n",
        "model.compile(loss = tf.keras.losses.mae,\n",
        "              optimizer = tf.keras.optimizers.Adam(lr = 0.01),\n",
        "              metrics = [\"mae\"])\n",
        "\n",
        "# 3. Fit the model\n",
        "model.fit(tf.expand_dims(X,axis = -1),y, epochs = 100)"
      ],
      "metadata": {
        "id": "GqSaZD0H1GC8",
        "outputId": "8e50e32f-c4d9-4b1f-810f-3df6f942cbd7",
        "colab": {
          "base_uri": "https://localhost:8080/"
        }
      },
      "execution_count": 68,
      "outputs": [
        {
          "output_type": "stream",
          "name": "stderr",
          "text": [
            "/usr/local/lib/python3.7/dist-packages/keras/optimizer_v2/adam.py:105: UserWarning: The `lr` argument is deprecated, use `learning_rate` instead.\n",
            "  super(Adam, self).__init__(name, **kwargs)\n"
          ]
        },
        {
          "output_type": "stream",
          "name": "stdout",
          "text": [
            "Epoch 1/100\n",
            "1/1 [==============================] - 0s 459ms/step - loss: 12.5606 - mae: 12.5606\n",
            "Epoch 2/100\n",
            "1/1 [==============================] - 0s 8ms/step - loss: 11.2003 - mae: 11.2003\n",
            "Epoch 3/100\n",
            "1/1 [==============================] - 0s 8ms/step - loss: 10.0089 - mae: 10.0089\n",
            "Epoch 4/100\n",
            "1/1 [==============================] - 0s 7ms/step - loss: 8.4663 - mae: 8.4663\n",
            "Epoch 5/100\n",
            "1/1 [==============================] - 0s 6ms/step - loss: 6.4502 - mae: 6.4502\n",
            "Epoch 6/100\n",
            "1/1 [==============================] - 0s 6ms/step - loss: 4.0821 - mae: 4.0821\n",
            "Epoch 7/100\n",
            "1/1 [==============================] - 0s 6ms/step - loss: 4.3891 - mae: 4.3891\n",
            "Epoch 8/100\n",
            "1/1 [==============================] - 0s 7ms/step - loss: 5.2313 - mae: 5.2313\n",
            "Epoch 9/100\n",
            "1/1 [==============================] - 0s 9ms/step - loss: 5.3820 - mae: 5.3820\n",
            "Epoch 10/100\n",
            "1/1 [==============================] - 0s 8ms/step - loss: 5.0437 - mae: 5.0437\n",
            "Epoch 11/100\n",
            "1/1 [==============================] - 0s 7ms/step - loss: 4.4166 - mae: 4.4166\n",
            "Epoch 12/100\n",
            "1/1 [==============================] - 0s 7ms/step - loss: 3.7783 - mae: 3.7783\n",
            "Epoch 13/100\n",
            "1/1 [==============================] - 0s 7ms/step - loss: 3.4726 - mae: 3.4726\n",
            "Epoch 14/100\n",
            "1/1 [==============================] - 0s 7ms/step - loss: 3.9894 - mae: 3.9894\n",
            "Epoch 15/100\n",
            "1/1 [==============================] - 0s 9ms/step - loss: 4.0766 - mae: 4.0766\n",
            "Epoch 16/100\n",
            "1/1 [==============================] - 0s 7ms/step - loss: 3.6499 - mae: 3.6499\n",
            "Epoch 17/100\n",
            "1/1 [==============================] - 0s 7ms/step - loss: 3.3363 - mae: 3.3363\n",
            "Epoch 18/100\n",
            "1/1 [==============================] - 0s 8ms/step - loss: 3.4563 - mae: 3.4563\n",
            "Epoch 19/100\n",
            "1/1 [==============================] - 0s 8ms/step - loss: 3.6947 - mae: 3.6947\n",
            "Epoch 20/100\n",
            "1/1 [==============================] - 0s 8ms/step - loss: 3.8025 - mae: 3.8025\n",
            "Epoch 21/100\n",
            "1/1 [==============================] - 0s 8ms/step - loss: 3.6528 - mae: 3.6528\n",
            "Epoch 22/100\n",
            "1/1 [==============================] - 0s 7ms/step - loss: 3.3137 - mae: 3.3137\n",
            "Epoch 23/100\n",
            "1/1 [==============================] - 0s 8ms/step - loss: 3.1413 - mae: 3.1413\n",
            "Epoch 24/100\n",
            "1/1 [==============================] - 0s 7ms/step - loss: 2.9541 - mae: 2.9541\n",
            "Epoch 25/100\n",
            "1/1 [==============================] - 0s 7ms/step - loss: 3.0566 - mae: 3.0566\n",
            "Epoch 26/100\n",
            "1/1 [==============================] - 0s 7ms/step - loss: 3.1590 - mae: 3.1590\n",
            "Epoch 27/100\n",
            "1/1 [==============================] - 0s 7ms/step - loss: 2.8859 - mae: 2.8859\n",
            "Epoch 28/100\n",
            "1/1 [==============================] - 0s 7ms/step - loss: 2.6243 - mae: 2.6243\n",
            "Epoch 29/100\n",
            "1/1 [==============================] - 0s 6ms/step - loss: 2.5821 - mae: 2.5821\n",
            "Epoch 30/100\n",
            "1/1 [==============================] - 0s 7ms/step - loss: 2.6465 - mae: 2.6465\n",
            "Epoch 31/100\n",
            "1/1 [==============================] - 0s 8ms/step - loss: 2.5887 - mae: 2.5887\n",
            "Epoch 32/100\n",
            "1/1 [==============================] - 0s 7ms/step - loss: 2.2842 - mae: 2.2842\n",
            "Epoch 33/100\n",
            "1/1 [==============================] - 0s 7ms/step - loss: 2.0518 - mae: 2.0518\n",
            "Epoch 34/100\n",
            "1/1 [==============================] - 0s 10ms/step - loss: 2.0723 - mae: 2.0723\n",
            "Epoch 35/100\n",
            "1/1 [==============================] - 0s 7ms/step - loss: 2.2755 - mae: 2.2755\n",
            "Epoch 36/100\n",
            "1/1 [==============================] - 0s 7ms/step - loss: 1.8126 - mae: 1.8126\n",
            "Epoch 37/100\n",
            "1/1 [==============================] - 0s 7ms/step - loss: 1.4057 - mae: 1.4057\n",
            "Epoch 38/100\n",
            "1/1 [==============================] - 0s 7ms/step - loss: 1.6455 - mae: 1.6455\n",
            "Epoch 39/100\n",
            "1/1 [==============================] - 0s 7ms/step - loss: 1.7309 - mae: 1.7309\n",
            "Epoch 40/100\n",
            "1/1 [==============================] - 0s 9ms/step - loss: 1.4895 - mae: 1.4895\n",
            "Epoch 41/100\n",
            "1/1 [==============================] - 0s 6ms/step - loss: 0.8414 - mae: 0.8414\n",
            "Epoch 42/100\n",
            "1/1 [==============================] - 0s 6ms/step - loss: 1.0293 - mae: 1.0293\n",
            "Epoch 43/100\n",
            "1/1 [==============================] - 0s 6ms/step - loss: 0.8624 - mae: 0.8624\n",
            "Epoch 44/100\n",
            "1/1 [==============================] - 0s 6ms/step - loss: 0.4404 - mae: 0.4404\n",
            "Epoch 45/100\n",
            "1/1 [==============================] - 0s 6ms/step - loss: 1.1303 - mae: 1.1303\n",
            "Epoch 46/100\n",
            "1/1 [==============================] - 0s 6ms/step - loss: 1.1307 - mae: 1.1307\n",
            "Epoch 47/100\n",
            "1/1 [==============================] - 0s 6ms/step - loss: 0.5591 - mae: 0.5591\n",
            "Epoch 48/100\n",
            "1/1 [==============================] - 0s 6ms/step - loss: 1.2755 - mae: 1.2755\n",
            "Epoch 49/100\n",
            "1/1 [==============================] - 0s 7ms/step - loss: 1.6786 - mae: 1.6786\n",
            "Epoch 50/100\n",
            "1/1 [==============================] - 0s 6ms/step - loss: 1.9197 - mae: 1.9197\n",
            "Epoch 51/100\n",
            "1/1 [==============================] - 0s 6ms/step - loss: 1.5821 - mae: 1.5821\n",
            "Epoch 52/100\n",
            "1/1 [==============================] - 0s 15ms/step - loss: 0.7332 - mae: 0.7332\n",
            "Epoch 53/100\n",
            "1/1 [==============================] - 0s 6ms/step - loss: 1.2057 - mae: 1.2057\n",
            "Epoch 54/100\n",
            "1/1 [==============================] - 0s 6ms/step - loss: 1.7445 - mae: 1.7445\n",
            "Epoch 55/100\n",
            "1/1 [==============================] - 0s 6ms/step - loss: 1.6944 - mae: 1.6944\n",
            "Epoch 56/100\n",
            "1/1 [==============================] - 0s 6ms/step - loss: 0.7591 - mae: 0.7591\n",
            "Epoch 57/100\n",
            "1/1 [==============================] - 0s 6ms/step - loss: 0.8768 - mae: 0.8768\n",
            "Epoch 58/100\n",
            "1/1 [==============================] - 0s 6ms/step - loss: 1.4812 - mae: 1.4812\n",
            "Epoch 59/100\n",
            "1/1 [==============================] - 0s 6ms/step - loss: 1.5260 - mae: 1.5260\n",
            "Epoch 60/100\n",
            "1/1 [==============================] - 0s 7ms/step - loss: 0.9434 - mae: 0.9434\n",
            "Epoch 61/100\n",
            "1/1 [==============================] - 0s 6ms/step - loss: 0.2534 - mae: 0.2534\n",
            "Epoch 62/100\n",
            "1/1 [==============================] - 0s 6ms/step - loss: 0.9430 - mae: 0.9430\n",
            "Epoch 63/100\n",
            "1/1 [==============================] - 0s 6ms/step - loss: 0.9091 - mae: 0.9091\n",
            "Epoch 64/100\n",
            "1/1 [==============================] - 0s 6ms/step - loss: 0.3503 - mae: 0.3503\n",
            "Epoch 65/100\n",
            "1/1 [==============================] - 0s 6ms/step - loss: 0.6784 - mae: 0.6784\n",
            "Epoch 66/100\n",
            "1/1 [==============================] - 0s 6ms/step - loss: 0.9361 - mae: 0.9361\n",
            "Epoch 67/100\n",
            "1/1 [==============================] - 0s 7ms/step - loss: 0.7537 - mae: 0.7537\n",
            "Epoch 68/100\n",
            "1/1 [==============================] - 0s 7ms/step - loss: 0.2985 - mae: 0.2985\n",
            "Epoch 69/100\n",
            "1/1 [==============================] - 0s 7ms/step - loss: 0.8219 - mae: 0.8219\n",
            "Epoch 70/100\n",
            "1/1 [==============================] - 0s 7ms/step - loss: 1.0525 - mae: 1.0525\n",
            "Epoch 71/100\n",
            "1/1 [==============================] - 0s 7ms/step - loss: 0.8515 - mae: 0.8515\n",
            "Epoch 72/100\n",
            "1/1 [==============================] - 0s 7ms/step - loss: 0.2612 - mae: 0.2612\n",
            "Epoch 73/100\n",
            "1/1 [==============================] - 0s 7ms/step - loss: 0.6074 - mae: 0.6074\n",
            "Epoch 74/100\n",
            "1/1 [==============================] - 0s 6ms/step - loss: 0.8158 - mae: 0.8158\n",
            "Epoch 75/100\n",
            "1/1 [==============================] - 0s 16ms/step - loss: 0.5925 - mae: 0.5925\n",
            "Epoch 76/100\n",
            "1/1 [==============================] - 0s 7ms/step - loss: 0.2210 - mae: 0.2210\n",
            "Epoch 77/100\n",
            "1/1 [==============================] - 0s 7ms/step - loss: 0.5664 - mae: 0.5664\n",
            "Epoch 78/100\n",
            "1/1 [==============================] - 0s 8ms/step - loss: 0.5400 - mae: 0.5400\n",
            "Epoch 79/100\n",
            "1/1 [==============================] - 0s 7ms/step - loss: 0.2183 - mae: 0.2183\n",
            "Epoch 80/100\n",
            "1/1 [==============================] - 0s 7ms/step - loss: 0.4670 - mae: 0.4670\n",
            "Epoch 81/100\n",
            "1/1 [==============================] - 0s 7ms/step - loss: 0.4790 - mae: 0.4790\n",
            "Epoch 82/100\n",
            "1/1 [==============================] - 0s 7ms/step - loss: 0.2406 - mae: 0.2406\n",
            "Epoch 83/100\n",
            "1/1 [==============================] - 0s 7ms/step - loss: 0.3497 - mae: 0.3497\n",
            "Epoch 84/100\n",
            "1/1 [==============================] - 0s 7ms/step - loss: 0.2122 - mae: 0.2122\n",
            "Epoch 85/100\n",
            "1/1 [==============================] - 0s 7ms/step - loss: 0.3656 - mae: 0.3656\n",
            "Epoch 86/100\n",
            "1/1 [==============================] - 0s 7ms/step - loss: 0.2140 - mae: 0.2140\n",
            "Epoch 87/100\n",
            "1/1 [==============================] - 0s 6ms/step - loss: 0.2873 - mae: 0.2873\n",
            "Epoch 88/100\n",
            "1/1 [==============================] - 0s 6ms/step - loss: 0.1712 - mae: 0.1712\n",
            "Epoch 89/100\n",
            "1/1 [==============================] - 0s 6ms/step - loss: 0.3607 - mae: 0.3607\n",
            "Epoch 90/100\n",
            "1/1 [==============================] - 0s 6ms/step - loss: 0.2277 - mae: 0.2277\n",
            "Epoch 91/100\n",
            "1/1 [==============================] - 0s 6ms/step - loss: 0.3167 - mae: 0.3167\n",
            "Epoch 92/100\n",
            "1/1 [==============================] - 0s 6ms/step - loss: 0.2721 - mae: 0.2721\n",
            "Epoch 93/100\n",
            "1/1 [==============================] - 0s 6ms/step - loss: 0.4270 - mae: 0.4270\n",
            "Epoch 94/100\n",
            "1/1 [==============================] - 0s 6ms/step - loss: 0.3581 - mae: 0.3581\n",
            "Epoch 95/100\n",
            "1/1 [==============================] - 0s 6ms/step - loss: 0.1960 - mae: 0.1960\n",
            "Epoch 96/100\n",
            "1/1 [==============================] - 0s 6ms/step - loss: 0.2043 - mae: 0.2043\n",
            "Epoch 97/100\n",
            "1/1 [==============================] - 0s 6ms/step - loss: 0.3586 - mae: 0.3586\n",
            "Epoch 98/100\n",
            "1/1 [==============================] - 0s 6ms/step - loss: 0.2007 - mae: 0.2007\n",
            "Epoch 99/100\n",
            "1/1 [==============================] - 0s 6ms/step - loss: 0.4130 - mae: 0.4130\n",
            "Epoch 100/100\n",
            "1/1 [==============================] - 0s 5ms/step - loss: 0.5114 - mae: 0.5114\n"
          ]
        },
        {
          "output_type": "execute_result",
          "data": {
            "text/plain": [
              "<keras.callbacks.History at 0x7f7aad6ab350>"
            ]
          },
          "metadata": {},
          "execution_count": 68
        }
      ]
    },
    {
      "cell_type": "code",
      "source": [
        "# Try and make prediction using our model\n",
        "model.predict([17.0])"
      ],
      "metadata": {
        "id": "__kL_fvMXgSX",
        "outputId": "73322a48-b979-46ec-b62a-887316aafdf7",
        "colab": {
          "base_uri": "https://localhost:8080/"
        }
      },
      "execution_count": 69,
      "outputs": [
        {
          "output_type": "execute_result",
          "data": {
            "text/plain": [
              "array([[28.058153]], dtype=float32)"
            ]
          },
          "metadata": {},
          "execution_count": 69
        }
      ]
    },
    {
      "cell_type": "code",
      "source": [
        "# check out X and y\n",
        "X, y"
      ],
      "metadata": {
        "id": "ESyAj1YVezl5",
        "outputId": "abcf213a-d5b3-4dff-91d9-a1cf6523edab",
        "colab": {
          "base_uri": "https://localhost:8080/"
        }
      },
      "execution_count": 70,
      "outputs": [
        {
          "output_type": "execute_result",
          "data": {
            "text/plain": [
              "(<tf.Tensor: shape=(8,), dtype=float64, numpy=array([-7., -4., -1.,  2.,  5.,  8., 11., 14.])>,\n",
              " <tf.Tensor: shape=(8,), dtype=float64, numpy=array([ 3.,  6.,  9., 12., 15., 18., 21., 24.])>)"
            ]
          },
          "metadata": {},
          "execution_count": 70
        }
      ]
    },
    {
      "cell_type": "markdown",
      "source": [
        "## Evaluting a model\n",
        "\n",
        "In Practice a typical workflow you will go through when building nerual network is :\n",
        "\n",
        "Build Model --> Fit it --> Evalute It -->tweak a model -> fit it --> evalute it -->tweak a model "
      ],
      "metadata": {
        "id": "1p5yQvtzhjfB"
      }
    },
    {
      "cell_type": "code",
      "source": [
        "# Make a bigger dataset\n",
        "X = tf.range(-100, 100, 4)\n",
        "X"
      ],
      "metadata": {
        "id": "UZaTnKnfhs30",
        "outputId": "b20d1387-79d6-4cd2-fb2a-f42b267f9100",
        "colab": {
          "base_uri": "https://localhost:8080/"
        }
      },
      "execution_count": 71,
      "outputs": [
        {
          "output_type": "execute_result",
          "data": {
            "text/plain": [
              "<tf.Tensor: shape=(50,), dtype=int32, numpy=\n",
              "array([-100,  -96,  -92,  -88,  -84,  -80,  -76,  -72,  -68,  -64,  -60,\n",
              "        -56,  -52,  -48,  -44,  -40,  -36,  -32,  -28,  -24,  -20,  -16,\n",
              "        -12,   -8,   -4,    0,    4,    8,   12,   16,   20,   24,   28,\n",
              "         32,   36,   40,   44,   48,   52,   56,   60,   64,   68,   72,\n",
              "         76,   80,   84,   88,   92,   96], dtype=int32)>"
            ]
          },
          "metadata": {},
          "execution_count": 71
        }
      ]
    },
    {
      "cell_type": "code",
      "source": [
        "# Make labels for the dataset\n",
        "Y = X +10\n",
        "Y"
      ],
      "metadata": {
        "id": "Oy8rJTjqhbd6",
        "outputId": "11b41b1a-426f-4a89-821b-2de076340764",
        "colab": {
          "base_uri": "https://localhost:8080/"
        }
      },
      "execution_count": 72,
      "outputs": [
        {
          "output_type": "execute_result",
          "data": {
            "text/plain": [
              "<tf.Tensor: shape=(50,), dtype=int32, numpy=\n",
              "array([-90, -86, -82, -78, -74, -70, -66, -62, -58, -54, -50, -46, -42,\n",
              "       -38, -34, -30, -26, -22, -18, -14, -10,  -6,  -2,   2,   6,  10,\n",
              "        14,  18,  22,  26,  30,  34,  38,  42,  46,  50,  54,  58,  62,\n",
              "        66,  70,  74,  78,  82,  86,  90,  94,  98, 102, 106], dtype=int32)>"
            ]
          },
          "metadata": {},
          "execution_count": 72
        }
      ]
    },
    {
      "cell_type": "code",
      "source": [
        "# Visalize Dataset\n",
        "import matplotlib.pyplot as plt\n",
        "plt.scatter(X, Y)"
      ],
      "metadata": {
        "id": "UUMvG6T5ixZL",
        "outputId": "cbd6b0ea-3af8-4ec1-e0f6-b1b4f14d257f",
        "colab": {
          "base_uri": "https://localhost:8080/",
          "height": 282
        }
      },
      "execution_count": 73,
      "outputs": [
        {
          "output_type": "execute_result",
          "data": {
            "text/plain": [
              "<matplotlib.collections.PathCollection at 0x7f7aaf62e110>"
            ]
          },
          "metadata": {},
          "execution_count": 73
        },
        {
          "output_type": "display_data",
          "data": {
            "text/plain": [
              "<Figure size 432x288 with 1 Axes>"
            ],
            "image/png": "[encoded data removed]"
          },
          "metadata": {
            "needs_background": "light"
          }
        }
      ]
    },
    {
      "cell_type": "markdown",
      "source": [
        "### The 3 sets....\n",
        "\n",
        "* **Training Set** - the model learns from this data , which is typically 70-80% of the total data you have available.\n",
        "\n",
        "* **Validation set** - the model gets tuned on this data, which is typically 10-15% of the data avilable.\n",
        "\n",
        "* **Test set** - the model gets evaluted on this data to test what is has learned , this set is typically 10-15% of the total data available."
      ],
      "metadata": {
        "id": "IS103dKMn044"
      }
    },
    {
      "cell_type": "code",
      "source": [
        "# check the length of how many samples we have\n",
        "len(X)"
      ],
      "metadata": {
        "id": "DtXzCqM6i9bs",
        "outputId": "ec297729-98f6-45ad-f33a-e9bbe43445eb",
        "colab": {
          "base_uri": "https://localhost:8080/"
        }
      },
      "execution_count": 74,
      "outputs": [
        {
          "output_type": "execute_result",
          "data": {
            "text/plain": [
              "50"
            ]
          },
          "metadata": {},
          "execution_count": 74
        }
      ]
    },
    {
      "cell_type": "code",
      "source": [
        "# split the data into train and test sets\n",
        "X_train = X[:40]\n",
        "Y_train = Y[:40]\n",
        "X_test = X[40:]\n",
        "Y_test = Y[40:]\n",
        "\n",
        "len(X_train), len(X_test), len(Y_train), len(Y_test)"
      ],
      "metadata": {
        "id": "bFCuEQhRpLw1",
        "outputId": "7fffacb3-14ec-448a-8a1b-40b5c94dbe48",
        "colab": {
          "base_uri": "https://localhost:8080/"
        }
      },
      "execution_count": 75,
      "outputs": [
        {
          "output_type": "execute_result",
          "data": {
            "text/plain": [
              "(40, 10, 40, 10)"
            ]
          },
          "metadata": {},
          "execution_count": 75
        }
      ]
    },
    {
      "cell_type": "markdown",
      "source": [
        "## Visalizing data\n",
        "Now we have got our data in training and test sets...let's visualize it again!!\n"
      ],
      "metadata": {
        "id": "qCguTKC7qRhP"
      }
    },
    {
      "cell_type": "code",
      "source": [
        "plt.figure(figsize = (10,7))\n",
        "# Plot training data in blue\n",
        "plt.scatter(X_train, Y_train, c=\"b\", label = \"Training data\")\n",
        "# Plot training data in red\n",
        "plt.scatter(X_test, Y_test, c=\"r\", label = \"Testing data\")\n",
        "plt.legend()\n",
        "plt.show()"
      ],
      "metadata": {
        "id": "R9kG1M5WpkEZ",
        "outputId": "ae1ad416-6a3f-4e7e-d107-3b38bfcb4f58",
        "colab": {
          "base_uri": "https://localhost:8080/",
          "height": 428
        }
      },
      "execution_count": 76,
      "outputs": [
        {
          "output_type": "display_data",
          "data": {
            "text/plain": [
              "<Figure size 720x504 with 1 Axes>"
            ],
            "image/png": "[encoded data removed]"
          },
          "metadata": {
            "needs_background": "light"
          }
        }
      ]
    },
    {
      "cell_type": "code",
      "source": [
        "# Let's have a look at building nerual network for our data\n",
        "\n",
        "# 1. Build model using the sequential API\n",
        "\n",
        "model = tf.keras.Sequential([\n",
        "    tf.keras.layers.Dense(1,input_shape = (1,),name = \"input_layer\"),\n",
        "    tf.keras.layers.Dense(16,name = \"hidden_layer\"),\n",
        "\n",
        "    tf.keras.layers.Dense(1,name = \"output_layer\")\n",
        "])\n",
        "\n",
        "# 2. compile the model\n",
        "model.compile(loss = tf.keras.losses.mae,\n",
        "              optimizer = tf.keras.optimizers.Adam(lr = 0.01),\n",
        "              metrics = [\"mae\",\"mse\"])"
      ],
      "metadata": {
        "id": "HxLh9Cf5qPxV"
      },
      "execution_count": 77,
      "outputs": []
    },
    {
      "cell_type": "markdown",
      "source": [
        "## Model Summary"
      ],
      "metadata": {
        "id": "gkJBhLSCsFyX"
      }
    },
    {
      "cell_type": "code",
      "source": [
        "model.summary()"
      ],
      "metadata": {
        "id": "cQh_OV3ksKDr",
        "outputId": "a455b645-b80f-40bb-c2df-02d6ef761d81",
        "colab": {
          "base_uri": "https://localhost:8080/"
        }
      },
      "execution_count": 78,
      "outputs": [
        {
          "output_type": "stream",
          "name": "stdout",
          "text": [
            "Model: \"sequential_19\"\n",
            "_________________________________________________________________\n",
            " Layer (type)                Output Shape              Param #   \n",
            "=================================================================\n",
            " input_layer (Dense)         (None, 1)                 2         \n",
            "                                                                 \n",
            " hidden_layer (Dense)        (None, 16)                32        \n",
            "                                                                 \n",
            " output_layer (Dense)        (None, 1)                 17        \n",
            "                                                                 \n",
            "=================================================================\n",
            "Total params: 51\n",
            "Trainable params: 51\n",
            "Non-trainable params: 0\n",
            "_________________________________________________________________\n"
          ]
        }
      ]
    },
    {
      "cell_type": "code",
      "source": [
        "from tensorflow.keras.utils import plot_model\n",
        "\n",
        "plot_model(model = model, show_shapes = True)"
      ],
      "metadata": {
        "id": "-TsHoAY4rZqk",
        "outputId": "3b72d5a5-37b4-4be4-e150-7d6174ac91ff",
        "colab": {
          "base_uri": "https://localhost:8080/",
          "height": 422
        }
      },
      "execution_count": 79,
      "outputs": [
        {
          "output_type": "execute_result",
          "data": {
            "image/png": "[encoded data removed]",
            "text/plain": [
              "<IPython.core.display.Image object>"
            ]
          },
          "metadata": {},
          "execution_count": 79
        }
      ]
    },
    {
      "cell_type": "code",
      "source": [
        "# Train model\n",
        "# 3. Fit the model\n",
        "model.fit(X_train,Y_train, epochs = 100)"
      ],
      "metadata": {
        "id": "bk_o0QkgcmNa",
        "outputId": "472a0edd-a5a6-4c68-e81b-c4badd758b76",
        "colab": {
          "base_uri": "https://localhost:8080/"
        }
      },
      "execution_count": 80,
      "outputs": [
        {
          "output_type": "stream",
          "name": "stdout",
          "text": [
            "Epoch 1/100\n",
            "2/2 [==============================] - 0s 9ms/step - loss: 18.9042 - mae: 18.9042 - mse: 528.3729\n",
            "Epoch 2/100\n",
            "2/2 [==============================] - 0s 6ms/step - loss: 9.7212 - mae: 9.7212 - mse: 103.6820\n",
            "Epoch 3/100\n",
            "2/2 [==============================] - 0s 7ms/step - loss: 10.3743 - mae: 10.3743 - mse: 150.3655\n",
            "Epoch 4/100\n",
            "2/2 [==============================] - 0s 6ms/step - loss: 11.5368 - mae: 11.5368 - mse: 179.2285\n",
            "Epoch 5/100\n",
            "2/2 [==============================] - 0s 6ms/step - loss: 8.5284 - mae: 8.5284 - mse: 100.3317\n",
            "Epoch 6/100\n",
            "2/2 [==============================] - 0s 5ms/step - loss: 8.4074 - mae: 8.4074 - mse: 76.5935\n",
            "Epoch 7/100\n",
            "2/2 [==============================] - 0s 4ms/step - loss: 9.4327 - mae: 9.4327 - mse: 89.0261\n",
            "Epoch 8/100\n",
            "2/2 [==============================] - 0s 8ms/step - loss: 8.6927 - mae: 8.6927 - mse: 76.9322\n",
            "Epoch 9/100\n",
            "2/2 [==============================] - 0s 6ms/step - loss: 7.3843 - mae: 7.3843 - mse: 76.1913\n",
            "Epoch 10/100\n",
            "2/2 [==============================] - 0s 5ms/step - loss: 8.3286 - mae: 8.3286 - mse: 100.2121\n",
            "Epoch 11/100\n",
            "2/2 [==============================] - 0s 6ms/step - loss: 8.3649 - mae: 8.3649 - mse: 100.5161\n",
            "Epoch 12/100\n",
            "2/2 [==============================] - 0s 4ms/step - loss: 6.9414 - mae: 6.9414 - mse: 71.6072\n",
            "Epoch 13/100\n",
            "2/2 [==============================] - 0s 4ms/step - loss: 7.1357 - mae: 7.1357 - mse: 61.2725\n",
            "Epoch 14/100\n",
            "2/2 [==============================] - 0s 5ms/step - loss: 6.8991 - mae: 6.8991 - mse: 60.0060\n",
            "Epoch 15/100\n",
            "2/2 [==============================] - 0s 6ms/step - loss: 6.4952 - mae: 6.4952 - mse: 63.2183\n",
            "Epoch 16/100\n",
            "2/2 [==============================] - 0s 4ms/step - loss: 6.6652 - mae: 6.6652 - mse: 66.1240\n",
            "Epoch 17/100\n",
            "2/2 [==============================] - 0s 5ms/step - loss: 6.4156 - mae: 6.4156 - mse: 61.3526\n",
            "Epoch 18/100\n",
            "2/2 [==============================] - 0s 4ms/step - loss: 6.3320 - mae: 6.3320 - mse: 55.7214\n",
            "Epoch 19/100\n",
            "2/2 [==============================] - 0s 5ms/step - loss: 6.2155 - mae: 6.2155 - mse: 51.8882\n",
            "Epoch 20/100\n",
            "2/2 [==============================] - 0s 17ms/step - loss: 6.0926 - mae: 6.0926 - mse: 55.5586\n",
            "Epoch 21/100\n",
            "2/2 [==============================] - 0s 5ms/step - loss: 5.9583 - mae: 5.9583 - mse: 52.7580\n",
            "Epoch 22/100\n",
            "2/2 [==============================] - 0s 2ms/step - loss: 5.8300 - mae: 5.8300 - mse: 48.6676\n",
            "Epoch 23/100\n",
            "2/2 [==============================] - 0s 8ms/step - loss: 5.8502 - mae: 5.8502 - mse: 46.3853\n",
            "Epoch 24/100\n",
            "2/2 [==============================] - 0s 4ms/step - loss: 5.7526 - mae: 5.7526 - mse: 47.6411\n",
            "Epoch 25/100\n",
            "2/2 [==============================] - 0s 2ms/step - loss: 5.5928 - mae: 5.5928 - mse: 46.9624\n",
            "Epoch 26/100\n",
            "2/2 [==============================] - 0s 4ms/step - loss: 5.5536 - mae: 5.5536 - mse: 41.7136\n",
            "Epoch 27/100\n",
            "2/2 [==============================] - 0s 5ms/step - loss: 5.3521 - mae: 5.3521 - mse: 41.3587\n",
            "Epoch 28/100\n",
            "2/2 [==============================] - 0s 4ms/step - loss: 5.3914 - mae: 5.3914 - mse: 43.4621\n",
            "Epoch 29/100\n",
            "2/2 [==============================] - 0s 5ms/step - loss: 5.1811 - mae: 5.1811 - mse: 40.3960\n",
            "Epoch 30/100\n",
            "2/2 [==============================] - 0s 6ms/step - loss: 5.2383 - mae: 5.2383 - mse: 36.2869\n",
            "Epoch 31/100\n",
            "2/2 [==============================] - 0s 6ms/step - loss: 4.9682 - mae: 4.9682 - mse: 37.4111\n",
            "Epoch 32/100\n",
            "2/2 [==============================] - 0s 6ms/step - loss: 5.2578 - mae: 5.2578 - mse: 41.3004\n",
            "Epoch 33/100\n",
            "2/2 [==============================] - 0s 9ms/step - loss: 4.8008 - mae: 4.8008 - mse: 33.5801\n",
            "Epoch 34/100\n",
            "2/2 [==============================] - 0s 8ms/step - loss: 4.7195 - mae: 4.7195 - mse: 30.6679\n",
            "Epoch 35/100\n",
            "2/2 [==============================] - 0s 4ms/step - loss: 4.8267 - mae: 4.8267 - mse: 34.8299\n",
            "Epoch 36/100\n",
            "2/2 [==============================] - 0s 8ms/step - loss: 4.7037 - mae: 4.7037 - mse: 32.8590\n",
            "Epoch 37/100\n",
            "2/2 [==============================] - 0s 3ms/step - loss: 4.4448 - mae: 4.4448 - mse: 26.4332\n",
            "Epoch 38/100\n",
            "2/2 [==============================] - 0s 7ms/step - loss: 4.2697 - mae: 4.2697 - mse: 25.3671\n",
            "Epoch 39/100\n",
            "2/2 [==============================] - 0s 4ms/step - loss: 4.1349 - mae: 4.1349 - mse: 25.3234\n",
            "Epoch 40/100\n",
            "2/2 [==============================] - 0s 4ms/step - loss: 4.0059 - mae: 4.0059 - mse: 23.7453\n",
            "Epoch 41/100\n",
            "2/2 [==============================] - 0s 8ms/step - loss: 3.9080 - mae: 3.9080 - mse: 21.3022\n",
            "Epoch 42/100\n",
            "2/2 [==============================] - 0s 4ms/step - loss: 3.7865 - mae: 3.7865 - mse: 19.9974\n",
            "Epoch 43/100\n",
            "2/2 [==============================] - 0s 5ms/step - loss: 3.6842 - mae: 3.6842 - mse: 20.3786\n",
            "Epoch 44/100\n",
            "2/2 [==============================] - 0s 6ms/step - loss: 3.6086 - mae: 3.6086 - mse: 18.5361\n",
            "Epoch 45/100\n",
            "2/2 [==============================] - 0s 4ms/step - loss: 3.3368 - mae: 3.3368 - mse: 16.3377\n",
            "Epoch 46/100\n",
            "2/2 [==============================] - 0s 4ms/step - loss: 3.3717 - mae: 3.3717 - mse: 16.7998\n",
            "Epoch 47/100\n",
            "2/2 [==============================] - 0s 4ms/step - loss: 3.1151 - mae: 3.1151 - mse: 14.0415\n",
            "Epoch 48/100\n",
            "2/2 [==============================] - 0s 4ms/step - loss: 2.9321 - mae: 2.9321 - mse: 12.6515\n",
            "Epoch 49/100\n",
            "2/2 [==============================] - 0s 4ms/step - loss: 2.8754 - mae: 2.8754 - mse: 12.2249\n",
            "Epoch 50/100\n",
            "2/2 [==============================] - 0s 3ms/step - loss: 2.7554 - mae: 2.7554 - mse: 11.2310\n",
            "Epoch 51/100\n",
            "2/2 [==============================] - 0s 4ms/step - loss: 2.4798 - mae: 2.4798 - mse: 9.2965\n",
            "Epoch 52/100\n",
            "2/2 [==============================] - 0s 4ms/step - loss: 2.5865 - mae: 2.5865 - mse: 7.6027\n",
            "Epoch 53/100\n",
            "2/2 [==============================] - 0s 4ms/step - loss: 2.5373 - mae: 2.5373 - mse: 8.8974\n",
            "Epoch 54/100\n",
            "2/2 [==============================] - 0s 4ms/step - loss: 2.2320 - mae: 2.2320 - mse: 6.4394\n",
            "Epoch 55/100\n",
            "2/2 [==============================] - 0s 4ms/step - loss: 2.0965 - mae: 2.0965 - mse: 5.0112\n",
            "Epoch 56/100\n",
            "2/2 [==============================] - 0s 4ms/step - loss: 2.0086 - mae: 2.0086 - mse: 5.8118\n",
            "Epoch 57/100\n",
            "2/2 [==============================] - 0s 5ms/step - loss: 2.2344 - mae: 2.2344 - mse: 5.4976\n",
            "Epoch 58/100\n",
            "2/2 [==============================] - 0s 4ms/step - loss: 2.6874 - mae: 2.6874 - mse: 10.4361\n",
            "Epoch 59/100\n",
            "2/2 [==============================] - 0s 4ms/step - loss: 1.5102 - mae: 1.5102 - mse: 2.8791\n",
            "Epoch 60/100\n",
            "2/2 [==============================] - 0s 5ms/step - loss: 3.2397 - mae: 3.2397 - mse: 14.0343\n",
            "Epoch 61/100\n",
            "2/2 [==============================] - 0s 5ms/step - loss: 1.3014 - mae: 1.3014 - mse: 2.6364\n",
            "Epoch 62/100\n",
            "2/2 [==============================] - 0s 4ms/step - loss: 2.9202 - mae: 2.9202 - mse: 12.7607\n",
            "Epoch 63/100\n",
            "2/2 [==============================] - 0s 4ms/step - loss: 1.0770 - mae: 1.0770 - mse: 1.4387\n",
            "Epoch 64/100\n",
            "2/2 [==============================] - 0s 5ms/step - loss: 1.7421 - mae: 1.7421 - mse: 4.1759\n",
            "Epoch 65/100\n",
            "2/2 [==============================] - 0s 4ms/step - loss: 1.4759 - mae: 1.4759 - mse: 3.5073\n",
            "Epoch 66/100\n",
            "2/2 [==============================] - 0s 4ms/step - loss: 1.1365 - mae: 1.1365 - mse: 1.9358\n",
            "Epoch 67/100\n",
            "2/2 [==============================] - 0s 3ms/step - loss: 1.0999 - mae: 1.0999 - mse: 1.8361\n",
            "Epoch 68/100\n",
            "2/2 [==============================] - 0s 5ms/step - loss: 1.5686 - mae: 1.5686 - mse: 3.5907\n",
            "Epoch 69/100\n",
            "2/2 [==============================] - 0s 4ms/step - loss: 0.8635 - mae: 0.8635 - mse: 1.1105\n",
            "Epoch 70/100\n",
            "2/2 [==============================] - 0s 5ms/step - loss: 2.5876 - mae: 2.5876 - mse: 9.4562\n",
            "Epoch 71/100\n",
            "2/2 [==============================] - 0s 6ms/step - loss: 1.0205 - mae: 1.0205 - mse: 1.7336\n",
            "Epoch 72/100\n",
            "2/2 [==============================] - 0s 4ms/step - loss: 2.8945 - mae: 2.8945 - mse: 11.6868\n",
            "Epoch 73/100\n",
            "2/2 [==============================] - 0s 4ms/step - loss: 1.1747 - mae: 1.1747 - mse: 1.9593\n",
            "Epoch 74/100\n",
            "2/2 [==============================] - 0s 3ms/step - loss: 1.5189 - mae: 1.5189 - mse: 3.5637\n",
            "Epoch 75/100\n",
            "2/2 [==============================] - 0s 6ms/step - loss: 1.0080 - mae: 1.0080 - mse: 1.3980\n",
            "Epoch 76/100\n",
            "2/2 [==============================] - 0s 3ms/step - loss: 0.6529 - mae: 0.6529 - mse: 0.8393\n",
            "Epoch 77/100\n",
            "2/2 [==============================] - 0s 3ms/step - loss: 1.7236 - mae: 1.7236 - mse: 4.5350\n",
            "Epoch 78/100\n",
            "2/2 [==============================] - 0s 4ms/step - loss: 0.8304 - mae: 0.8304 - mse: 1.0687\n",
            "Epoch 79/100\n",
            "2/2 [==============================] - 0s 4ms/step - loss: 0.6717 - mae: 0.6717 - mse: 1.0492\n",
            "Epoch 80/100\n",
            "2/2 [==============================] - 0s 4ms/step - loss: 1.1418 - mae: 1.1418 - mse: 2.2158\n",
            "Epoch 81/100\n",
            "2/2 [==============================] - 0s 4ms/step - loss: 1.8235 - mae: 1.8235 - mse: 4.5279\n",
            "Epoch 82/100\n",
            "2/2 [==============================] - 0s 3ms/step - loss: 2.3365 - mae: 2.3365 - mse: 7.9619\n",
            "Epoch 83/100\n",
            "2/2 [==============================] - 0s 4ms/step - loss: 0.3420 - mae: 0.3420 - mse: 0.1815\n",
            "Epoch 84/100\n",
            "2/2 [==============================] - 0s 4ms/step - loss: 0.5689 - mae: 0.5689 - mse: 0.4623\n",
            "Epoch 85/100\n",
            "2/2 [==============================] - 0s 9ms/step - loss: 0.4190 - mae: 0.4190 - mse: 0.4188\n",
            "Epoch 86/100\n",
            "2/2 [==============================] - 0s 4ms/step - loss: 0.8854 - mae: 0.8854 - mse: 1.2188\n",
            "Epoch 87/100\n",
            "2/2 [==============================] - 0s 4ms/step - loss: 1.9538 - mae: 1.9538 - mse: 5.8218\n",
            "Epoch 88/100\n",
            "2/2 [==============================] - 0s 4ms/step - loss: 1.6534 - mae: 1.6534 - mse: 4.2639\n",
            "Epoch 89/100\n",
            "2/2 [==============================] - 0s 4ms/step - loss: 2.0761 - mae: 2.0761 - mse: 6.6431\n",
            "Epoch 90/100\n",
            "2/2 [==============================] - 0s 4ms/step - loss: 2.4829 - mae: 2.4829 - mse: 9.0041\n",
            "Epoch 91/100\n",
            "2/2 [==============================] - 0s 4ms/step - loss: 0.6056 - mae: 0.6056 - mse: 0.7308\n",
            "Epoch 92/100\n",
            "2/2 [==============================] - 0s 4ms/step - loss: 0.7974 - mae: 0.7974 - mse: 0.9400\n",
            "Epoch 93/100\n",
            "2/2 [==============================] - 0s 4ms/step - loss: 0.6855 - mae: 0.6855 - mse: 0.7485\n",
            "Epoch 94/100\n",
            "2/2 [==============================] - 0s 4ms/step - loss: 1.3886 - mae: 1.3886 - mse: 2.7634\n",
            "Epoch 95/100\n",
            "2/2 [==============================] - 0s 4ms/step - loss: 0.8975 - mae: 0.8975 - mse: 1.1863\n",
            "Epoch 96/100\n",
            "2/2 [==============================] - 0s 4ms/step - loss: 1.1751 - mae: 1.1751 - mse: 1.9227\n",
            "Epoch 97/100\n",
            "2/2 [==============================] - 0s 4ms/step - loss: 0.5464 - mae: 0.5464 - mse: 0.4316\n",
            "Epoch 98/100\n",
            "2/2 [==============================] - 0s 5ms/step - loss: 0.4324 - mae: 0.4324 - mse: 0.4468\n",
            "Epoch 99/100\n",
            "2/2 [==============================] - 0s 3ms/step - loss: 1.3997 - mae: 1.3997 - mse: 2.8242\n",
            "Epoch 100/100\n",
            "2/2 [==============================] - 0s 3ms/step - loss: 0.7237 - mae: 0.7237 - mse: 0.8413\n"
          ]
        },
        {
          "output_type": "execute_result",
          "data": {
            "text/plain": [
              "<keras.callbacks.History at 0x7f7aae51c150>"
            ]
          },
          "metadata": {},
          "execution_count": 80
        }
      ]
    },
    {
      "cell_type": "markdown",
      "source": [
        "### Visualizing our model's predictions"
      ],
      "metadata": {
        "id": "yFZNZvONiu8w"
      }
    },
    {
      "cell_type": "code",
      "source": [
        "# Make some predictions\n",
        "\n",
        "y_pred = model.predict(X_test)\n",
        "y_pred"
      ],
      "metadata": {
        "id": "Zucfiem6hGXc",
        "outputId": "3d8973a0-a4ae-4290-9a53-61783f6a8bc1",
        "colab": {
          "base_uri": "https://localhost:8080/"
        }
      },
      "execution_count": 81,
      "outputs": [
        {
          "output_type": "execute_result",
          "data": {
            "text/plain": [
              "array([[ 70.94775],\n",
              "       [ 75.00783],\n",
              "       [ 79.06791],\n",
              "       [ 83.128  ],\n",
              "       [ 87.18807],\n",
              "       [ 91.24815],\n",
              "       [ 95.30824],\n",
              "       [ 99.36831],\n",
              "       [103.42838],\n",
              "       [107.48848]], dtype=float32)"
            ]
          },
          "metadata": {},
          "execution_count": 81
        }
      ]
    },
    {
      "cell_type": "code",
      "source": [
        "Y_test"
      ],
      "metadata": {
        "id": "ZgDjzM82jDxt",
        "outputId": "11b62b90-4f6c-4685-8b45-c37e5212d96a",
        "colab": {
          "base_uri": "https://localhost:8080/"
        }
      },
      "execution_count": 82,
      "outputs": [
        {
          "output_type": "execute_result",
          "data": {
            "text/plain": [
              "<tf.Tensor: shape=(10,), dtype=int32, numpy=array([ 70,  74,  78,  82,  86,  90,  94,  98, 102, 106], dtype=int32)>"
            ]
          },
          "metadata": {},
          "execution_count": 82
        }
      ]
    },
    {
      "cell_type": "code",
      "source": [
        "# Let's create a plotting function\n",
        "\n",
        "def plot_prediction(train_data = X_train,\n",
        "                     train_labels = Y_train,\n",
        "                     test_data = X_test,\n",
        "                     test_labels = Y_test,\n",
        "                     predictions = y_pred):\n",
        "  \"\"\"\n",
        "  Plots training data ,testing data and prediction data to compare it with grounftruth labels\n",
        "  \"\"\"\n",
        "  plt.figure(figsize = (10, 7))\n",
        "  # Plot training data in blue\n",
        "  plt.scatter(X_train, Y_train, c=\"b\", label = \"Training data\")\n",
        "  # Plot testing data in red\n",
        "  plt.scatter(X_test, Y_test, c=\"r\", label = \"Testing data\")\n",
        "  # Plot testing data in red\n",
        "  plt.scatter(X_test, y_pred, c=\"g\", label = \"Prediction data\")\n",
        "  plt.legend()\n",
        "  plt.show()\n",
        "\n",
        "plot_prediction()"
      ],
      "metadata": {
        "id": "cuV5fR2yjIGz",
        "outputId": "7f81533f-e700-4bcd-8034-30320b9996f4",
        "colab": {
          "base_uri": "https://localhost:8080/",
          "height": 0
        }
      },
      "execution_count": 83,
      "outputs": [
        {
          "output_type": "display_data",
          "data": {
            "text/plain": [
              "<Figure size 720x504 with 1 Axes>"
            ],
            "image/png": "[encoded data removed]"
          },
          "metadata": {
            "needs_background": "light"
          }
        }
      ]
    },
    {
      "cell_type": "markdown",
      "source": [
        "### EValuting our model's prediction with regression evalution metrics"
      ],
      "metadata": {
        "id": "Ol5arALdkhlO"
      }
    },
    {
      "cell_type": "code",
      "source": [
        "# Evaluate the model on the test\n",
        "model.evaluate(X_test,Y_test)"
      ],
      "metadata": {
        "id": "mq2zNC5vk16o",
        "outputId": "f3f0f473-86f3-4b6f-8a4a-c70f1d88e5c9",
        "colab": {
          "base_uri": "https://localhost:8080/"
        }
      },
      "execution_count": 84,
      "outputs": [
        {
          "output_type": "stream",
          "name": "stdout",
          "text": [
            "1/1 [==============================] - 0s 126ms/step - loss: 1.2181 - mae: 1.2181 - mse: 1.5136\n"
          ]
        },
        {
          "output_type": "execute_result",
          "data": {
            "text/plain": [
              "[1.2181129455566406, 1.2181129455566406, 1.5135784149169922]"
            ]
          },
          "metadata": {},
          "execution_count": 84
        }
      ]
    },
    {
      "cell_type": "code",
      "source": [
        "# Calculate the mean absolute error\n",
        "tf.metrics.mean_absolute_error(Y_test, tf.squeeze(tf.constant(y_pred)))"
      ],
      "metadata": {
        "id": "EK9lI5x8tdYr",
        "outputId": "5f3eeb91-626f-4bef-b095-e3c4fcde27ba",
        "colab": {
          "base_uri": "https://localhost:8080/"
        }
      },
      "execution_count": 85,
      "outputs": [
        {
          "output_type": "execute_result",
          "data": {
            "text/plain": [
              "<tf.Tensor: shape=(), dtype=float32, numpy=1.2181122>"
            ]
          },
          "metadata": {},
          "execution_count": 85
        }
      ]
    },
    {
      "cell_type": "code",
      "source": [
        "# Calculate the mean square error\n",
        "tf.metrics.mean_squared_error(Y_test, tf.squeeze(tf.constant(y_pred)))"
      ],
      "metadata": {
        "id": "3M6q75KNufiR",
        "outputId": "6b79b091-cda1-48ec-995d-0c8aed886b59",
        "colab": {
          "base_uri": "https://localhost:8080/"
        }
      },
      "execution_count": 86,
      "outputs": [
        {
          "output_type": "execute_result",
          "data": {
            "text/plain": [
              "<tf.Tensor: shape=(), dtype=float32, numpy=1.5135772>"
            ]
          },
          "metadata": {},
          "execution_count": 86
        }
      ]
    },
    {
      "cell_type": "code",
      "source": [
        "# Callculate the metrics \n",
        "def mae(y_true, y_pred):\n",
        "  return tf.metrics.mean_absolute_error(y_true, tf.squeeze(tf.constant(y_pred)))\n",
        "\n",
        "def mse(y_true, y_pred):\n",
        "  return tf.metrics.mean_squared_error(y_true, tf.squeeze(tf.constant(y_pred)))"
      ],
      "metadata": {
        "id": "ey9XsBDTvTR0"
      },
      "execution_count": 87,
      "outputs": []
    },
    {
      "cell_type": "markdown",
      "source": [
        "### Running experiments to improve our model\n",
        "\n",
        "```\n",
        "Build a model -> fit it -> evalute it -> tweak it -> tweak it -> fit it -> evalute it -> tweak it -> fit it -> evaluate it ...\n",
        "```\n",
        "1. Get more data - get more examples for your model to train on ( more opportunities to learn patterns or relationships between features and labels).\n",
        "2. Make your model larger( using a more complex model)- this might come in the form of more layers or more hidden units in each layer\n",
        "3. Train for longer - give your model more of a chance to find patterns in the data.\n",
        "\n",
        "Let's do 3 modelling experiments:\n",
        "1. `model_1` - same as the original model, 1 layerm trained for 100 epochs.\n",
        "2. `model_2`  - 2 layers, trained for 100 epochs\n",
        "3. `model_3` - 2 layers, trained for 500 epochs."
      ],
      "metadata": {
        "id": "pxIQRsnwlTl2"
      }
    },
    {
      "cell_type": "markdown",
      "source": [
        "**Build Model -1**"
      ],
      "metadata": {
        "id": "guI6w65epw4D"
      }
    },
    {
      "cell_type": "code",
      "source": [
        "# set random seed\n",
        "tf.random.set_seed(42)\n",
        "\n",
        "#1. Create a model\n",
        "model_1 = tf.keras.Sequential([\n",
        "    tf.keras.layers.Dense(1)\n",
        "])\n",
        "\n",
        "#2. Compile the model\n",
        "model_1.compile(loss = tf.keras.losses.mae,\n",
        "                optimizer = tf.keras.optimizers.SGD(),\n",
        "                metrics = [\"mae\"])\n",
        "\n",
        "#3. Fit the model\n",
        "model_1.fit(tf.expand_dims(X_train, axis = -1), Y_train, epochs = 100)"
      ],
      "metadata": {
        "id": "CEipFxPXmrKU",
        "outputId": "ccf842a9-55a3-48a7-d582-05b8a3be3001",
        "colab": {
          "base_uri": "https://localhost:8080/"
        }
      },
      "execution_count": 88,
      "outputs": [
        {
          "output_type": "stream",
          "name": "stdout",
          "text": [
            "Epoch 1/100\n",
            "2/2 [==============================] - 0s 6ms/step - loss: 15.9024 - mae: 15.9024\n",
            "Epoch 2/100\n",
            "2/2 [==============================] - 0s 5ms/step - loss: 11.2837 - mae: 11.2837\n",
            "Epoch 3/100\n",
            "2/2 [==============================] - 0s 4ms/step - loss: 11.1074 - mae: 11.1074\n",
            "Epoch 4/100\n",
            "2/2 [==============================] - 0s 3ms/step - loss: 9.2991 - mae: 9.2991\n",
            "Epoch 5/100\n",
            "2/2 [==============================] - 0s 3ms/step - loss: 10.1677 - mae: 10.1677\n",
            "Epoch 6/100\n",
            "2/2 [==============================] - 0s 3ms/step - loss: 9.4303 - mae: 9.4303\n",
            "Epoch 7/100\n",
            "2/2 [==============================] - 0s 5ms/step - loss: 8.5704 - mae: 8.5704\n",
            "Epoch 8/100\n",
            "2/2 [==============================] - 0s 6ms/step - loss: 9.0442 - mae: 9.0442\n",
            "Epoch 9/100\n",
            "2/2 [==============================] - 0s 3ms/step - loss: 18.7517 - mae: 18.7517\n",
            "Epoch 10/100\n",
            "2/2 [==============================] - 0s 4ms/step - loss: 10.1142 - mae: 10.1142\n",
            "Epoch 11/100\n",
            "2/2 [==============================] - 0s 4ms/step - loss: 8.3980 - mae: 8.3980\n",
            "Epoch 12/100\n",
            "2/2 [==============================] - 0s 5ms/step - loss: 10.6639 - mae: 10.6639\n",
            "Epoch 13/100\n",
            "2/2 [==============================] - 0s 4ms/step - loss: 9.7977 - mae: 9.7977\n",
            "Epoch 14/100\n",
            "2/2 [==============================] - 0s 3ms/step - loss: 16.0103 - mae: 16.0103\n",
            "Epoch 15/100\n",
            "2/2 [==============================] - 0s 5ms/step - loss: 11.4068 - mae: 11.4068\n",
            "Epoch 16/100\n",
            "2/2 [==============================] - 0s 4ms/step - loss: 8.5393 - mae: 8.5393\n",
            "Epoch 17/100\n",
            "2/2 [==============================] - 0s 4ms/step - loss: 13.6348 - mae: 13.6348\n",
            "Epoch 18/100\n",
            "2/2 [==============================] - 0s 4ms/step - loss: 11.4629 - mae: 11.4629\n",
            "Epoch 19/100\n",
            "2/2 [==============================] - 0s 8ms/step - loss: 17.9148 - mae: 17.9148\n",
            "Epoch 20/100\n",
            "2/2 [==============================] - 0s 4ms/step - loss: 15.0494 - mae: 15.0494\n",
            "Epoch 21/100\n",
            "2/2 [==============================] - 0s 4ms/step - loss: 11.0216 - mae: 11.0216\n",
            "Epoch 22/100\n",
            "2/2 [==============================] - 0s 4ms/step - loss: 8.1558 - mae: 8.1558\n",
            "Epoch 23/100\n",
            "2/2 [==============================] - 0s 4ms/step - loss: 9.5138 - mae: 9.5138\n",
            "Epoch 24/100\n",
            "2/2 [==============================] - 0s 4ms/step - loss: 7.6617 - mae: 7.6617\n",
            "Epoch 25/100\n",
            "2/2 [==============================] - 0s 4ms/step - loss: 13.1859 - mae: 13.1859\n",
            "Epoch 26/100\n",
            "2/2 [==============================] - 0s 4ms/step - loss: 16.4211 - mae: 16.4211\n",
            "Epoch 27/100\n",
            "2/2 [==============================] - 0s 4ms/step - loss: 13.1660 - mae: 13.1660\n",
            "Epoch 28/100\n",
            "2/2 [==============================] - 0s 4ms/step - loss: 14.2559 - mae: 14.2559\n",
            "Epoch 29/100\n",
            "2/2 [==============================] - 0s 4ms/step - loss: 10.0670 - mae: 10.0670\n",
            "Epoch 30/100\n",
            "2/2 [==============================] - 0s 4ms/step - loss: 16.3409 - mae: 16.3409\n",
            "Epoch 31/100\n",
            "2/2 [==============================] - 0s 4ms/step - loss: 23.6444 - mae: 23.6444\n",
            "Epoch 32/100\n",
            "2/2 [==============================] - 0s 5ms/step - loss: 7.6215 - mae: 7.6215\n",
            "Epoch 33/100\n",
            "2/2 [==============================] - 0s 7ms/step - loss: 9.3221 - mae: 9.3221\n",
            "Epoch 34/100\n",
            "2/2 [==============================] - 0s 6ms/step - loss: 13.7313 - mae: 13.7313\n",
            "Epoch 35/100\n",
            "2/2 [==============================] - 0s 5ms/step - loss: 11.1276 - mae: 11.1276\n",
            "Epoch 36/100\n",
            "2/2 [==============================] - 0s 4ms/step - loss: 13.3222 - mae: 13.3222\n",
            "Epoch 37/100\n",
            "2/2 [==============================] - 0s 5ms/step - loss: 9.4763 - mae: 9.4763\n",
            "Epoch 38/100\n",
            "2/2 [==============================] - 0s 3ms/step - loss: 10.1381 - mae: 10.1381\n",
            "Epoch 39/100\n",
            "2/2 [==============================] - 0s 4ms/step - loss: 10.1793 - mae: 10.1793\n",
            "Epoch 40/100\n",
            "2/2 [==============================] - 0s 5ms/step - loss: 10.9137 - mae: 10.9137\n",
            "Epoch 41/100\n",
            "2/2 [==============================] - 0s 5ms/step - loss: 7.9063 - mae: 7.9063\n",
            "Epoch 42/100\n",
            "2/2 [==============================] - 0s 3ms/step - loss: 10.0914 - mae: 10.0914\n",
            "Epoch 43/100\n",
            "2/2 [==============================] - 0s 4ms/step - loss: 8.7006 - mae: 8.7006\n",
            "Epoch 44/100\n",
            "2/2 [==============================] - 0s 4ms/step - loss: 12.2047 - mae: 12.2047\n",
            "Epoch 45/100\n",
            "2/2 [==============================] - 0s 4ms/step - loss: 13.7970 - mae: 13.7970\n",
            "Epoch 46/100\n",
            "2/2 [==============================] - 0s 4ms/step - loss: 8.4687 - mae: 8.4687\n",
            "Epoch 47/100\n",
            "2/2 [==============================] - 0s 4ms/step - loss: 9.1330 - mae: 9.1330\n",
            "Epoch 48/100\n",
            "2/2 [==============================] - 0s 4ms/step - loss: 10.6190 - mae: 10.6190\n",
            "Epoch 49/100\n",
            "2/2 [==============================] - 0s 4ms/step - loss: 7.7503 - mae: 7.7503\n",
            "Epoch 50/100\n",
            "2/2 [==============================] - 0s 4ms/step - loss: 9.5407 - mae: 9.5407\n",
            "Epoch 51/100\n",
            "2/2 [==============================] - 0s 4ms/step - loss: 9.1584 - mae: 9.1584\n",
            "Epoch 52/100\n",
            "2/2 [==============================] - 0s 4ms/step - loss: 16.3630 - mae: 16.3630\n",
            "Epoch 53/100\n",
            "2/2 [==============================] - 0s 8ms/step - loss: 14.1299 - mae: 14.1299\n",
            "Epoch 54/100\n",
            "2/2 [==============================] - 0s 4ms/step - loss: 21.1247 - mae: 21.1247\n",
            "Epoch 55/100\n",
            "2/2 [==============================] - 0s 4ms/step - loss: 16.3961 - mae: 16.3961\n",
            "Epoch 56/100\n",
            "2/2 [==============================] - 0s 5ms/step - loss: 9.9806 - mae: 9.9806\n",
            "Epoch 57/100\n",
            "2/2 [==============================] - 0s 5ms/step - loss: 9.9606 - mae: 9.9606\n",
            "Epoch 58/100\n",
            "2/2 [==============================] - 0s 4ms/step - loss: 9.2209 - mae: 9.2209\n",
            "Epoch 59/100\n",
            "2/2 [==============================] - 0s 4ms/step - loss: 8.4239 - mae: 8.4239\n",
            "Epoch 60/100\n",
            "2/2 [==============================] - 0s 4ms/step - loss: 9.4869 - mae: 9.4869\n",
            "Epoch 61/100\n",
            "2/2 [==============================] - 0s 4ms/step - loss: 11.4355 - mae: 11.4355\n",
            "Epoch 62/100\n",
            "2/2 [==============================] - 0s 5ms/step - loss: 11.6887 - mae: 11.6887\n",
            "Epoch 63/100\n",
            "2/2 [==============================] - 0s 4ms/step - loss: 7.0838 - mae: 7.0838\n",
            "Epoch 64/100\n",
            "2/2 [==============================] - 0s 8ms/step - loss: 16.9675 - mae: 16.9675\n",
            "Epoch 65/100\n",
            "2/2 [==============================] - 0s 4ms/step - loss: 12.4599 - mae: 12.4599\n",
            "Epoch 66/100\n",
            "2/2 [==============================] - 0s 4ms/step - loss: 13.0184 - mae: 13.0184\n",
            "Epoch 67/100\n",
            "2/2 [==============================] - 0s 4ms/step - loss: 8.0600 - mae: 8.0600\n",
            "Epoch 68/100\n",
            "2/2 [==============================] - 0s 5ms/step - loss: 10.1888 - mae: 10.1888\n",
            "Epoch 69/100\n",
            "2/2 [==============================] - 0s 6ms/step - loss: 12.3633 - mae: 12.3633\n",
            "Epoch 70/100\n",
            "2/2 [==============================] - 0s 5ms/step - loss: 9.0516 - mae: 9.0516\n",
            "Epoch 71/100\n",
            "2/2 [==============================] - 0s 5ms/step - loss: 10.0378 - mae: 10.0378\n",
            "Epoch 72/100\n",
            "2/2 [==============================] - 0s 7ms/step - loss: 10.0516 - mae: 10.0516\n",
            "Epoch 73/100\n",
            "2/2 [==============================] - 0s 4ms/step - loss: 12.6151 - mae: 12.6151\n",
            "Epoch 74/100\n",
            "2/2 [==============================] - 0s 5ms/step - loss: 10.3819 - mae: 10.3819\n",
            "Epoch 75/100\n",
            "2/2 [==============================] - 0s 4ms/step - loss: 9.7229 - mae: 9.7229\n",
            "Epoch 76/100\n",
            "2/2 [==============================] - 0s 4ms/step - loss: 11.2252 - mae: 11.2252\n",
            "Epoch 77/100\n",
            "2/2 [==============================] - 0s 5ms/step - loss: 8.3642 - mae: 8.3642\n",
            "Epoch 78/100\n",
            "2/2 [==============================] - 0s 5ms/step - loss: 9.1274 - mae: 9.1274\n",
            "Epoch 79/100\n",
            "2/2 [==============================] - 0s 4ms/step - loss: 19.5039 - mae: 19.5039\n",
            "Epoch 80/100\n",
            "2/2 [==============================] - 0s 5ms/step - loss: 14.8945 - mae: 14.8945\n",
            "Epoch 81/100\n",
            "2/2 [==============================] - 0s 11ms/step - loss: 9.0034 - mae: 9.0034\n",
            "Epoch 82/100\n",
            "2/2 [==============================] - 0s 5ms/step - loss: 13.0206 - mae: 13.0206\n",
            "Epoch 83/100\n",
            "2/2 [==============================] - 0s 5ms/step - loss: 7.9299 - mae: 7.9299\n",
            "Epoch 84/100\n",
            "2/2 [==============================] - 0s 5ms/step - loss: 7.6872 - mae: 7.6872\n",
            "Epoch 85/100\n",
            "2/2 [==============================] - 0s 4ms/step - loss: 10.0328 - mae: 10.0328\n",
            "Epoch 86/100\n",
            "2/2 [==============================] - 0s 4ms/step - loss: 9.2433 - mae: 9.2433\n",
            "Epoch 87/100\n",
            "2/2 [==============================] - 0s 5ms/step - loss: 12.0209 - mae: 12.0209\n",
            "Epoch 88/100\n",
            "2/2 [==============================] - 0s 5ms/step - loss: 10.6389 - mae: 10.6389\n",
            "Epoch 89/100\n",
            "2/2 [==============================] - 0s 4ms/step - loss: 7.2667 - mae: 7.2667\n",
            "Epoch 90/100\n",
            "2/2 [==============================] - 0s 6ms/step - loss: 12.7786 - mae: 12.7786\n",
            "Epoch 91/100\n",
            "2/2 [==============================] - 0s 5ms/step - loss: 7.3481 - mae: 7.3481\n",
            "Epoch 92/100\n",
            "2/2 [==============================] - 0s 5ms/step - loss: 7.7175 - mae: 7.7175\n",
            "Epoch 93/100\n",
            "2/2 [==============================] - 0s 4ms/step - loss: 7.1263 - mae: 7.1263\n",
            "Epoch 94/100\n",
            "2/2 [==============================] - 0s 4ms/step - loss: 12.6190 - mae: 12.6190\n",
            "Epoch 95/100\n",
            "2/2 [==============================] - 0s 5ms/step - loss: 10.0912 - mae: 10.0912\n",
            "Epoch 96/100\n",
            "2/2 [==============================] - 0s 4ms/step - loss: 9.3558 - mae: 9.3558\n",
            "Epoch 97/100\n",
            "2/2 [==============================] - 0s 5ms/step - loss: 12.6834 - mae: 12.6834\n",
            "Epoch 98/100\n",
            "2/2 [==============================] - 0s 4ms/step - loss: 8.6762 - mae: 8.6762\n",
            "Epoch 99/100\n",
            "2/2 [==============================] - 0s 4ms/step - loss: 9.4693 - mae: 9.4693\n",
            "Epoch 100/100\n",
            "2/2 [==============================] - 0s 4ms/step - loss: 8.7067 - mae: 8.7067\n"
          ]
        },
        {
          "output_type": "execute_result",
          "data": {
            "text/plain": [
              "<keras.callbacks.History at 0x7f7aad9c43d0>"
            ]
          },
          "metadata": {},
          "execution_count": 88
        }
      ]
    },
    {
      "cell_type": "code",
      "source": [
        "# Make and plot predictions for model_1\n",
        "y_preds_1 = model_1.predict(X_test)\n",
        "plot_prediction(predictions = y_preds_1)"
      ],
      "metadata": {
        "id": "GV2BXtipoo7N",
        "outputId": "f94b6e72-0fb5-4ff4-90f7-76c361b8a7ed",
        "colab": {
          "base_uri": "https://localhost:8080/",
          "height": 0
        }
      },
      "execution_count": 89,
      "outputs": [
        {
          "output_type": "display_data",
          "data": {
            "text/plain": [
              "<Figure size 720x504 with 1 Axes>"
            ],
            "image/png": "[encoded data removed]"
          },
          "metadata": {
            "needs_background": "light"
          }
        }
      ]
    },
    {
      "cell_type": "code",
      "source": [
        "# Calculate model_1 evalution metrics\n",
        "mae_1 = mae(Y_test, tf.squeeze(y_preds_1))\n",
        "mse_1 = mse(Y_test, tf.squeeze(y_preds_1))\n",
        "\n",
        "mae_1, mse_1"
      ],
      "metadata": {
        "id": "R3G47wV5pHSX",
        "outputId": "c6dfa875-8c23-4bb4-9cdf-15e0ee5c6622",
        "colab": {
          "base_uri": "https://localhost:8080/"
        }
      },
      "execution_count": 90,
      "outputs": [
        {
          "output_type": "execute_result",
          "data": {
            "text/plain": [
              "(<tf.Tensor: shape=(), dtype=float32, numpy=18.745327>,\n",
              " <tf.Tensor: shape=(), dtype=float32, numpy=353.57336>)"
            ]
          },
          "metadata": {},
          "execution_count": 90
        }
      ]
    },
    {
      "cell_type": "markdown",
      "source": [
        "**Build Model 2**"
      ],
      "metadata": {
        "id": "E4Qm2xXvp3Td"
      }
    },
    {
      "cell_type": "code",
      "source": [
        "# set random seed\n",
        "tf.random.set_seed(42)\n",
        "\n",
        "#1. Create a model\n",
        "model_2 = tf.keras.Sequential([\n",
        "    tf.keras.layers.Dense(64, activation = \"relu\"),\n",
        "    tf.keras.layers.Dense(1)\n",
        "])\n",
        "\n",
        "#2. Compile the model\n",
        "model_2.compile(loss = tf.keras.losses.mae,\n",
        "                optimizer = tf.keras.optimizers.Adam(lr = 0.01),\n",
        "                metrics = [\"mse\"])\n",
        "\n",
        "#3. Fit the model\n",
        "model_2.fit(tf.expand_dims(X_train, axis = -1), Y_train, epochs = 100)"
      ],
      "metadata": {
        "id": "1qOl51dNpeDf",
        "outputId": "93ad1673-be5b-46f9-c748-a3b70d28adb7",
        "colab": {
          "base_uri": "https://localhost:8080/"
        }
      },
      "execution_count": 91,
      "outputs": [
        {
          "output_type": "stream",
          "name": "stdout",
          "text": [
            "Epoch 1/100\n",
            "2/2 [==============================] - 0s 8ms/step - loss: 43.3544 - mse: 2662.2827\n",
            "Epoch 2/100\n",
            "2/2 [==============================] - 0s 5ms/step - loss: 35.5962 - mse: 1814.1895\n",
            "Epoch 3/100\n",
            "2/2 [==============================] - 0s 7ms/step - loss: 28.1192 - mse: 1144.8695\n",
            "Epoch 4/100\n",
            "2/2 [==============================] - 0s 5ms/step - loss: 20.4840 - mse: 628.8112\n",
            "Epoch 5/100\n",
            "2/2 [==============================] - 0s 5ms/step - loss: 12.9946 - mse: 280.3784\n",
            "Epoch 6/100\n",
            "2/2 [==============================] - 0s 5ms/step - loss: 6.9888 - mse: 80.2960\n",
            "Epoch 7/100\n",
            "2/2 [==============================] - 0s 3ms/step - loss: 5.9711 - mse: 57.3622\n",
            "Epoch 8/100\n",
            "2/2 [==============================] - 0s 7ms/step - loss: 10.1001 - mse: 126.0530\n",
            "Epoch 9/100\n",
            "2/2 [==============================] - 0s 4ms/step - loss: 10.6464 - mse: 142.6120\n",
            "Epoch 10/100\n",
            "2/2 [==============================] - 0s 4ms/step - loss: 8.5446 - mse: 101.2881\n",
            "Epoch 11/100\n",
            "2/2 [==============================] - 0s 4ms/step - loss: 6.0209 - mse: 59.7433\n",
            "Epoch 12/100\n",
            "2/2 [==============================] - 0s 4ms/step - loss: 5.4601 - mse: 40.1249\n",
            "Epoch 13/100\n",
            "2/2 [==============================] - 0s 3ms/step - loss: 5.1183 - mse: 36.5069\n",
            "Epoch 14/100\n",
            "2/2 [==============================] - 0s 7ms/step - loss: 4.9813 - mse: 33.5265\n",
            "Epoch 15/100\n",
            "2/2 [==============================] - 0s 3ms/step - loss: 4.9499 - mse: 30.7236\n",
            "Epoch 16/100\n",
            "2/2 [==============================] - 0s 4ms/step - loss: 4.7539 - mse: 30.0877\n",
            "Epoch 17/100\n",
            "2/2 [==============================] - 0s 3ms/step - loss: 4.4353 - mse: 28.1701\n",
            "Epoch 18/100\n",
            "2/2 [==============================] - 0s 3ms/step - loss: 4.0575 - mse: 24.4692\n",
            "Epoch 19/100\n",
            "2/2 [==============================] - 0s 4ms/step - loss: 4.0310 - mse: 23.1904\n",
            "Epoch 20/100\n",
            "2/2 [==============================] - 0s 3ms/step - loss: 4.1516 - mse: 23.6718\n",
            "Epoch 21/100\n",
            "2/2 [==============================] - 0s 9ms/step - loss: 4.1091 - mse: 23.3672\n",
            "Epoch 22/100\n",
            "2/2 [==============================] - 0s 4ms/step - loss: 3.9665 - mse: 22.5035\n",
            "Epoch 23/100\n",
            "2/2 [==============================] - 0s 9ms/step - loss: 3.9425 - mse: 22.5989\n",
            "Epoch 24/100\n",
            "2/2 [==============================] - 0s 4ms/step - loss: 3.9222 - mse: 22.7937\n",
            "Epoch 25/100\n",
            "2/2 [==============================] - 0s 4ms/step - loss: 3.9352 - mse: 22.8747\n",
            "Epoch 26/100\n",
            "2/2 [==============================] - 0s 4ms/step - loss: 3.9034 - mse: 22.6475\n",
            "Epoch 27/100\n",
            "2/2 [==============================] - 0s 3ms/step - loss: 3.7860 - mse: 21.1400\n",
            "Epoch 28/100\n",
            "2/2 [==============================] - 0s 4ms/step - loss: 3.7541 - mse: 20.2377\n",
            "Epoch 29/100\n",
            "2/2 [==============================] - 0s 4ms/step - loss: 3.8100 - mse: 20.3549\n",
            "Epoch 30/100\n",
            "2/2 [==============================] - 0s 4ms/step - loss: 3.8192 - mse: 20.1351\n",
            "Epoch 31/100\n",
            "2/2 [==============================] - 0s 4ms/step - loss: 3.7698 - mse: 19.9551\n",
            "Epoch 32/100\n",
            "2/2 [==============================] - 0s 4ms/step - loss: 3.7214 - mse: 20.5630\n",
            "Epoch 33/100\n",
            "2/2 [==============================] - 0s 3ms/step - loss: 3.6660 - mse: 19.9827\n",
            "Epoch 34/100\n",
            "2/2 [==============================] - 0s 3ms/step - loss: 3.5734 - mse: 18.7706\n",
            "Epoch 35/100\n",
            "2/2 [==============================] - 0s 4ms/step - loss: 3.5499 - mse: 18.1527\n",
            "Epoch 36/100\n",
            "2/2 [==============================] - 0s 4ms/step - loss: 3.6672 - mse: 18.6317\n",
            "Epoch 37/100\n",
            "2/2 [==============================] - 0s 3ms/step - loss: 3.6544 - mse: 18.5214\n",
            "Epoch 38/100\n",
            "2/2 [==============================] - 0s 5ms/step - loss: 3.4594 - mse: 17.0642\n",
            "Epoch 39/100\n",
            "2/2 [==============================] - 0s 4ms/step - loss: 3.4648 - mse: 17.9499\n",
            "Epoch 40/100\n",
            "2/2 [==============================] - 0s 4ms/step - loss: 3.5729 - mse: 18.7096\n",
            "Epoch 41/100\n",
            "2/2 [==============================] - 0s 4ms/step - loss: 3.3311 - mse: 16.4424\n",
            "Epoch 42/100\n",
            "2/2 [==============================] - 0s 4ms/step - loss: 3.3395 - mse: 15.8166\n",
            "Epoch 43/100\n",
            "2/2 [==============================] - 0s 4ms/step - loss: 3.4270 - mse: 16.1699\n",
            "Epoch 44/100\n",
            "2/2 [==============================] - 0s 7ms/step - loss: 3.3469 - mse: 15.5489\n",
            "Epoch 45/100\n",
            "2/2 [==============================] - 0s 4ms/step - loss: 3.2170 - mse: 15.0015\n",
            "Epoch 46/100\n",
            "2/2 [==============================] - 0s 4ms/step - loss: 3.1413 - mse: 14.6926\n",
            "Epoch 47/100\n",
            "2/2 [==============================] - 0s 4ms/step - loss: 3.1015 - mse: 14.0331\n",
            "Epoch 48/100\n",
            "2/2 [==============================] - 0s 7ms/step - loss: 3.1479 - mse: 13.9170\n",
            "Epoch 49/100\n",
            "2/2 [==============================] - 0s 4ms/step - loss: 3.1616 - mse: 13.9334\n",
            "Epoch 50/100\n",
            "2/2 [==============================] - 0s 4ms/step - loss: 3.1053 - mse: 13.6014\n",
            "Epoch 51/100\n",
            "2/2 [==============================] - 0s 4ms/step - loss: 3.1065 - mse: 13.5359\n",
            "Epoch 52/100\n",
            "2/2 [==============================] - 0s 3ms/step - loss: 3.0283 - mse: 13.0568\n",
            "Epoch 53/100\n",
            "2/2 [==============================] - 0s 4ms/step - loss: 2.8860 - mse: 12.2709\n",
            "Epoch 54/100\n",
            "2/2 [==============================] - 0s 6ms/step - loss: 2.9593 - mse: 12.5447\n",
            "Epoch 55/100\n",
            "2/2 [==============================] - 0s 4ms/step - loss: 2.9530 - mse: 12.6076\n",
            "Epoch 56/100\n",
            "2/2 [==============================] - 0s 5ms/step - loss: 2.8153 - mse: 11.6901\n",
            "Epoch 57/100\n",
            "2/2 [==============================] - 0s 4ms/step - loss: 2.8753 - mse: 11.9450\n",
            "Epoch 58/100\n",
            "2/2 [==============================] - 0s 4ms/step - loss: 2.8404 - mse: 11.6085\n",
            "Epoch 59/100\n",
            "2/2 [==============================] - 0s 4ms/step - loss: 2.7051 - mse: 10.8847\n",
            "Epoch 60/100\n",
            "2/2 [==============================] - 0s 4ms/step - loss: 2.8794 - mse: 11.5786\n",
            "Epoch 61/100\n",
            "2/2 [==============================] - 0s 4ms/step - loss: 2.9082 - mse: 11.5945\n",
            "Epoch 62/100\n",
            "2/2 [==============================] - 0s 4ms/step - loss: 2.6540 - mse: 9.7965\n",
            "Epoch 63/100\n",
            "2/2 [==============================] - 0s 5ms/step - loss: 2.5434 - mse: 9.5621\n",
            "Epoch 64/100\n",
            "2/2 [==============================] - 0s 4ms/step - loss: 2.7899 - mse: 10.2780\n",
            "Epoch 65/100\n",
            "2/2 [==============================] - 0s 4ms/step - loss: 2.4383 - mse: 8.6555\n",
            "Epoch 66/100\n",
            "2/2 [==============================] - 0s 9ms/step - loss: 2.5954 - mse: 9.3314\n",
            "Epoch 67/100\n",
            "2/2 [==============================] - 0s 4ms/step - loss: 2.6684 - mse: 10.1121\n",
            "Epoch 68/100\n",
            "2/2 [==============================] - 0s 4ms/step - loss: 2.4406 - mse: 8.3693\n",
            "Epoch 69/100\n",
            "2/2 [==============================] - 0s 4ms/step - loss: 2.2559 - mse: 7.6348\n",
            "Epoch 70/100\n",
            "2/2 [==============================] - 0s 4ms/step - loss: 2.3053 - mse: 7.4383\n",
            "Epoch 71/100\n",
            "2/2 [==============================] - 0s 6ms/step - loss: 2.1207 - mse: 6.4752\n",
            "Epoch 72/100\n",
            "2/2 [==============================] - 0s 4ms/step - loss: 2.0239 - mse: 5.9290\n",
            "Epoch 73/100\n",
            "2/2 [==============================] - 0s 7ms/step - loss: 1.9463 - mse: 5.6569\n",
            "Epoch 74/100\n",
            "2/2 [==============================] - 0s 7ms/step - loss: 1.9958 - mse: 5.6209\n",
            "Epoch 75/100\n",
            "2/2 [==============================] - 0s 4ms/step - loss: 1.8491 - mse: 4.9043\n",
            "Epoch 76/100\n",
            "2/2 [==============================] - 0s 8ms/step - loss: 1.8237 - mse: 4.5964\n",
            "Epoch 77/100\n",
            "2/2 [==============================] - 0s 4ms/step - loss: 1.6713 - mse: 4.3266\n",
            "Epoch 78/100\n",
            "2/2 [==============================] - 0s 4ms/step - loss: 1.9099 - mse: 4.6064\n",
            "Epoch 79/100\n",
            "2/2 [==============================] - 0s 6ms/step - loss: 1.6522 - mse: 3.7149\n",
            "Epoch 80/100\n",
            "2/2 [==============================] - 0s 6ms/step - loss: 1.6762 - mse: 3.9406\n",
            "Epoch 81/100\n",
            "2/2 [==============================] - 0s 4ms/step - loss: 1.4854 - mse: 3.1387\n",
            "Epoch 82/100\n",
            "2/2 [==============================] - 0s 4ms/step - loss: 2.0187 - mse: 6.6957\n",
            "Epoch 83/100\n",
            "2/2 [==============================] - 0s 6ms/step - loss: 1.6784 - mse: 4.1190\n",
            "Epoch 84/100\n",
            "2/2 [==============================] - 0s 5ms/step - loss: 1.2650 - mse: 2.3228\n",
            "Epoch 85/100\n",
            "2/2 [==============================] - 0s 4ms/step - loss: 1.0754 - mse: 1.7698\n",
            "Epoch 86/100\n",
            "2/2 [==============================] - 0s 7ms/step - loss: 1.1711 - mse: 1.6977\n",
            "Epoch 87/100\n",
            "2/2 [==============================] - 0s 3ms/step - loss: 1.5264 - mse: 3.1232\n",
            "Epoch 88/100\n",
            "2/2 [==============================] - 0s 3ms/step - loss: 0.8070 - mse: 1.3974\n",
            "Epoch 89/100\n",
            "2/2 [==============================] - 0s 4ms/step - loss: 1.6677 - mse: 4.8440\n",
            "Epoch 90/100\n",
            "2/2 [==============================] - 0s 3ms/step - loss: 1.0204 - mse: 1.5543\n",
            "Epoch 91/100\n",
            "2/2 [==============================] - 0s 4ms/step - loss: 1.8780 - mse: 4.5904\n",
            "Epoch 92/100\n",
            "2/2 [==============================] - 0s 6ms/step - loss: 1.2921 - mse: 2.5981\n",
            "Epoch 93/100\n",
            "2/2 [==============================] - 0s 4ms/step - loss: 1.9048 - mse: 6.1477\n",
            "Epoch 94/100\n",
            "2/2 [==============================] - 0s 3ms/step - loss: 1.1815 - mse: 2.0245\n",
            "Epoch 95/100\n",
            "2/2 [==============================] - 0s 3ms/step - loss: 0.6267 - mse: 0.5340\n",
            "Epoch 96/100\n",
            "2/2 [==============================] - 0s 4ms/step - loss: 1.0176 - mse: 1.5588\n",
            "Epoch 97/100\n",
            "2/2 [==============================] - 0s 4ms/step - loss: 1.2692 - mse: 2.1108\n",
            "Epoch 98/100\n",
            "2/2 [==============================] - 0s 4ms/step - loss: 1.3451 - mse: 3.1855\n",
            "Epoch 99/100\n",
            "2/2 [==============================] - 0s 4ms/step - loss: 1.6180 - mse: 4.2936\n",
            "Epoch 100/100\n",
            "2/2 [==============================] - 0s 3ms/step - loss: 1.2068 - mse: 2.1759\n"
          ]
        },
        {
          "output_type": "execute_result",
          "data": {
            "text/plain": [
              "<keras.callbacks.History at 0x7f7aad459710>"
            ]
          },
          "metadata": {},
          "execution_count": 91
        }
      ]
    },
    {
      "cell_type": "code",
      "source": [
        "# Make and plot predictions for model_2\n",
        "y_preds_2 = model_2.predict(X_test)\n",
        "plot_prediction(predictions = y_preds_2)"
      ],
      "metadata": {
        "id": "IfjSBe8QqO2U",
        "outputId": "39148ecc-7347-462e-cbd9-2549ec24ddc1",
        "colab": {
          "base_uri": "https://localhost:8080/",
          "height": 0
        }
      },
      "execution_count": 92,
      "outputs": [
        {
          "output_type": "display_data",
          "data": {
            "text/plain": [
              "<Figure size 720x504 with 1 Axes>"
            ],
            "image/png": "[encoded data removed]"
          },
          "metadata": {
            "needs_background": "light"
          }
        }
      ]
    },
    {
      "cell_type": "code",
      "source": [
        "# Calculate model_1 evalution metrics\n",
        "mae_2 = mae(Y_test, tf.squeeze(y_preds_2))\n",
        "mse_2 = mse(Y_test, tf.squeeze(y_preds_2))\n",
        "\n",
        "mae_2, mse_2"
      ],
      "metadata": {
        "id": "9296SErz2hv1",
        "outputId": "bad2ba21-f462-42fd-b524-b93f3791b9aa",
        "colab": {
          "base_uri": "https://localhost:8080/"
        }
      },
      "execution_count": 93,
      "outputs": [
        {
          "output_type": "execute_result",
          "data": {
            "text/plain": [
              "(<tf.Tensor: shape=(), dtype=float32, numpy=3.115851>,\n",
              " <tf.Tensor: shape=(), dtype=float32, numpy=9.892798>)"
            ]
          },
          "metadata": {},
          "execution_count": 93
        }
      ]
    },
    {
      "cell_type": "markdown",
      "source": [
        "**Model-3**"
      ],
      "metadata": {
        "id": "y4K2EluTrtGP"
      }
    },
    {
      "cell_type": "code",
      "source": [
        "# set random seed\n",
        "tf.random.set_seed(42)\n",
        "\n",
        "#1. Create a model\n",
        "model_3 = tf.keras.Sequential([\n",
        "    tf.keras.layers.Dense(64, activation = \"relu\"),\n",
        "    tf.keras.layers.Dense(1)\n",
        "])\n",
        "\n",
        "#2. Compile the model\n",
        "model_3.compile(loss = tf.keras.losses.mae,\n",
        "                optimizer = tf.keras.optimizers.Adam(lr = 0.01),\n",
        "                metrics = [\"mse\"])\n",
        "\n",
        "#3. Fit the model\n",
        "model_3.fit(tf.expand_dims(X_train, axis = -1), Y_train, epochs = 482)"
      ],
      "metadata": {
        "id": "1kRGJPYTrsk8",
        "outputId": "5865ce7c-b4f4-49e6-f518-32d23c17c881",
        "colab": {
          "base_uri": "https://localhost:8080/"
        }
      },
      "execution_count": 94,
      "outputs": [
        {
          "output_type": "stream",
          "name": "stdout",
          "text": [
            "Epoch 1/482\n",
            "2/2 [==============================] - 0s 7ms/step - loss: 43.3544 - mse: 2662.2827\n",
            "Epoch 2/482\n",
            "2/2 [==============================] - 0s 8ms/step - loss: 35.5962 - mse: 1814.1895\n",
            "Epoch 3/482\n",
            "2/2 [==============================] - 0s 5ms/step - loss: 28.1192 - mse: 1144.8695\n",
            "Epoch 4/482\n",
            "2/2 [==============================] - 0s 3ms/step - loss: 20.4840 - mse: 628.8112\n",
            "Epoch 5/482\n",
            "2/2 [==============================] - 0s 12ms/step - loss: 12.9946 - mse: 280.3784\n",
            "Epoch 6/482\n",
            "2/2 [==============================] - 0s 4ms/step - loss: 6.9888 - mse: 80.2960\n",
            "Epoch 7/482\n",
            "2/2 [==============================] - 0s 8ms/step - loss: 5.9711 - mse: 57.3622\n",
            "Epoch 8/482\n",
            "2/2 [==============================] - 0s 6ms/step - loss: 10.1001 - mse: 126.0530\n",
            "Epoch 9/482\n",
            "2/2 [==============================] - 0s 8ms/step - loss: 10.6464 - mse: 142.6120\n",
            "Epoch 10/482\n",
            "2/2 [==============================] - 0s 5ms/step - loss: 8.5446 - mse: 101.2881\n",
            "Epoch 11/482\n",
            "2/2 [==============================] - 0s 6ms/step - loss: 6.0209 - mse: 59.7433\n",
            "Epoch 12/482\n",
            "2/2 [==============================] - 0s 5ms/step - loss: 5.4601 - mse: 40.1249\n",
            "Epoch 13/482\n",
            "2/2 [==============================] - 0s 7ms/step - loss: 5.1183 - mse: 36.5069\n",
            "Epoch 14/482\n",
            "2/2 [==============================] - 0s 5ms/step - loss: 4.9813 - mse: 33.5265\n",
            "Epoch 15/482\n",
            "2/2 [==============================] - 0s 4ms/step - loss: 4.9499 - mse: 30.7236\n",
            "Epoch 16/482\n",
            "2/2 [==============================] - 0s 6ms/step - loss: 4.7539 - mse: 30.0877\n",
            "Epoch 17/482\n",
            "2/2 [==============================] - 0s 9ms/step - loss: 4.4353 - mse: 28.1701\n",
            "Epoch 18/482\n",
            "2/2 [==============================] - 0s 5ms/step - loss: 4.0575 - mse: 24.4692\n",
            "Epoch 19/482\n",
            "2/2 [==============================] - 0s 4ms/step - loss: 4.0310 - mse: 23.1904\n",
            "Epoch 20/482\n",
            "2/2 [==============================] - 0s 4ms/step - loss: 4.1516 - mse: 23.6718\n",
            "Epoch 21/482\n",
            "2/2 [==============================] - 0s 4ms/step - loss: 4.1091 - mse: 23.3672\n",
            "Epoch 22/482\n",
            "2/2 [==============================] - 0s 4ms/step - loss: 3.9665 - mse: 22.5035\n",
            "Epoch 23/482\n",
            "2/2 [==============================] - 0s 5ms/step - loss: 3.9425 - mse: 22.5989\n",
            "Epoch 24/482\n",
            "2/2 [==============================] - 0s 5ms/step - loss: 3.9222 - mse: 22.7937\n",
            "Epoch 25/482\n",
            "2/2 [==============================] - 0s 4ms/step - loss: 3.9352 - mse: 22.8747\n",
            "Epoch 26/482\n",
            "2/2 [==============================] - 0s 4ms/step - loss: 3.9034 - mse: 22.6475\n",
            "Epoch 27/482\n",
            "2/2 [==============================] - 0s 4ms/step - loss: 3.7860 - mse: 21.1400\n",
            "Epoch 28/482\n",
            "2/2 [==============================] - 0s 4ms/step - loss: 3.7541 - mse: 20.2377\n",
            "Epoch 29/482\n",
            "2/2 [==============================] - 0s 4ms/step - loss: 3.8100 - mse: 20.3549\n",
            "Epoch 30/482\n",
            "2/2 [==============================] - 0s 3ms/step - loss: 3.8192 - mse: 20.1351\n",
            "Epoch 31/482\n",
            "2/2 [==============================] - 0s 4ms/step - loss: 3.7698 - mse: 19.9551\n",
            "Epoch 32/482\n",
            "2/2 [==============================] - 0s 4ms/step - loss: 3.7214 - mse: 20.5630\n",
            "Epoch 33/482\n",
            "2/2 [==============================] - 0s 5ms/step - loss: 3.6660 - mse: 19.9827\n",
            "Epoch 34/482\n",
            "2/2 [==============================] - 0s 3ms/step - loss: 3.5734 - mse: 18.7706\n",
            "Epoch 35/482\n",
            "2/2 [==============================] - 0s 4ms/step - loss: 3.5499 - mse: 18.1527\n",
            "Epoch 36/482\n",
            "2/2 [==============================] - 0s 4ms/step - loss: 3.6672 - mse: 18.6317\n",
            "Epoch 37/482\n",
            "2/2 [==============================] - 0s 4ms/step - loss: 3.6544 - mse: 18.5214\n",
            "Epoch 38/482\n",
            "2/2 [==============================] - 0s 3ms/step - loss: 3.4594 - mse: 17.0642\n",
            "Epoch 39/482\n",
            "2/2 [==============================] - 0s 4ms/step - loss: 3.4648 - mse: 17.9499\n",
            "Epoch 40/482\n",
            "2/2 [==============================] - 0s 4ms/step - loss: 3.5729 - mse: 18.7096\n",
            "Epoch 41/482\n",
            "2/2 [==============================] - 0s 5ms/step - loss: 3.3311 - mse: 16.4424\n",
            "Epoch 42/482\n",
            "2/2 [==============================] - 0s 4ms/step - loss: 3.3395 - mse: 15.8166\n",
            "Epoch 43/482\n",
            "2/2 [==============================] - 0s 4ms/step - loss: 3.4270 - mse: 16.1699\n",
            "Epoch 44/482\n",
            "2/2 [==============================] - 0s 5ms/step - loss: 3.3469 - mse: 15.5489\n",
            "Epoch 45/482\n",
            "2/2 [==============================] - 0s 5ms/step - loss: 3.2170 - mse: 15.0015\n",
            "Epoch 46/482\n",
            "2/2 [==============================] - 0s 5ms/step - loss: 3.1413 - mse: 14.6926\n",
            "Epoch 47/482\n",
            "2/2 [==============================] - 0s 5ms/step - loss: 3.1015 - mse: 14.0331\n",
            "Epoch 48/482\n",
            "2/2 [==============================] - 0s 4ms/step - loss: 3.1479 - mse: 13.9170\n",
            "Epoch 49/482\n",
            "2/2 [==============================] - 0s 4ms/step - loss: 3.1616 - mse: 13.9334\n",
            "Epoch 50/482\n",
            "2/2 [==============================] - 0s 8ms/step - loss: 3.1053 - mse: 13.6014\n",
            "Epoch 51/482\n",
            "2/2 [==============================] - 0s 5ms/step - loss: 3.1065 - mse: 13.5359\n",
            "Epoch 52/482\n",
            "2/2 [==============================] - 0s 4ms/step - loss: 3.0283 - mse: 13.0568\n",
            "Epoch 53/482\n",
            "2/2 [==============================] - 0s 4ms/step - loss: 2.8860 - mse: 12.2709\n",
            "Epoch 54/482\n",
            "2/2 [==============================] - 0s 4ms/step - loss: 2.9593 - mse: 12.5447\n",
            "Epoch 55/482\n",
            "2/2 [==============================] - 0s 4ms/step - loss: 2.9530 - mse: 12.6076\n",
            "Epoch 56/482\n",
            "2/2 [==============================] - 0s 7ms/step - loss: 2.8153 - mse: 11.6901\n",
            "Epoch 57/482\n",
            "2/2 [==============================] - 0s 5ms/step - loss: 2.8753 - mse: 11.9450\n",
            "Epoch 58/482\n",
            "2/2 [==============================] - 0s 4ms/step - loss: 2.8404 - mse: 11.6085\n",
            "Epoch 59/482\n",
            "2/2 [==============================] - 0s 4ms/step - loss: 2.7051 - mse: 10.8847\n",
            "Epoch 60/482\n",
            "2/2 [==============================] - 0s 4ms/step - loss: 2.8794 - mse: 11.5786\n",
            "Epoch 61/482\n",
            "2/2 [==============================] - 0s 5ms/step - loss: 2.9082 - mse: 11.5945\n",
            "Epoch 62/482\n",
            "2/2 [==============================] - 0s 4ms/step - loss: 2.6540 - mse: 9.7965\n",
            "Epoch 63/482\n",
            "2/2 [==============================] - 0s 4ms/step - loss: 2.5434 - mse: 9.5621\n",
            "Epoch 64/482\n",
            "2/2 [==============================] - 0s 4ms/step - loss: 2.7899 - mse: 10.2780\n",
            "Epoch 65/482\n",
            "2/2 [==============================] - 0s 4ms/step - loss: 2.4383 - mse: 8.6555\n",
            "Epoch 66/482\n",
            "2/2 [==============================] - 0s 4ms/step - loss: 2.5954 - mse: 9.3314\n",
            "Epoch 67/482\n",
            "2/2 [==============================] - 0s 5ms/step - loss: 2.6684 - mse: 10.1121\n",
            "Epoch 68/482\n",
            "2/2 [==============================] - 0s 4ms/step - loss: 2.4406 - mse: 8.3693\n",
            "Epoch 69/482\n",
            "2/2 [==============================] - 0s 4ms/step - loss: 2.2559 - mse: 7.6348\n",
            "Epoch 70/482\n",
            "2/2 [==============================] - 0s 3ms/step - loss: 2.3053 - mse: 7.4383\n",
            "Epoch 71/482\n",
            "2/2 [==============================] - 0s 4ms/step - loss: 2.1207 - mse: 6.4752\n",
            "Epoch 72/482\n",
            "2/2 [==============================] - 0s 4ms/step - loss: 2.0239 - mse: 5.9290\n",
            "Epoch 73/482\n",
            "2/2 [==============================] - 0s 4ms/step - loss: 1.9463 - mse: 5.6569\n",
            "Epoch 74/482\n",
            "2/2 [==============================] - 0s 4ms/step - loss: 1.9958 - mse: 5.6209\n",
            "Epoch 75/482\n",
            "2/2 [==============================] - 0s 4ms/step - loss: 1.8491 - mse: 4.9043\n",
            "Epoch 76/482\n",
            "2/2 [==============================] - 0s 3ms/step - loss: 1.8237 - mse: 4.5964\n",
            "Epoch 77/482\n",
            "2/2 [==============================] - 0s 4ms/step - loss: 1.6713 - mse: 4.3266\n",
            "Epoch 78/482\n",
            "2/2 [==============================] - 0s 4ms/step - loss: 1.9099 - mse: 4.6064\n",
            "Epoch 79/482\n",
            "2/2 [==============================] - 0s 4ms/step - loss: 1.6522 - mse: 3.7149\n",
            "Epoch 80/482\n",
            "2/2 [==============================] - 0s 4ms/step - loss: 1.6762 - mse: 3.9406\n",
            "Epoch 81/482\n",
            "2/2 [==============================] - 0s 4ms/step - loss: 1.4854 - mse: 3.1387\n",
            "Epoch 82/482\n",
            "2/2 [==============================] - 0s 7ms/step - loss: 2.0187 - mse: 6.6957\n",
            "Epoch 83/482\n",
            "2/2 [==============================] - 0s 4ms/step - loss: 1.6784 - mse: 4.1190\n",
            "Epoch 84/482\n",
            "2/2 [==============================] - 0s 4ms/step - loss: 1.2650 - mse: 2.3228\n",
            "Epoch 85/482\n",
            "2/2 [==============================] - 0s 4ms/step - loss: 1.0754 - mse: 1.7698\n",
            "Epoch 86/482\n",
            "2/2 [==============================] - 0s 4ms/step - loss: 1.1711 - mse: 1.6977\n",
            "Epoch 87/482\n",
            "2/2 [==============================] - 0s 4ms/step - loss: 1.5264 - mse: 3.1232\n",
            "Epoch 88/482\n",
            "2/2 [==============================] - 0s 6ms/step - loss: 0.8070 - mse: 1.3974\n",
            "Epoch 89/482\n",
            "2/2 [==============================] - 0s 4ms/step - loss: 1.6677 - mse: 4.8440\n",
            "Epoch 90/482\n",
            "2/2 [==============================] - 0s 4ms/step - loss: 1.0204 - mse: 1.5543\n",
            "Epoch 91/482\n",
            "2/2 [==============================] - 0s 7ms/step - loss: 1.8780 - mse: 4.5904\n",
            "Epoch 92/482\n",
            "2/2 [==============================] - 0s 4ms/step - loss: 1.2921 - mse: 2.5981\n",
            "Epoch 93/482\n",
            "2/2 [==============================] - 0s 5ms/step - loss: 1.9048 - mse: 6.1477\n",
            "Epoch 94/482\n",
            "2/2 [==============================] - 0s 4ms/step - loss: 1.1815 - mse: 2.0245\n",
            "Epoch 95/482\n",
            "2/2 [==============================] - 0s 4ms/step - loss: 0.6267 - mse: 0.5340\n",
            "Epoch 96/482\n",
            "2/2 [==============================] - 0s 4ms/step - loss: 1.0176 - mse: 1.5588\n",
            "Epoch 97/482\n",
            "2/2 [==============================] - 0s 4ms/step - loss: 1.2692 - mse: 2.1108\n",
            "Epoch 98/482\n",
            "2/2 [==============================] - 0s 6ms/step - loss: 1.3451 - mse: 3.1855\n",
            "Epoch 99/482\n",
            "2/2 [==============================] - 0s 3ms/step - loss: 1.6180 - mse: 4.2936\n",
            "Epoch 100/482\n",
            "2/2 [==============================] - 0s 3ms/step - loss: 1.2068 - mse: 2.1759\n",
            "Epoch 101/482\n",
            "2/2 [==============================] - 0s 12ms/step - loss: 1.4506 - mse: 2.7672\n",
            "Epoch 102/482\n",
            "2/2 [==============================] - 0s 6ms/step - loss: 0.9111 - mse: 1.1290\n",
            "Epoch 103/482\n",
            "2/2 [==============================] - 0s 4ms/step - loss: 0.4140 - mse: 0.3834\n",
            "Epoch 104/482\n",
            "2/2 [==============================] - 0s 3ms/step - loss: 0.5755 - mse: 0.5019\n",
            "Epoch 105/482\n",
            "2/2 [==============================] - 0s 4ms/step - loss: 0.7365 - mse: 1.0319\n",
            "Epoch 106/482\n",
            "2/2 [==============================] - 0s 4ms/step - loss: 1.0770 - mse: 2.0910\n",
            "Epoch 107/482\n",
            "2/2 [==============================] - 0s 4ms/step - loss: 0.8114 - mse: 1.1281\n",
            "Epoch 108/482\n",
            "2/2 [==============================] - 0s 4ms/step - loss: 0.5035 - mse: 0.4722\n",
            "Epoch 109/482\n",
            "2/2 [==============================] - 0s 4ms/step - loss: 0.8701 - mse: 0.8734\n",
            "Epoch 110/482\n",
            "2/2 [==============================] - 0s 4ms/step - loss: 0.3023 - mse: 0.1696\n",
            "Epoch 111/482\n",
            "2/2 [==============================] - 0s 4ms/step - loss: 0.4501 - mse: 0.3500\n",
            "Epoch 112/482\n",
            "2/2 [==============================] - 0s 7ms/step - loss: 0.2752 - mse: 0.1173\n",
            "Epoch 113/482\n",
            "2/2 [==============================] - 0s 4ms/step - loss: 0.9093 - mse: 1.2275\n",
            "Epoch 114/482\n",
            "2/2 [==============================] - 0s 4ms/step - loss: 0.2994 - mse: 0.2619\n",
            "Epoch 115/482\n",
            "2/2 [==============================] - 0s 4ms/step - loss: 0.8616 - mse: 1.0253\n",
            "Epoch 116/482\n",
            "2/2 [==============================] - 0s 3ms/step - loss: 1.1742 - mse: 2.4992\n",
            "Epoch 117/482\n",
            "2/2 [==============================] - 0s 4ms/step - loss: 1.5516 - mse: 3.6499\n",
            "Epoch 118/482\n",
            "2/2 [==============================] - 0s 4ms/step - loss: 0.4785 - mse: 0.3497\n",
            "Epoch 119/482\n",
            "2/2 [==============================] - 0s 4ms/step - loss: 0.7849 - mse: 1.0134\n",
            "Epoch 120/482\n",
            "2/2 [==============================] - 0s 7ms/step - loss: 0.8535 - mse: 0.9887\n",
            "Epoch 121/482\n",
            "2/2 [==============================] - 0s 4ms/step - loss: 0.4538 - mse: 0.5096\n",
            "Epoch 122/482\n",
            "2/2 [==============================] - 0s 4ms/step - loss: 0.6744 - mse: 0.5908\n",
            "Epoch 123/482\n",
            "2/2 [==============================] - 0s 4ms/step - loss: 0.2378 - mse: 0.0925\n",
            "Epoch 124/482\n",
            "2/2 [==============================] - 0s 3ms/step - loss: 1.1042 - mse: 1.7657\n",
            "Epoch 125/482\n",
            "2/2 [==============================] - 0s 4ms/step - loss: 0.8603 - mse: 1.3434\n",
            "Epoch 126/482\n",
            "2/2 [==============================] - 0s 4ms/step - loss: 1.2042 - mse: 2.1348\n",
            "Epoch 127/482\n",
            "2/2 [==============================] - 0s 4ms/step - loss: 1.0979 - mse: 2.2810\n",
            "Epoch 128/482\n",
            "2/2 [==============================] - 0s 4ms/step - loss: 0.9381 - mse: 1.6715\n",
            "Epoch 129/482\n",
            "2/2 [==============================] - 0s 3ms/step - loss: 1.5967 - mse: 4.0711\n",
            "Epoch 130/482\n",
            "2/2 [==============================] - 0s 3ms/step - loss: 0.4702 - mse: 0.5093\n",
            "Epoch 131/482\n",
            "2/2 [==============================] - 0s 4ms/step - loss: 0.4910 - mse: 0.4624\n",
            "Epoch 132/482\n",
            "2/2 [==============================] - 0s 4ms/step - loss: 0.2054 - mse: 0.0937\n",
            "Epoch 133/482\n",
            "2/2 [==============================] - 0s 3ms/step - loss: 0.3776 - mse: 0.2012\n",
            "Epoch 134/482\n",
            "2/2 [==============================] - 0s 4ms/step - loss: 0.3561 - mse: 0.2439\n",
            "Epoch 135/482\n",
            "2/2 [==============================] - 0s 3ms/step - loss: 0.6631 - mse: 0.8023\n",
            "Epoch 136/482\n",
            "2/2 [==============================] - 0s 3ms/step - loss: 0.8185 - mse: 1.0350\n",
            "Epoch 137/482\n",
            "2/2 [==============================] - 0s 4ms/step - loss: 0.7640 - mse: 0.7469\n",
            "Epoch 138/482\n",
            "2/2 [==============================] - 0s 4ms/step - loss: 1.1056 - mse: 2.0053\n",
            "Epoch 139/482\n",
            "2/2 [==============================] - 0s 4ms/step - loss: 0.4951 - mse: 0.5100\n",
            "Epoch 140/482\n",
            "2/2 [==============================] - 0s 4ms/step - loss: 0.4039 - mse: 0.2094\n",
            "Epoch 141/482\n",
            "2/2 [==============================] - 0s 4ms/step - loss: 0.2213 - mse: 0.0893\n",
            "Epoch 142/482\n",
            "2/2 [==============================] - 0s 4ms/step - loss: 0.3523 - mse: 0.1735\n",
            "Epoch 143/482\n",
            "2/2 [==============================] - 0s 4ms/step - loss: 1.0823 - mse: 1.6906\n",
            "Epoch 144/482\n",
            "2/2 [==============================] - 0s 4ms/step - loss: 0.8668 - mse: 1.3395\n",
            "Epoch 145/482\n",
            "2/2 [==============================] - 0s 9ms/step - loss: 1.2910 - mse: 2.3608\n",
            "Epoch 146/482\n",
            "2/2 [==============================] - 0s 4ms/step - loss: 1.5650 - mse: 4.1326\n",
            "Epoch 147/482\n",
            "2/2 [==============================] - 0s 6ms/step - loss: 0.6007 - mse: 0.5531\n",
            "Epoch 148/482\n",
            "2/2 [==============================] - 0s 8ms/step - loss: 1.3996 - mse: 2.7492\n",
            "Epoch 149/482\n",
            "2/2 [==============================] - 0s 4ms/step - loss: 0.4946 - mse: 0.4184\n",
            "Epoch 150/482\n",
            "2/2 [==============================] - 0s 4ms/step - loss: 1.7734 - mse: 4.1050\n",
            "Epoch 151/482\n",
            "2/2 [==============================] - 0s 5ms/step - loss: 0.9356 - mse: 1.1912\n",
            "Epoch 152/482\n",
            "2/2 [==============================] - 0s 7ms/step - loss: 1.0657 - mse: 1.8408\n",
            "Epoch 153/482\n",
            "2/2 [==============================] - 0s 4ms/step - loss: 0.6347 - mse: 0.6101\n",
            "Epoch 154/482\n",
            "2/2 [==============================] - 0s 4ms/step - loss: 1.6773 - mse: 4.2366\n",
            "Epoch 155/482\n",
            "2/2 [==============================] - 0s 6ms/step - loss: 1.5168 - mse: 3.1520\n",
            "Epoch 156/482\n",
            "2/2 [==============================] - 0s 4ms/step - loss: 0.8020 - mse: 1.7699\n",
            "Epoch 157/482\n",
            "2/2 [==============================] - 0s 4ms/step - loss: 1.3955 - mse: 3.0729\n",
            "Epoch 158/482\n",
            "2/2 [==============================] - 0s 4ms/step - loss: 0.3385 - mse: 0.1667\n",
            "Epoch 159/482\n",
            "2/2 [==============================] - 0s 4ms/step - loss: 0.6148 - mse: 0.5463\n",
            "Epoch 160/482\n",
            "2/2 [==============================] - 0s 6ms/step - loss: 0.9871 - mse: 1.6090\n",
            "Epoch 161/482\n",
            "2/2 [==============================] - 0s 3ms/step - loss: 0.9361 - mse: 1.5632\n",
            "Epoch 162/482\n",
            "2/2 [==============================] - 0s 3ms/step - loss: 0.8357 - mse: 1.2280\n",
            "Epoch 163/482\n",
            "2/2 [==============================] - 0s 4ms/step - loss: 1.0461 - mse: 1.6373\n",
            "Epoch 164/482\n",
            "2/2 [==============================] - 0s 4ms/step - loss: 0.6625 - mse: 0.7602\n",
            "Epoch 165/482\n",
            "2/2 [==============================] - 0s 4ms/step - loss: 0.9348 - mse: 1.5845\n",
            "Epoch 166/482\n",
            "2/2 [==============================] - 0s 5ms/step - loss: 0.3646 - mse: 0.2470\n",
            "Epoch 167/482\n",
            "2/2 [==============================] - 0s 4ms/step - loss: 0.5825 - mse: 0.4507\n",
            "Epoch 168/482\n",
            "2/2 [==============================] - 0s 3ms/step - loss: 0.7043 - mse: 0.8942\n",
            "Epoch 169/482\n",
            "2/2 [==============================] - 0s 4ms/step - loss: 0.4787 - mse: 0.3356\n",
            "Epoch 170/482\n",
            "2/2 [==============================] - 0s 4ms/step - loss: 0.7517 - mse: 0.8045\n",
            "Epoch 171/482\n",
            "2/2 [==============================] - 0s 4ms/step - loss: 0.2762 - mse: 0.1575\n",
            "Epoch 172/482\n",
            "2/2 [==============================] - 0s 5ms/step - loss: 0.3245 - mse: 0.1865\n",
            "Epoch 173/482\n",
            "2/2 [==============================] - 0s 4ms/step - loss: 0.3937 - mse: 0.3647\n",
            "Epoch 174/482\n",
            "2/2 [==============================] - 0s 4ms/step - loss: 0.4411 - mse: 0.2743\n",
            "Epoch 175/482\n",
            "2/2 [==============================] - 0s 4ms/step - loss: 0.6800 - mse: 0.6714\n",
            "Epoch 176/482\n",
            "2/2 [==============================] - 0s 4ms/step - loss: 0.7675 - mse: 1.0986\n",
            "Epoch 177/482\n",
            "2/2 [==============================] - 0s 4ms/step - loss: 0.9486 - mse: 1.2311\n",
            "Epoch 178/482\n",
            "2/2 [==============================] - 0s 4ms/step - loss: 0.4156 - mse: 0.3834\n",
            "Epoch 179/482\n",
            "2/2 [==============================] - 0s 5ms/step - loss: 0.5903 - mse: 0.5579\n",
            "Epoch 180/482\n",
            "2/2 [==============================] - 0s 4ms/step - loss: 0.8374 - mse: 0.8971\n",
            "Epoch 181/482\n",
            "2/2 [==============================] - 0s 4ms/step - loss: 0.6726 - mse: 1.0130\n",
            "Epoch 182/482\n",
            "2/2 [==============================] - 0s 4ms/step - loss: 0.7470 - mse: 0.8992\n",
            "Epoch 183/482\n",
            "2/2 [==============================] - 0s 4ms/step - loss: 0.5378 - mse: 0.4885\n",
            "Epoch 184/482\n",
            "2/2 [==============================] - 0s 4ms/step - loss: 0.2727 - mse: 0.2251\n",
            "Epoch 185/482\n",
            "2/2 [==============================] - 0s 4ms/step - loss: 1.2617 - mse: 2.6379\n",
            "Epoch 186/482\n",
            "2/2 [==============================] - 0s 4ms/step - loss: 0.6168 - mse: 0.7864\n",
            "Epoch 187/482\n",
            "2/2 [==============================] - 0s 4ms/step - loss: 0.8369 - mse: 1.1958\n",
            "Epoch 188/482\n",
            "2/2 [==============================] - 0s 4ms/step - loss: 0.5033 - mse: 0.3475\n",
            "Epoch 189/482\n",
            "2/2 [==============================] - 0s 4ms/step - loss: 1.0720 - mse: 2.1683\n",
            "Epoch 190/482\n",
            "2/2 [==============================] - 0s 4ms/step - loss: 0.8466 - mse: 1.4751\n",
            "Epoch 191/482\n",
            "2/2 [==============================] - 0s 4ms/step - loss: 0.5869 - mse: 0.5322\n",
            "Epoch 192/482\n",
            "2/2 [==============================] - 0s 4ms/step - loss: 0.7067 - mse: 0.9022\n",
            "Epoch 193/482\n",
            "2/2 [==============================] - 0s 4ms/step - loss: 0.5020 - mse: 0.6209\n",
            "Epoch 194/482\n",
            "2/2 [==============================] - 0s 4ms/step - loss: 0.8916 - mse: 1.7955\n",
            "Epoch 195/482\n",
            "2/2 [==============================] - 0s 4ms/step - loss: 0.3108 - mse: 0.1811\n",
            "Epoch 196/482\n",
            "2/2 [==============================] - 0s 4ms/step - loss: 0.6319 - mse: 0.6177\n",
            "Epoch 197/482\n",
            "2/2 [==============================] - 0s 4ms/step - loss: 0.5149 - mse: 0.4946\n",
            "Epoch 198/482\n",
            "2/2 [==============================] - 0s 4ms/step - loss: 0.4731 - mse: 0.4339\n",
            "Epoch 199/482\n",
            "2/2 [==============================] - 0s 4ms/step - loss: 0.2687 - mse: 0.1278\n",
            "Epoch 200/482\n",
            "2/2 [==============================] - 0s 4ms/step - loss: 0.2401 - mse: 0.0890\n",
            "Epoch 201/482\n",
            "2/2 [==============================] - 0s 4ms/step - loss: 0.5299 - mse: 0.4375\n",
            "Epoch 202/482\n",
            "2/2 [==============================] - 0s 5ms/step - loss: 0.1932 - mse: 0.0872\n",
            "Epoch 203/482\n",
            "2/2 [==============================] - 0s 4ms/step - loss: 0.3542 - mse: 0.2192\n",
            "Epoch 204/482\n",
            "2/2 [==============================] - 0s 4ms/step - loss: 0.3432 - mse: 0.1684\n",
            "Epoch 205/482\n",
            "2/2 [==============================] - 0s 4ms/step - loss: 0.3966 - mse: 0.2245\n",
            "Epoch 206/482\n",
            "2/2 [==============================] - 0s 4ms/step - loss: 0.1851 - mse: 0.0683\n",
            "Epoch 207/482\n",
            "2/2 [==============================] - 0s 4ms/step - loss: 0.6381 - mse: 0.6036\n",
            "Epoch 208/482\n",
            "2/2 [==============================] - 0s 4ms/step - loss: 0.7399 - mse: 0.9316\n",
            "Epoch 209/482\n",
            "2/2 [==============================] - 0s 3ms/step - loss: 0.3546 - mse: 0.1844\n",
            "Epoch 210/482\n",
            "2/2 [==============================] - 0s 4ms/step - loss: 0.7849 - mse: 1.4316\n",
            "Epoch 211/482\n",
            "2/2 [==============================] - 0s 4ms/step - loss: 1.2049 - mse: 2.5734\n",
            "Epoch 212/482\n",
            "2/2 [==============================] - 0s 4ms/step - loss: 1.1106 - mse: 1.6372\n",
            "Epoch 213/482\n",
            "2/2 [==============================] - 0s 4ms/step - loss: 1.2142 - mse: 1.9882\n",
            "Epoch 214/482\n",
            "2/2 [==============================] - 0s 4ms/step - loss: 0.9344 - mse: 1.6288\n",
            "Epoch 215/482\n",
            "2/2 [==============================] - 0s 4ms/step - loss: 0.8469 - mse: 1.1026\n",
            "Epoch 216/482\n",
            "2/2 [==============================] - 0s 4ms/step - loss: 0.3233 - mse: 0.1422\n",
            "Epoch 217/482\n",
            "2/2 [==============================] - 0s 4ms/step - loss: 0.8408 - mse: 0.9804\n",
            "Epoch 218/482\n",
            "2/2 [==============================] - 0s 4ms/step - loss: 0.5442 - mse: 0.4556\n",
            "Epoch 219/482\n",
            "2/2 [==============================] - 0s 4ms/step - loss: 0.7396 - mse: 0.7478\n",
            "Epoch 220/482\n",
            "2/2 [==============================] - 0s 4ms/step - loss: 0.5062 - mse: 0.4362\n",
            "Epoch 221/482\n",
            "2/2 [==============================] - 0s 4ms/step - loss: 0.4408 - mse: 0.2756\n",
            "Epoch 222/482\n",
            "2/2 [==============================] - 0s 4ms/step - loss: 0.2889 - mse: 0.1174\n",
            "Epoch 223/482\n",
            "2/2 [==============================] - 0s 4ms/step - loss: 1.0509 - mse: 1.6779\n",
            "Epoch 224/482\n",
            "2/2 [==============================] - 0s 4ms/step - loss: 0.5728 - mse: 0.6410\n",
            "Epoch 225/482\n",
            "2/2 [==============================] - 0s 5ms/step - loss: 0.9534 - mse: 1.6034\n",
            "Epoch 226/482\n",
            "2/2 [==============================] - 0s 4ms/step - loss: 1.5134 - mse: 3.1913\n",
            "Epoch 227/482\n",
            "2/2 [==============================] - 0s 4ms/step - loss: 0.4597 - mse: 0.5797\n",
            "Epoch 228/482\n",
            "2/2 [==============================] - 0s 4ms/step - loss: 2.0643 - mse: 6.6811\n",
            "Epoch 229/482\n",
            "2/2 [==============================] - 0s 5ms/step - loss: 2.1301 - mse: 7.1430\n",
            "Epoch 230/482\n",
            "2/2 [==============================] - 0s 4ms/step - loss: 0.6302 - mse: 0.8716\n",
            "Epoch 231/482\n",
            "2/2 [==============================] - 0s 4ms/step - loss: 0.8974 - mse: 0.9776\n",
            "Epoch 232/482\n",
            "2/2 [==============================] - 0s 4ms/step - loss: 0.4222 - mse: 0.3593\n",
            "Epoch 233/482\n",
            "2/2 [==============================] - 0s 4ms/step - loss: 0.8080 - mse: 0.9995\n",
            "Epoch 234/482\n",
            "2/2 [==============================] - 0s 4ms/step - loss: 0.4997 - mse: 0.3080\n",
            "Epoch 235/482\n",
            "2/2 [==============================] - 0s 4ms/step - loss: 0.6451 - mse: 0.5941\n",
            "Epoch 236/482\n",
            "2/2 [==============================] - 0s 8ms/step - loss: 0.7616 - mse: 0.9356\n",
            "Epoch 237/482\n",
            "2/2 [==============================] - 0s 4ms/step - loss: 0.4914 - mse: 0.3981\n",
            "Epoch 238/482\n",
            "2/2 [==============================] - 0s 4ms/step - loss: 1.0513 - mse: 1.7319\n",
            "Epoch 239/482\n",
            "2/2 [==============================] - 0s 4ms/step - loss: 0.7314 - mse: 0.7522\n",
            "Epoch 240/482\n",
            "2/2 [==============================] - 0s 4ms/step - loss: 0.6691 - mse: 0.8545\n",
            "Epoch 241/482\n",
            "2/2 [==============================] - 0s 4ms/step - loss: 0.5155 - mse: 0.4920\n",
            "Epoch 242/482\n",
            "2/2 [==============================] - 0s 3ms/step - loss: 0.7684 - mse: 1.0402\n",
            "Epoch 243/482\n",
            "2/2 [==============================] - 0s 4ms/step - loss: 0.8578 - mse: 1.1088\n",
            "Epoch 244/482\n",
            "2/2 [==============================] - 0s 4ms/step - loss: 0.4969 - mse: 0.4365\n",
            "Epoch 245/482\n",
            "2/2 [==============================] - 0s 4ms/step - loss: 0.4766 - mse: 0.4220\n",
            "Epoch 246/482\n",
            "2/2 [==============================] - 0s 4ms/step - loss: 0.4719 - mse: 0.4028\n",
            "Epoch 247/482\n",
            "2/2 [==============================] - 0s 4ms/step - loss: 0.9428 - mse: 1.2457\n",
            "Epoch 248/482\n",
            "2/2 [==============================] - 0s 3ms/step - loss: 0.5314 - mse: 0.5218\n",
            "Epoch 249/482\n",
            "2/2 [==============================] - 0s 4ms/step - loss: 0.5344 - mse: 0.6116\n",
            "Epoch 250/482\n",
            "2/2 [==============================] - 0s 4ms/step - loss: 0.4038 - mse: 0.4170\n",
            "Epoch 251/482\n",
            "2/2 [==============================] - 0s 4ms/step - loss: 0.2405 - mse: 0.0810\n",
            "Epoch 252/482\n",
            "2/2 [==============================] - 0s 4ms/step - loss: 0.5179 - mse: 0.3654\n",
            "Epoch 253/482\n",
            "2/2 [==============================] - 0s 3ms/step - loss: 0.3811 - mse: 0.2199\n",
            "Epoch 254/482\n",
            "2/2 [==============================] - 0s 4ms/step - loss: 0.8198 - mse: 1.0209\n",
            "Epoch 255/482\n",
            "2/2 [==============================] - 0s 4ms/step - loss: 0.1825 - mse: 0.1072\n",
            "Epoch 256/482\n",
            "2/2 [==============================] - 0s 4ms/step - loss: 0.8185 - mse: 0.9940\n",
            "Epoch 257/482\n",
            "2/2 [==============================] - 0s 3ms/step - loss: 0.3176 - mse: 0.1290\n",
            "Epoch 258/482\n",
            "2/2 [==============================] - 0s 3ms/step - loss: 0.3188 - mse: 0.2091\n",
            "Epoch 259/482\n",
            "2/2 [==============================] - 0s 4ms/step - loss: 0.5734 - mse: 0.4935\n",
            "Epoch 260/482\n",
            "2/2 [==============================] - 0s 4ms/step - loss: 0.7822 - mse: 1.2029\n",
            "Epoch 261/482\n",
            "2/2 [==============================] - 0s 4ms/step - loss: 1.4482 - mse: 2.9328\n",
            "Epoch 262/482\n",
            "2/2 [==============================] - 0s 3ms/step - loss: 0.3439 - mse: 0.3022\n",
            "Epoch 263/482\n",
            "2/2 [==============================] - 0s 4ms/step - loss: 1.5135 - mse: 3.9054\n",
            "Epoch 264/482\n",
            "2/2 [==============================] - 0s 4ms/step - loss: 1.2619 - mse: 2.9232\n",
            "Epoch 265/482\n",
            "2/2 [==============================] - 0s 3ms/step - loss: 0.2032 - mse: 0.1053\n",
            "Epoch 266/482\n",
            "2/2 [==============================] - 0s 4ms/step - loss: 0.9083 - mse: 1.7186\n",
            "Epoch 267/482\n",
            "2/2 [==============================] - 0s 4ms/step - loss: 0.4653 - mse: 0.4794\n",
            "Epoch 268/482\n",
            "2/2 [==============================] - 0s 4ms/step - loss: 0.4899 - mse: 0.3370\n",
            "Epoch 269/482\n",
            "2/2 [==============================] - 0s 4ms/step - loss: 0.2217 - mse: 0.1605\n",
            "Epoch 270/482\n",
            "2/2 [==============================] - 0s 4ms/step - loss: 0.5967 - mse: 0.5935\n",
            "Epoch 271/482\n",
            "2/2 [==============================] - 0s 3ms/step - loss: 0.7648 - mse: 0.7682\n",
            "Epoch 272/482\n",
            "2/2 [==============================] - 0s 4ms/step - loss: 0.6035 - mse: 0.4968\n",
            "Epoch 273/482\n",
            "2/2 [==============================] - 0s 4ms/step - loss: 0.8897 - mse: 1.3345\n",
            "Epoch 274/482\n",
            "2/2 [==============================] - 0s 4ms/step - loss: 0.5136 - mse: 0.4447\n",
            "Epoch 275/482\n",
            "2/2 [==============================] - 0s 4ms/step - loss: 0.6274 - mse: 0.9221\n",
            "Epoch 276/482\n",
            "2/2 [==============================] - 0s 4ms/step - loss: 0.5373 - mse: 0.4979\n",
            "Epoch 277/482\n",
            "2/2 [==============================] - 0s 4ms/step - loss: 0.5389 - mse: 0.3669\n",
            "Epoch 278/482\n",
            "2/2 [==============================] - 0s 4ms/step - loss: 0.6064 - mse: 0.6476\n",
            "Epoch 279/482\n",
            "2/2 [==============================] - 0s 4ms/step - loss: 0.4108 - mse: 0.2724\n",
            "Epoch 280/482\n",
            "2/2 [==============================] - 0s 4ms/step - loss: 0.8406 - mse: 0.9326\n",
            "Epoch 281/482\n",
            "2/2 [==============================] - 0s 4ms/step - loss: 0.6980 - mse: 0.6982\n",
            "Epoch 282/482\n",
            "2/2 [==============================] - 0s 4ms/step - loss: 0.4435 - mse: 0.2961\n",
            "Epoch 283/482\n",
            "2/2 [==============================] - 0s 4ms/step - loss: 0.4625 - mse: 0.2987\n",
            "Epoch 284/482\n",
            "2/2 [==============================] - 0s 4ms/step - loss: 0.2420 - mse: 0.1125\n",
            "Epoch 285/482\n",
            "2/2 [==============================] - 0s 4ms/step - loss: 0.3238 - mse: 0.1425\n",
            "Epoch 286/482\n",
            "2/2 [==============================] - 0s 4ms/step - loss: 0.3700 - mse: 0.2414\n",
            "Epoch 287/482\n",
            "2/2 [==============================] - 0s 4ms/step - loss: 0.6281 - mse: 0.6736\n",
            "Epoch 288/482\n",
            "2/2 [==============================] - 0s 12ms/step - loss: 0.6344 - mse: 0.7522\n",
            "Epoch 289/482\n",
            "2/2 [==============================] - 0s 8ms/step - loss: 0.6417 - mse: 0.8022\n",
            "Epoch 290/482\n",
            "2/2 [==============================] - 0s 6ms/step - loss: 0.7984 - mse: 1.2139\n",
            "Epoch 291/482\n",
            "2/2 [==============================] - 0s 4ms/step - loss: 0.2841 - mse: 0.1352\n",
            "Epoch 292/482\n",
            "2/2 [==============================] - 0s 4ms/step - loss: 0.3129 - mse: 0.2518\n",
            "Epoch 293/482\n",
            "2/2 [==============================] - 0s 5ms/step - loss: 0.5147 - mse: 0.3388\n",
            "Epoch 294/482\n",
            "2/2 [==============================] - 0s 4ms/step - loss: 0.1929 - mse: 0.0788\n",
            "Epoch 295/482\n",
            "2/2 [==============================] - 0s 5ms/step - loss: 0.2130 - mse: 0.0917\n",
            "Epoch 296/482\n",
            "2/2 [==============================] - 0s 5ms/step - loss: 0.2711 - mse: 0.1356\n",
            "Epoch 297/482\n",
            "2/2 [==============================] - 0s 5ms/step - loss: 0.3151 - mse: 0.1881\n",
            "Epoch 298/482\n",
            "2/2 [==============================] - 0s 5ms/step - loss: 0.4272 - mse: 0.2986\n",
            "Epoch 299/482\n",
            "2/2 [==============================] - 0s 5ms/step - loss: 0.4112 - mse: 0.2360\n",
            "Epoch 300/482\n",
            "2/2 [==============================] - 0s 5ms/step - loss: 0.2312 - mse: 0.1273\n",
            "Epoch 301/482\n",
            "2/2 [==============================] - 0s 5ms/step - loss: 0.1561 - mse: 0.0555\n",
            "Epoch 302/482\n",
            "2/2 [==============================] - 0s 5ms/step - loss: 0.4076 - mse: 0.3508\n",
            "Epoch 303/482\n",
            "2/2 [==============================] - 0s 5ms/step - loss: 0.4643 - mse: 0.5389\n",
            "Epoch 304/482\n",
            "2/2 [==============================] - 0s 5ms/step - loss: 0.2587 - mse: 0.1271\n",
            "Epoch 305/482\n",
            "2/2 [==============================] - 0s 4ms/step - loss: 0.3523 - mse: 0.2142\n",
            "Epoch 306/482\n",
            "2/2 [==============================] - 0s 8ms/step - loss: 0.2763 - mse: 0.1194\n",
            "Epoch 307/482\n",
            "2/2 [==============================] - 0s 7ms/step - loss: 0.5300 - mse: 0.4482\n",
            "Epoch 308/482\n",
            "2/2 [==============================] - 0s 7ms/step - loss: 0.2192 - mse: 0.0872\n",
            "Epoch 309/482\n",
            "2/2 [==============================] - 0s 270ms/step - loss: 0.1752 - mse: 0.0889\n",
            "Epoch 310/482\n",
            "2/2 [==============================] - 0s 4ms/step - loss: 0.4724 - mse: 0.4315\n",
            "Epoch 311/482\n",
            "2/2 [==============================] - 0s 4ms/step - loss: 0.3408 - mse: 0.2405\n",
            "Epoch 312/482\n",
            "2/2 [==============================] - 0s 4ms/step - loss: 0.2305 - mse: 0.1081\n",
            "Epoch 313/482\n",
            "2/2 [==============================] - 0s 4ms/step - loss: 0.3259 - mse: 0.1626\n",
            "Epoch 314/482\n",
            "2/2 [==============================] - 0s 4ms/step - loss: 0.8658 - mse: 1.2809\n",
            "Epoch 315/482\n",
            "2/2 [==============================] - 0s 4ms/step - loss: 0.6340 - mse: 0.5672\n",
            "Epoch 316/482\n",
            "2/2 [==============================] - 0s 4ms/step - loss: 0.8453 - mse: 1.0221\n",
            "Epoch 317/482\n",
            "2/2 [==============================] - 0s 4ms/step - loss: 0.5331 - mse: 0.5089\n",
            "Epoch 318/482\n",
            "2/2 [==============================] - 0s 4ms/step - loss: 1.1320 - mse: 2.1525\n",
            "Epoch 319/482\n",
            "2/2 [==============================] - 0s 4ms/step - loss: 0.7485 - mse: 0.9310\n",
            "Epoch 320/482\n",
            "2/2 [==============================] - 0s 4ms/step - loss: 0.8617 - mse: 1.2214\n",
            "Epoch 321/482\n",
            "2/2 [==============================] - 0s 3ms/step - loss: 1.4133 - mse: 2.8358\n",
            "Epoch 322/482\n",
            "2/2 [==============================] - 0s 4ms/step - loss: 0.5536 - mse: 0.4602\n",
            "Epoch 323/482\n",
            "2/2 [==============================] - 0s 4ms/step - loss: 0.8805 - mse: 1.2196\n",
            "Epoch 324/482\n",
            "2/2 [==============================] - 0s 4ms/step - loss: 0.6428 - mse: 0.8449\n",
            "Epoch 325/482\n",
            "2/2 [==============================] - 0s 4ms/step - loss: 0.5667 - mse: 0.4216\n",
            "Epoch 326/482\n",
            "2/2 [==============================] - 0s 4ms/step - loss: 0.3743 - mse: 0.1942\n",
            "Epoch 327/482\n",
            "2/2 [==============================] - 0s 4ms/step - loss: 0.6085 - mse: 0.5935\n",
            "Epoch 328/482\n",
            "2/2 [==============================] - 0s 3ms/step - loss: 0.2442 - mse: 0.1355\n",
            "Epoch 329/482\n",
            "2/2 [==============================] - 0s 4ms/step - loss: 0.4524 - mse: 0.2886\n",
            "Epoch 330/482\n",
            "2/2 [==============================] - 0s 3ms/step - loss: 0.3942 - mse: 0.3679\n",
            "Epoch 331/482\n",
            "2/2 [==============================] - 0s 4ms/step - loss: 0.3907 - mse: 0.2584\n",
            "Epoch 332/482\n",
            "2/2 [==============================] - 0s 4ms/step - loss: 0.2904 - mse: 0.1394\n",
            "Epoch 333/482\n",
            "2/2 [==============================] - 0s 4ms/step - loss: 0.3955 - mse: 0.2377\n",
            "Epoch 334/482\n",
            "2/2 [==============================] - 0s 4ms/step - loss: 0.3286 - mse: 0.1463\n",
            "Epoch 335/482\n",
            "2/2 [==============================] - 0s 4ms/step - loss: 0.2026 - mse: 0.0562\n",
            "Epoch 336/482\n",
            "2/2 [==============================] - 0s 4ms/step - loss: 0.3290 - mse: 0.2328\n",
            "Epoch 337/482\n",
            "2/2 [==============================] - 0s 4ms/step - loss: 0.2235 - mse: 0.0811\n",
            "Epoch 338/482\n",
            "2/2 [==============================] - 0s 4ms/step - loss: 0.3939 - mse: 0.2055\n",
            "Epoch 339/482\n",
            "2/2 [==============================] - 0s 4ms/step - loss: 0.2594 - mse: 0.1055\n",
            "Epoch 340/482\n",
            "2/2 [==============================] - 0s 4ms/step - loss: 0.2412 - mse: 0.0792\n",
            "Epoch 341/482\n",
            "2/2 [==============================] - 0s 4ms/step - loss: 0.3908 - mse: 0.2502\n",
            "Epoch 342/482\n",
            "2/2 [==============================] - 0s 4ms/step - loss: 0.3093 - mse: 0.1313\n",
            "Epoch 343/482\n",
            "2/2 [==============================] - 0s 4ms/step - loss: 0.9723 - mse: 1.3576\n",
            "Epoch 344/482\n",
            "2/2 [==============================] - 0s 4ms/step - loss: 0.6663 - mse: 0.6641\n",
            "Epoch 345/482\n",
            "2/2 [==============================] - 0s 4ms/step - loss: 1.0849 - mse: 1.7550\n",
            "Epoch 346/482\n",
            "2/2 [==============================] - 0s 4ms/step - loss: 1.5699 - mse: 4.2036\n",
            "Epoch 347/482\n",
            "2/2 [==============================] - 0s 4ms/step - loss: 0.8342 - mse: 1.0352\n",
            "Epoch 348/482\n",
            "2/2 [==============================] - 0s 4ms/step - loss: 0.7874 - mse: 1.0544\n",
            "Epoch 349/482\n",
            "2/2 [==============================] - 0s 4ms/step - loss: 0.7913 - mse: 1.2289\n",
            "Epoch 350/482\n",
            "2/2 [==============================] - 0s 4ms/step - loss: 0.2843 - mse: 0.1600\n",
            "Epoch 351/482\n",
            "2/2 [==============================] - 0s 4ms/step - loss: 0.2240 - mse: 0.0906\n",
            "Epoch 352/482\n",
            "2/2 [==============================] - 0s 4ms/step - loss: 0.6453 - mse: 0.7135\n",
            "Epoch 353/482\n",
            "2/2 [==============================] - 0s 4ms/step - loss: 0.2521 - mse: 0.1093\n",
            "Epoch 354/482\n",
            "2/2 [==============================] - 0s 3ms/step - loss: 0.4956 - mse: 0.3971\n",
            "Epoch 355/482\n",
            "2/2 [==============================] - 0s 4ms/step - loss: 0.3583 - mse: 0.2995\n",
            "Epoch 356/482\n",
            "2/2 [==============================] - 0s 4ms/step - loss: 0.3657 - mse: 0.3572\n",
            "Epoch 357/482\n",
            "2/2 [==============================] - 0s 4ms/step - loss: 0.2474 - mse: 0.0961\n",
            "Epoch 358/482\n",
            "2/2 [==============================] - 0s 5ms/step - loss: 0.2778 - mse: 0.1888\n",
            "Epoch 359/482\n",
            "2/2 [==============================] - 0s 3ms/step - loss: 0.2276 - mse: 0.1402\n",
            "Epoch 360/482\n",
            "2/2 [==============================] - 0s 4ms/step - loss: 0.4698 - mse: 0.2854\n",
            "Epoch 361/482\n",
            "2/2 [==============================] - 0s 5ms/step - loss: 0.1866 - mse: 0.0980\n",
            "Epoch 362/482\n",
            "2/2 [==============================] - 0s 4ms/step - loss: 0.1835 - mse: 0.0705\n",
            "Epoch 363/482\n",
            "2/2 [==============================] - 0s 4ms/step - loss: 0.1809 - mse: 0.0676\n",
            "Epoch 364/482\n",
            "2/2 [==============================] - 0s 4ms/step - loss: 0.2232 - mse: 0.0695\n",
            "Epoch 365/482\n",
            "2/2 [==============================] - 0s 3ms/step - loss: 0.1850 - mse: 0.0699\n",
            "Epoch 366/482\n",
            "2/2 [==============================] - 0s 4ms/step - loss: 0.3526 - mse: 0.1641\n",
            "Epoch 367/482\n",
            "2/2 [==============================] - 0s 3ms/step - loss: 0.4484 - mse: 0.3446\n",
            "Epoch 368/482\n",
            "2/2 [==============================] - 0s 4ms/step - loss: 0.5365 - mse: 0.4407\n",
            "Epoch 369/482\n",
            "2/2 [==============================] - 0s 4ms/step - loss: 0.4901 - mse: 0.3969\n",
            "Epoch 370/482\n",
            "2/2 [==============================] - 0s 9ms/step - loss: 0.3161 - mse: 0.1778\n",
            "Epoch 371/482\n",
            "2/2 [==============================] - 0s 4ms/step - loss: 0.5131 - mse: 0.4426\n",
            "Epoch 372/482\n",
            "2/2 [==============================] - 0s 3ms/step - loss: 0.4381 - mse: 0.2882\n",
            "Epoch 373/482\n",
            "2/2 [==============================] - 0s 4ms/step - loss: 0.4554 - mse: 0.3959\n",
            "Epoch 374/482\n",
            "2/2 [==============================] - 0s 4ms/step - loss: 0.2287 - mse: 0.1555\n",
            "Epoch 375/482\n",
            "2/2 [==============================] - 0s 7ms/step - loss: 0.6598 - mse: 0.5924\n",
            "Epoch 376/482\n",
            "2/2 [==============================] - 0s 3ms/step - loss: 0.3404 - mse: 0.2032\n",
            "Epoch 377/482\n",
            "2/2 [==============================] - 0s 3ms/step - loss: 0.1853 - mse: 0.0599\n",
            "Epoch 378/482\n",
            "2/2 [==============================] - 0s 4ms/step - loss: 0.1763 - mse: 0.0635\n",
            "Epoch 379/482\n",
            "2/2 [==============================] - 0s 4ms/step - loss: 0.3833 - mse: 0.2341\n",
            "Epoch 380/482\n",
            "2/2 [==============================] - 0s 4ms/step - loss: 0.1951 - mse: 0.1186\n",
            "Epoch 381/482\n",
            "2/2 [==============================] - 0s 6ms/step - loss: 0.6235 - mse: 0.6865\n",
            "Epoch 382/482\n",
            "2/2 [==============================] - 0s 7ms/step - loss: 0.1550 - mse: 0.0638\n",
            "Epoch 383/482\n",
            "2/2 [==============================] - 0s 3ms/step - loss: 0.3726 - mse: 0.2656\n",
            "Epoch 384/482\n",
            "2/2 [==============================] - 0s 5ms/step - loss: 0.4423 - mse: 0.3703\n",
            "Epoch 385/482\n",
            "2/2 [==============================] - 0s 5ms/step - loss: 0.3831 - mse: 0.2873\n",
            "Epoch 386/482\n",
            "2/2 [==============================] - 0s 3ms/step - loss: 0.8724 - mse: 1.1178\n",
            "Epoch 387/482\n",
            "2/2 [==============================] - 0s 7ms/step - loss: 0.9372 - mse: 1.3937\n",
            "Epoch 388/482\n",
            "2/2 [==============================] - 0s 4ms/step - loss: 0.2867 - mse: 0.1377\n",
            "Epoch 389/482\n",
            "2/2 [==============================] - 0s 4ms/step - loss: 0.3050 - mse: 0.2167\n",
            "Epoch 390/482\n",
            "2/2 [==============================] - 0s 4ms/step - loss: 0.1768 - mse: 0.0572\n",
            "Epoch 391/482\n",
            "2/2 [==============================] - 0s 3ms/step - loss: 0.1474 - mse: 0.0471\n",
            "Epoch 392/482\n",
            "2/2 [==============================] - 0s 244ms/step - loss: 0.0939 - mse: 0.0148\n",
            "Epoch 393/482\n",
            "2/2 [==============================] - 0s 4ms/step - loss: 0.1764 - mse: 0.0488\n",
            "Epoch 394/482\n",
            "2/2 [==============================] - 0s 3ms/step - loss: 0.4310 - mse: 0.3371\n",
            "Epoch 395/482\n",
            "2/2 [==============================] - 0s 3ms/step - loss: 0.2900 - mse: 0.2429\n",
            "Epoch 396/482\n",
            "2/2 [==============================] - 0s 4ms/step - loss: 0.9644 - mse: 1.4451\n",
            "Epoch 397/482\n",
            "2/2 [==============================] - 0s 4ms/step - loss: 0.4582 - mse: 0.2919\n",
            "Epoch 398/482\n",
            "2/2 [==============================] - 0s 3ms/step - loss: 0.4405 - mse: 0.2771\n",
            "Epoch 399/482\n",
            "2/2 [==============================] - 0s 4ms/step - loss: 0.3757 - mse: 0.2458\n",
            "Epoch 400/482\n",
            "2/2 [==============================] - 0s 4ms/step - loss: 0.4973 - mse: 0.5111\n",
            "Epoch 401/482\n",
            "2/2 [==============================] - 0s 3ms/step - loss: 1.1151 - mse: 1.7518\n",
            "Epoch 402/482\n",
            "2/2 [==============================] - 0s 3ms/step - loss: 0.4531 - mse: 0.3012\n",
            "Epoch 403/482\n",
            "2/2 [==============================] - 0s 4ms/step - loss: 1.1214 - mse: 2.1107\n",
            "Epoch 404/482\n",
            "2/2 [==============================] - 0s 4ms/step - loss: 0.9273 - mse: 1.1939\n",
            "Epoch 405/482\n",
            "2/2 [==============================] - 0s 4ms/step - loss: 1.3037 - mse: 2.5684\n",
            "Epoch 406/482\n",
            "2/2 [==============================] - 0s 3ms/step - loss: 1.3904 - mse: 3.8739\n",
            "Epoch 407/482\n",
            "2/2 [==============================] - 0s 3ms/step - loss: 0.8691 - mse: 1.1858\n",
            "Epoch 408/482\n",
            "2/2 [==============================] - 0s 4ms/step - loss: 0.7365 - mse: 0.6956\n",
            "Epoch 409/482\n",
            "2/2 [==============================] - 0s 3ms/step - loss: 0.3592 - mse: 0.1830\n",
            "Epoch 410/482\n",
            "2/2 [==============================] - 0s 4ms/step - loss: 0.5488 - mse: 0.5057\n",
            "Epoch 411/482\n",
            "2/2 [==============================] - 0s 3ms/step - loss: 0.5494 - mse: 0.5302\n",
            "Epoch 412/482\n",
            "2/2 [==============================] - 0s 4ms/step - loss: 0.4431 - mse: 0.3568\n",
            "Epoch 413/482\n",
            "2/2 [==============================] - 0s 3ms/step - loss: 0.5729 - mse: 0.6923\n",
            "Epoch 414/482\n",
            "2/2 [==============================] - 0s 3ms/step - loss: 0.4793 - mse: 0.5240\n",
            "Epoch 415/482\n",
            "2/2 [==============================] - 0s 4ms/step - loss: 0.6149 - mse: 0.7083\n",
            "Epoch 416/482\n",
            "2/2 [==============================] - 0s 3ms/step - loss: 0.6664 - mse: 0.6617\n",
            "Epoch 417/482\n",
            "2/2 [==============================] - 0s 4ms/step - loss: 0.6832 - mse: 0.9057\n",
            "Epoch 418/482\n",
            "2/2 [==============================] - 0s 3ms/step - loss: 1.2346 - mse: 2.2623\n",
            "Epoch 419/482\n",
            "2/2 [==============================] - 0s 4ms/step - loss: 0.4700 - mse: 0.3960\n",
            "Epoch 420/482\n",
            "2/2 [==============================] - 0s 3ms/step - loss: 0.9713 - mse: 1.3037\n",
            "Epoch 421/482\n",
            "2/2 [==============================] - 0s 3ms/step - loss: 0.3882 - mse: 0.2260\n",
            "Epoch 422/482\n",
            "2/2 [==============================] - 0s 3ms/step - loss: 0.9262 - mse: 1.6209\n",
            "Epoch 423/482\n",
            "2/2 [==============================] - 0s 3ms/step - loss: 0.5901 - mse: 0.5931\n",
            "Epoch 424/482\n",
            "2/2 [==============================] - 0s 3ms/step - loss: 1.0506 - mse: 1.5546\n",
            "Epoch 425/482\n",
            "2/2 [==============================] - 0s 3ms/step - loss: 1.0108 - mse: 1.4931\n",
            "Epoch 426/482\n",
            "2/2 [==============================] - 0s 4ms/step - loss: 0.3733 - mse: 0.2693\n",
            "Epoch 427/482\n",
            "2/2 [==============================] - 0s 3ms/step - loss: 0.9702 - mse: 1.5088\n",
            "Epoch 428/482\n",
            "2/2 [==============================] - 0s 5ms/step - loss: 0.6915 - mse: 0.9988\n",
            "Epoch 429/482\n",
            "2/2 [==============================] - 0s 4ms/step - loss: 0.4336 - mse: 0.2997\n",
            "Epoch 430/482\n",
            "2/2 [==============================] - 0s 4ms/step - loss: 0.8691 - mse: 1.3201\n",
            "Epoch 431/482\n",
            "2/2 [==============================] - 0s 5ms/step - loss: 0.8750 - mse: 1.1867\n",
            "Epoch 432/482\n",
            "2/2 [==============================] - 0s 4ms/step - loss: 0.5018 - mse: 0.4346\n",
            "Epoch 433/482\n",
            "2/2 [==============================] - 0s 4ms/step - loss: 0.7979 - mse: 1.1013\n",
            "Epoch 434/482\n",
            "2/2 [==============================] - 0s 5ms/step - loss: 0.4880 - mse: 0.4096\n",
            "Epoch 435/482\n",
            "2/2 [==============================] - 0s 4ms/step - loss: 0.8681 - mse: 1.2793\n",
            "Epoch 436/482\n",
            "2/2 [==============================] - 0s 4ms/step - loss: 0.5530 - mse: 0.5062\n",
            "Epoch 437/482\n",
            "2/2 [==============================] - 0s 4ms/step - loss: 1.1438 - mse: 1.6539\n",
            "Epoch 438/482\n",
            "2/2 [==============================] - 0s 4ms/step - loss: 0.4701 - mse: 0.4408\n",
            "Epoch 439/482\n",
            "2/2 [==============================] - 0s 4ms/step - loss: 1.4907 - mse: 3.0429\n",
            "Epoch 440/482\n",
            "2/2 [==============================] - 0s 4ms/step - loss: 2.0798 - mse: 5.9098\n",
            "Epoch 441/482\n",
            "2/2 [==============================] - 0s 4ms/step - loss: 1.0020 - mse: 1.6523\n",
            "Epoch 442/482\n",
            "2/2 [==============================] - 0s 5ms/step - loss: 1.0758 - mse: 1.6735\n",
            "Epoch 443/482\n",
            "2/2 [==============================] - 0s 4ms/step - loss: 1.7722 - mse: 4.6071\n",
            "Epoch 444/482\n",
            "2/2 [==============================] - 0s 4ms/step - loss: 1.0627 - mse: 1.9210\n",
            "Epoch 445/482\n",
            "2/2 [==============================] - 0s 4ms/step - loss: 0.5370 - mse: 0.6123\n",
            "Epoch 446/482\n",
            "2/2 [==============================] - 0s 5ms/step - loss: 0.9373 - mse: 2.0894\n",
            "Epoch 447/482\n",
            "2/2 [==============================] - 0s 5ms/step - loss: 0.6944 - mse: 0.8960\n",
            "Epoch 448/482\n",
            "2/2 [==============================] - 0s 4ms/step - loss: 0.7233 - mse: 0.6538\n",
            "Epoch 449/482\n",
            "2/2 [==============================] - 0s 4ms/step - loss: 0.5028 - mse: 0.3402\n",
            "Epoch 450/482\n",
            "2/2 [==============================] - 0s 5ms/step - loss: 0.4974 - mse: 0.4998\n",
            "Epoch 451/482\n",
            "2/2 [==============================] - 0s 4ms/step - loss: 0.3421 - mse: 0.2545\n",
            "Epoch 452/482\n",
            "2/2 [==============================] - 0s 4ms/step - loss: 0.3448 - mse: 0.1928\n",
            "Epoch 453/482\n",
            "2/2 [==============================] - 0s 4ms/step - loss: 0.3203 - mse: 0.2000\n",
            "Epoch 454/482\n",
            "2/2 [==============================] - 0s 4ms/step - loss: 0.1627 - mse: 0.0632\n",
            "Epoch 455/482\n",
            "2/2 [==============================] - 0s 5ms/step - loss: 0.3037 - mse: 0.1349\n",
            "Epoch 456/482\n",
            "2/2 [==============================] - 0s 4ms/step - loss: 0.1825 - mse: 0.0509\n",
            "Epoch 457/482\n",
            "2/2 [==============================] - 0s 4ms/step - loss: 0.2018 - mse: 0.0649\n",
            "Epoch 458/482\n",
            "2/2 [==============================] - 0s 4ms/step - loss: 0.1612 - mse: 0.0530\n",
            "Epoch 459/482\n",
            "2/2 [==============================] - 0s 11ms/step - loss: 0.3948 - mse: 0.2177\n",
            "Epoch 460/482\n",
            "2/2 [==============================] - 0s 4ms/step - loss: 0.3558 - mse: 0.2532\n",
            "Epoch 461/482\n",
            "2/2 [==============================] - 0s 4ms/step - loss: 0.7708 - mse: 0.8178\n",
            "Epoch 462/482\n",
            "2/2 [==============================] - 0s 4ms/step - loss: 0.4008 - mse: 0.2409\n",
            "Epoch 463/482\n",
            "2/2 [==============================] - 0s 3ms/step - loss: 0.4961 - mse: 0.4075\n",
            "Epoch 464/482\n",
            "2/2 [==============================] - 0s 6ms/step - loss: 0.6965 - mse: 0.8356\n",
            "Epoch 465/482\n",
            "2/2 [==============================] - 0s 6ms/step - loss: 0.3334 - mse: 0.1753\n",
            "Epoch 466/482\n",
            "2/2 [==============================] - 0s 4ms/step - loss: 0.7957 - mse: 1.1744\n",
            "Epoch 467/482\n",
            "2/2 [==============================] - 0s 5ms/step - loss: 0.4016 - mse: 0.2963\n",
            "Epoch 468/482\n",
            "2/2 [==============================] - 0s 4ms/step - loss: 0.5525 - mse: 0.5758\n",
            "Epoch 469/482\n",
            "2/2 [==============================] - 0s 5ms/step - loss: 0.2541 - mse: 0.1860\n",
            "Epoch 470/482\n",
            "2/2 [==============================] - 0s 5ms/step - loss: 0.8693 - mse: 1.3138\n",
            "Epoch 471/482\n",
            "2/2 [==============================] - 0s 5ms/step - loss: 0.5716 - mse: 0.4470\n",
            "Epoch 472/482\n",
            "2/2 [==============================] - 0s 5ms/step - loss: 1.2971 - mse: 2.3031\n",
            "Epoch 473/482\n",
            "2/2 [==============================] - 0s 4ms/step - loss: 0.7298 - mse: 0.9161\n",
            "Epoch 474/482\n",
            "2/2 [==============================] - 0s 5ms/step - loss: 0.9030 - mse: 1.1997\n",
            "Epoch 475/482\n",
            "2/2 [==============================] - 0s 266ms/step - loss: 1.1717 - mse: 2.4050\n",
            "Epoch 476/482\n",
            "2/2 [==============================] - 0s 4ms/step - loss: 0.4129 - mse: 0.2752\n",
            "Epoch 477/482\n",
            "2/2 [==============================] - 0s 4ms/step - loss: 0.3660 - mse: 0.2202\n",
            "Epoch 478/482\n",
            "2/2 [==============================] - 0s 4ms/step - loss: 0.4019 - mse: 0.2177\n",
            "Epoch 479/482\n",
            "2/2 [==============================] - 0s 4ms/step - loss: 0.3195 - mse: 0.1395\n",
            "Epoch 480/482\n",
            "2/2 [==============================] - 0s 6ms/step - loss: 0.2409 - mse: 0.1164\n",
            "Epoch 481/482\n",
            "2/2 [==============================] - 0s 4ms/step - loss: 0.3074 - mse: 0.1422\n",
            "Epoch 482/482\n",
            "2/2 [==============================] - 0s 4ms/step - loss: 0.1346 - mse: 0.0404\n"
          ]
        },
        {
          "output_type": "execute_result",
          "data": {
            "text/plain": [
              "<keras.callbacks.History at 0x7f7aaccdef50>"
            ]
          },
          "metadata": {},
          "execution_count": 94
        }
      ]
    },
    {
      "cell_type": "code",
      "source": [
        "# Make and plot predictions for model_2\n",
        "y_preds_3 = model_3.predict(X_test)\n",
        "plot_prediction(predictions = y_preds_3)"
      ],
      "metadata": {
        "id": "gebfMiyruWDg",
        "outputId": "118a4507-5246-47e4-ad5c-cc566dbf6b82",
        "colab": {
          "base_uri": "https://localhost:8080/",
          "height": 0
        }
      },
      "execution_count": 95,
      "outputs": [
        {
          "output_type": "display_data",
          "data": {
            "text/plain": [
              "<Figure size 720x504 with 1 Axes>"
            ],
            "image/png": "[encoded data removed]"
          },
          "metadata": {
            "needs_background": "light"
          }
        }
      ]
    },
    {
      "cell_type": "code",
      "source": [
        "# Calculate model_3 evalution metrics\n",
        "mae_3 = mae(Y_test, tf.squeeze(y_preds_3))\n",
        "mse_3 = mse(Y_test, tf.squeeze(y_preds_3))\n",
        "\n",
        "mae_3, mse_3"
      ],
      "metadata": {
        "id": "50vvceUQ2qn3",
        "outputId": "fe606c34-e885-4af1-c973-234a1b90bae3",
        "colab": {
          "base_uri": "https://localhost:8080/"
        }
      },
      "execution_count": 96,
      "outputs": [
        {
          "output_type": "execute_result",
          "data": {
            "text/plain": [
              "(<tf.Tensor: shape=(), dtype=float32, numpy=0.17884827>,\n",
              " <tf.Tensor: shape=(), dtype=float32, numpy=0.033571117>)"
            ]
          },
          "metadata": {},
          "execution_count": 96
        }
      ]
    },
    {
      "cell_type": "markdown",
      "source": [
        "### Comparing the results of our experiments"
      ],
      "metadata": {
        "id": "llOkLUV4vnHm"
      }
    },
    {
      "cell_type": "code",
      "source": [
        "# Let's compare our mode's results using a pandas DataFrame\n",
        "\n",
        "import pandas as pd\n",
        "\n",
        "model_results = [[\"model_1\", mae_1.numpy() , mse_1.numpy()],\n",
        "                 [\"model_2\", mae_2.numpy(), mse_2.numpy()],\n",
        "                 [\"model_3\", mae_3.numpy(), mse_3.numpy()]\n",
        "                 ]\n",
        "\n",
        "all_results = pd.DataFrame(model_results, columns=[\"model Name\",\"mae\",\"mse\"])\n",
        "all_results"
      ],
      "metadata": {
        "id": "IqAf0lefuwyR",
        "outputId": "d63fc83b-4f51-42e2-fdc2-e4c274b6b07b",
        "colab": {
          "base_uri": "https://localhost:8080/",
          "height": 0
        }
      },
      "execution_count": 97,
      "outputs": [
        {
          "output_type": "execute_result",
          "data": {
            "text/plain": [
              "  model Name        mae         mse\n",
              "0    model_1  18.745327  353.573364\n",
              "1    model_2   3.115851    9.892798\n",
              "2    model_3   0.178848    0.033571"
            ],
            "text/html": [
              "\n",
              "  <div id=\"df-097b3cc3-9ec9-457b-b6f4-feb270a37dd9\">\n",
              "    <div class=\"colab-df-container\">\n",
              "      <div>\n",
              "<style scoped>\n",
              "    .dataframe tbody tr th:only-of-type {\n",
              "        vertical-align: middle;\n",
              "    }\n",
              "\n",
              "    .dataframe tbody tr th {\n",
              "        vertical-align: top;\n",
              "    }\n",
              "\n",
              "    .dataframe thead th {\n",
              "        text-align: right;\n",
              "    }\n",
              "</style>\n",
              "<table border=\"1\" class=\"dataframe\">\n",
              "  <thead>\n",
              "    <tr style=\"text-align: right;\">\n",
              "      <th></th>\n",
              "      <th>model Name</th>\n",
              "      <th>mae</th>\n",
              "      <th>mse</th>\n",
              "    </tr>\n",
              "  </thead>\n",
              "  <tbody>\n",
              "    <tr>\n",
              "      <th>0</th>\n",
              "      <td>model_1</td>\n",
              "      <td>18.745327</td>\n",
              "      <td>353.573364</td>\n",
              "    </tr>\n",
              "    <tr>\n",
              "      <th>1</th>\n",
              "      <td>model_2</td>\n",
              "      <td>3.115851</td>\n",
              "      <td>9.892798</td>\n",
              "    </tr>\n",
              "    <tr>\n",
              "      <th>2</th>\n",
              "      <td>model_3</td>\n",
              "      <td>0.178848</td>\n",
              "      <td>0.033571</td>\n",
              "    </tr>\n",
              "  </tbody>\n",
              "</table>\n",
              "</div>\n",
              "      <button class=\"colab-df-convert\" onclick=\"convertToInteractive('df-097b3cc3-9ec9-457b-b6f4-feb270a37dd9')\"\n",
              "              title=\"Convert this dataframe to an interactive table.\"\n",
              "              style=\"display:none;\">\n",
              "        \n",
              "  <svg xmlns=\"http://www.w3.org/2000/svg\" height=\"24px\"viewBox=\"0 0 24 24\"\n",
              "       width=\"24px\">\n",
              "    <path d=\"M0 0h24v24H0V0z\" fill=\"none\"/>\n",
              "    <path d=\"M18.56 5.44l.94 2.06.94-2.06 2.06-.94-2.06-.94-.94-2.06-.94 2.06-2.06.94zm-11 1L8.5 8.5l.94-2.06 2.06-.94-2.06-.94L8.5 2.5l-.94 2.06-2.06.94zm10 10l.94 2.06.94-2.06 2.06-.94-2.06-.94-.94-2.06-.94 2.06-2.06.94z\"/><path d=\"M17.41 7.96l-1.37-1.37c-.4-.4-.92-.59-1.43-.59-.52 0-1.04.2-1.43.59L10.3 9.45l-7.72 7.72c-.78.78-.78 2.05 0 2.83L4 21.41c.39.39.9.59 1.41.59.51 0 1.02-.2 1.41-.59l7.78-7.78 2.81-2.81c.8-.78.8-2.07 0-2.86zM5.41 20L4 18.59l7.72-7.72 1.47 1.35L5.41 20z\"/>\n",
              "  </svg>\n",
              "      </button>\n",
              "      \n",
              "  <style>\n",
              "    .colab-df-container {\n",
              "      display:flex;\n",
              "      flex-wrap:wrap;\n",
              "      gap: 12px;\n",
              "    }\n",
              "\n",
              "    .colab-df-convert {\n",
              "      background-color: #E8F0FE;\n",
              "      border: none;\n",
              "      border-radius: 50%;\n",
              "      cursor: pointer;\n",
              "      display: none;\n",
              "      fill: #1967D2;\n",
              "      height: 32px;\n",
              "      padding: 0 0 0 0;\n",
              "      width: 32px;\n",
              "    }\n",
              "\n",
              "    .colab-df-convert:hover {\n",
              "      background-color: #E2EBFA;\n",
              "      box-shadow: 0px 1px 2px rgba(60, 64, 67, 0.3), 0px 1px 3px 1px rgba(60, 64, 67, 0.15);\n",
              "      fill: #174EA6;\n",
              "    }\n",
              "\n",
              "    [theme=dark] .colab-df-convert {\n",
              "      background-color: #3B4455;\n",
              "      fill: #D2E3FC;\n",
              "    }\n",
              "\n",
              "    [theme=dark] .colab-df-convert:hover {\n",
              "      background-color: #434B5C;\n",
              "      box-shadow: 0px 1px 3px 1px rgba(0, 0, 0, 0.15);\n",
              "      filter: drop-shadow(0px 1px 2px rgba(0, 0, 0, 0.3));\n",
              "      fill: #FFFFFF;\n",
              "    }\n",
              "  </style>\n",
              "\n",
              "      <script>\n",
              "        const buttonEl =\n",
              "          document.querySelector('#df-097b3cc3-9ec9-457b-b6f4-feb270a37dd9 button.colab-df-convert');\n",
              "        buttonEl.style.display =\n",
              "          google.colab.kernel.accessAllowed ? 'block' : 'none';\n",
              "\n",
              "        async function convertToInteractive(key) {\n",
              "          const element = document.querySelector('#df-097b3cc3-9ec9-457b-b6f4-feb270a37dd9');\n",
              "          const dataTable =\n",
              "            await google.colab.kernel.invokeFunction('convertToInteractive',\n",
              "                                                     [key], {});\n",
              "          if (!dataTable) return;\n",
              "\n",
              "          const docLinkHtml = 'Like what you see? Visit the ' +\n",
              "            '<a target=\"_blank\" href=https://colab.research.google.com/notebooks/data_table.ipynb>data table notebook</a>'\n",
              "            + ' to learn more about interactive tables.';\n",
              "          element.innerHTML = '';\n",
              "          dataTable['output_type'] = 'display_data';\n",
              "          await google.colab.output.renderOutput(dataTable, element);\n",
              "          const docLink = document.createElement('div');\n",
              "          docLink.innerHTML = docLinkHtml;\n",
              "          element.appendChild(docLink);\n",
              "        }\n",
              "      </script>\n",
              "    </div>\n",
              "  </div>\n",
              "  "
            ]
          },
          "metadata": {},
          "execution_count": 97
        }
      ]
    },
    {
      "cell_type": "markdown",
      "source": [
        "### 🔑 Model-3 look like best performing model among all three"
      ],
      "metadata": {
        "id": "NAbqp7rO20ZC"
      }
    },
    {
      "cell_type": "markdown",
      "source": [
        "## Tracking your experiments\n",
        "\n",
        "one really good habit in machine learning modelling is to track the results of your experiments.\n",
        "\n",
        "Below tool will help :\n",
        "\n",
        "* TensorBoard \n",
        "* weights & Biases (https://wandb.ai/site)\n",
        "\n"
      ],
      "metadata": {
        "id": "S-zYwqIn3Fz0"
      }
    },
    {
      "cell_type": "markdown",
      "source": [
        "### Save Model weights\n",
        "Saving our models allows us to use them outside of google colab ( or whereever they were trained) such as in web application or mobile application\n",
        "\n",
        "Models can save in two formate:\n",
        "1. The SavedModel format\n",
        "2. THe HDF5 format"
      ],
      "metadata": {
        "id": "tPDk7EGVL2vy"
      }
    },
    {
      "cell_type": "code",
      "source": [
        "# save model using the savedmodel format\n",
        "model_3.save(\"best_model_savedmodel_format\")"
      ],
      "metadata": {
        "id": "zE0jDLBl29rS"
      },
      "execution_count": 98,
      "outputs": []
    },
    {
      "cell_type": "code",
      "source": [
        "#  save model using HDF5 format\n",
        "model_3.save(\"best_model_HDF5.h5\")"
      ],
      "metadata": {
        "id": "K82KN5RlNC8S"
      },
      "execution_count": 99,
      "outputs": []
    },
    {
      "cell_type": "markdown",
      "source": [
        "### Load Saved Model"
      ],
      "metadata": {
        "id": "ix6m6PJCN-2k"
      }
    },
    {
      "cell_type": "code",
      "source": [
        "# load first saved model format\n",
        "loades_savedMOdel = tf.keras.models.load_model(\"/content/best_model_savedmodel_format\")"
      ],
      "metadata": {
        "id": "rtrVSMEXNYBq"
      },
      "execution_count": 100,
      "outputs": []
    },
    {
      "cell_type": "code",
      "source": [
        "# check summary\n",
        "loades_savedMOdel.summary()"
      ],
      "metadata": {
        "id": "C8jmD_o2OWr4",
        "outputId": "471665ae-7fdb-47a0-9d7c-4ede9ca1fdd6",
        "colab": {
          "base_uri": "https://localhost:8080/"
        }
      },
      "execution_count": 101,
      "outputs": [
        {
          "output_type": "stream",
          "name": "stdout",
          "text": [
            "Model: \"sequential_22\"\n",
            "_________________________________________________________________\n",
            " Layer (type)                Output Shape              Param #   \n",
            "=================================================================\n",
            " dense_37 (Dense)            (None, 64)                128       \n",
            "                                                                 \n",
            " dense_38 (Dense)            (None, 1)                 65        \n",
            "                                                                 \n",
            "=================================================================\n",
            "Total params: 193\n",
            "Trainable params: 193\n",
            "Non-trainable params: 0\n",
            "_________________________________________________________________\n"
          ]
        }
      ]
    },
    {
      "cell_type": "code",
      "source": [
        "# load HDF5 Model format\n",
        "loaded_HDF5_Model = tf.keras.models.load_model(\"/content/best_model_HDF5.h5\")"
      ],
      "metadata": {
        "id": "bvMN2e80ObpM"
      },
      "execution_count": 102,
      "outputs": []
    },
    {
      "cell_type": "code",
      "source": [
        "# check summary\n",
        "loaded_HDF5_Model.summary()"
      ],
      "metadata": {
        "id": "LNHV2DNLOvvH",
        "outputId": "e4c01278-f1f0-4dbf-a723-5e1f100deb3a",
        "colab": {
          "base_uri": "https://localhost:8080/"
        }
      },
      "execution_count": 103,
      "outputs": [
        {
          "output_type": "stream",
          "name": "stdout",
          "text": [
            "Model: \"sequential_22\"\n",
            "_________________________________________________________________\n",
            " Layer (type)                Output Shape              Param #   \n",
            "=================================================================\n",
            " dense_37 (Dense)            (None, 64)                128       \n",
            "                                                                 \n",
            " dense_38 (Dense)            (None, 1)                 65        \n",
            "                                                                 \n",
            "=================================================================\n",
            "Total params: 193\n",
            "Trainable params: 193\n",
            "Non-trainable params: 0\n",
            "_________________________________________________________________\n"
          ]
        }
      ]
    }
  ]
}
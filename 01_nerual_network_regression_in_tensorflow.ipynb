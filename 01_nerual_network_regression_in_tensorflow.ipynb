{
  "nbformat": 4,
  "nbformat_minor": 0,
  "metadata": {
    "colab": {
      "provenance": [],
      "authorship_tag": "ABX9TyOgwAj5qxrYLepM6F1ckkuC",
      "include_colab_link": true
    },
    "kernelspec": {
      "name": "python3",
      "display_name": "Python 3"
    },
    "language_info": {
      "name": "python"
    }
  },
  "cells": [
    {
      "cell_type": "markdown",
      "metadata": {
        "id": "view-in-github",
        "colab_type": "text"
      },
      "source": [
        "<a href=\"https://colab.research.google.com/github/RD191295/Tensorflow_Tutorials/blob/main/01_nerual_network_regression_in_tensorflow.ipynb\" target=\"_parent\"><img src=\"https://colab.research.google.com/assets/colab-badge.svg\" alt=\"Open In Colab\"/></a>"
      ]
    },
    {
      "cell_type": "markdown",
      "source": [
        "# Introduction to Regression with Nerual Networks in Tensorflow\n",
        "\n",
        "\n",
        "There are Many defination for a regression problem but in our case we are going to simplify it: predicting  a numerical variable based on som other combination of variables , even shorter... predicting number"
      ],
      "metadata": {
        "id": "QG9S58AJsV1y"
      }
    },
    {
      "cell_type": "code",
      "source": [
        "# Import tensorflow\n",
        "import tensorflow as tf\n",
        "print(tf.__version__)"
      ],
      "metadata": {
        "colab": {
          "base_uri": "https://localhost:8080/"
        },
        "id": "0X1rl37Xss37",
        "outputId": "39b28370-3b86-4ea2-a35f-4e9005c693f6"
      },
      "execution_count": 1,
      "outputs": [
        {
          "output_type": "stream",
          "name": "stdout",
          "text": [
            "2.8.2\n"
          ]
        }
      ]
    },
    {
      "cell_type": "markdown",
      "source": [
        "# Creating data to view and fit"
      ],
      "metadata": {
        "id": "hkfIXSTOs7Ki"
      }
    },
    {
      "cell_type": "code",
      "source": [
        "import numpy as np\n",
        "import matplotlib.pyplot as plt\n",
        "\n",
        "# create features\n",
        "x = np.array([-7.0, -4.0, -1.0, 2.0, 5.0, 8.0, 11.0, 14.0])\n",
        "\n",
        "# create labels\n",
        "y = np.array([3.0, 6.0, 9.0, 12.0, 15.0, 18.0, 21.0, 24.0])\n",
        "\n",
        "# Visualize it\n",
        "plt.scatter(x, y)"
      ],
      "metadata": {
        "colab": {
          "base_uri": "https://localhost:8080/",
          "height": 286
        },
        "id": "Y9q64ATas55r",
        "outputId": "fc6c08f3-7021-427d-8f74-eff331e1d081"
      },
      "execution_count": 2,
      "outputs": [
        {
          "output_type": "execute_result",
          "data": {
            "text/plain": [
              "<matplotlib.collections.PathCollection at 0x7fe0d3771ad0>"
            ]
          },
          "metadata": {},
          "execution_count": 2
        },
        {
          "output_type": "display_data",
          "data": {
            "text/plain": [
              "<Figure size 432x288 with 1 Axes>"
            ],
            "image/png": "[encoded data removed]"
          },
          "metadata": {
            "needs_background": "light"
          }
        }
      ]
    },
    {
      "cell_type": "markdown",
      "source": [
        "## Input and Output shapes"
      ],
      "metadata": {
        "id": "o9HOMeDEt-J5"
      }
    },
    {
      "cell_type": "code",
      "source": [
        "# create a demo tensor for our housing price prediction problem\n",
        "house_info = tf.constant([\"bedroom\", \"bathroom\", \"garage\"])\n",
        "house_price = tf.constant([939700])\n",
        "house_info, house_price                         "
      ],
      "metadata": {
        "colab": {
          "base_uri": "https://localhost:8080/"
        },
        "id": "Ofi06hU2uBRw",
        "outputId": "d47c235c-7623-4d70-e20c-ebcae461b8fb"
      },
      "execution_count": 3,
      "outputs": [
        {
          "output_type": "execute_result",
          "data": {
            "text/plain": [
              "(<tf.Tensor: shape=(3,), dtype=string, numpy=array([b'bedroom', b'bathroom', b'garage'], dtype=object)>,\n",
              " <tf.Tensor: shape=(1,), dtype=int32, numpy=array([939700], dtype=int32)>)"
            ]
          },
          "metadata": {},
          "execution_count": 3
        }
      ]
    },
    {
      "cell_type": "code",
      "source": [
        "x[0], y[0]"
      ],
      "metadata": {
        "colab": {
          "base_uri": "https://localhost:8080/"
        },
        "id": "SObjt0d8uzo2",
        "outputId": "6b90365f-7f8e-42ec-ecd2-4efbff5b7016"
      },
      "execution_count": 4,
      "outputs": [
        {
          "output_type": "execute_result",
          "data": {
            "text/plain": [
              "(-7.0, 3.0)"
            ]
          },
          "metadata": {},
          "execution_count": 4
        }
      ]
    },
    {
      "cell_type": "code",
      "source": [
        "x[1], y[1]"
      ],
      "metadata": {
        "colab": {
          "base_uri": "https://localhost:8080/"
        },
        "id": "TzeL-XRnu3U6",
        "outputId": "1986d454-3742-4b42-f3e0-db94acb6f092"
      },
      "execution_count": 5,
      "outputs": [
        {
          "output_type": "execute_result",
          "data": {
            "text/plain": [
              "(-4.0, 6.0)"
            ]
          },
          "metadata": {},
          "execution_count": 5
        }
      ]
    },
    {
      "cell_type": "code",
      "source": [
        "input_shape = x.shape\n",
        "output_shape = y.shape\n",
        "input_shape, output_shape"
      ],
      "metadata": {
        "colab": {
          "base_uri": "https://localhost:8080/"
        },
        "id": "N2EsdPL8ujkI",
        "outputId": "6158448f-0023-4e5d-afd5-7f1752f3602a"
      },
      "execution_count": 6,
      "outputs": [
        {
          "output_type": "execute_result",
          "data": {
            "text/plain": [
              "((8,), (8,))"
            ]
          },
          "metadata": {},
          "execution_count": 6
        }
      ]
    },
    {
      "cell_type": "code",
      "source": [
        "# Turn our Numpy array into tensors\n",
        "X = tf.constant(x)\n",
        "y = tf.constant(y)\n",
        "x, y"
      ],
      "metadata": {
        "colab": {
          "base_uri": "https://localhost:8080/"
        },
        "id": "WkNRlyfCvA5A",
        "outputId": "18b9afa4-2ab3-4d85-c2f7-73ce0b3c85f9"
      },
      "execution_count": 7,
      "outputs": [
        {
          "output_type": "execute_result",
          "data": {
            "text/plain": [
              "(array([-7., -4., -1.,  2.,  5.,  8., 11., 14.]),\n",
              " <tf.Tensor: shape=(8,), dtype=float64, numpy=array([ 3.,  6.,  9., 12., 15., 18., 21., 24.])>)"
            ]
          },
          "metadata": {},
          "execution_count": 7
        }
      ]
    },
    {
      "cell_type": "markdown",
      "source": [
        "## steps in modeling with Tensorflow\n",
        "\n",
        "1. **creating a model** - define the input and output layers, as well as the hidden layers of a deep learning model.\n",
        "\n",
        "2. **compiling a model** - define the loss function( in other words , the function which tells our model how wrong it is) and the optimizer ( tells our model how to improve the patterns its learning) and evaluation metrics ( what we can use to interpret the performance of our model)\n",
        "\n",
        "3. **Fitting a model**- letting the model try to find patterns between x & y"
      ],
      "metadata": {
        "id": "rRIz8FUiv65p"
      }
    },
    {
      "cell_type": "code",
      "source": [
        "# set random seed\n",
        "tf.random.set_seed(42)\n",
        "\n",
        "# 1. Build model using the sequential API\n",
        "\n",
        "model = tf.keras.Sequential([\n",
        "    tf.keras.layers.Dense(1)\n",
        "])\n",
        "# 2. compile the model\n",
        "\n",
        "model.compile(loss = tf.keras.losses.mae,\n",
        "              optimizer = tf.keras.optimizers.SGD(),\n",
        "              metrics = [\"mae\"])\n",
        "\n",
        "# 3. Fit the model\n",
        "model.fit(tf.expand_dims(X,axis = -1),y, epochs = 25)"
      ],
      "metadata": {
        "colab": {
          "base_uri": "https://localhost:8080/"
        },
        "id": "ku7l_gSbvzQt",
        "outputId": "77a30f9c-fd0f-439f-a279-f4e7de8d91e6"
      },
      "execution_count": 8,
      "outputs": [
        {
          "output_type": "stream",
          "name": "stdout",
          "text": [
            "Epoch 1/25\n",
            "1/1 [==============================] - 1s 553ms/step - loss: 11.5048 - mae: 11.5048\n",
            "Epoch 2/25\n",
            "1/1 [==============================] - 0s 6ms/step - loss: 11.3723 - mae: 11.3723\n",
            "Epoch 3/25\n",
            "1/1 [==============================] - 0s 7ms/step - loss: 11.2398 - mae: 11.2398\n",
            "Epoch 4/25\n",
            "1/1 [==============================] - 0s 6ms/step - loss: 11.1073 - mae: 11.1073\n",
            "Epoch 5/25\n",
            "1/1 [==============================] - 0s 6ms/step - loss: 10.9748 - mae: 10.9748\n",
            "Epoch 6/25\n",
            "1/1 [==============================] - 0s 10ms/step - loss: 10.8423 - mae: 10.8423\n",
            "Epoch 7/25\n",
            "1/1 [==============================] - 0s 10ms/step - loss: 10.7098 - mae: 10.7098\n",
            "Epoch 8/25\n",
            "1/1 [==============================] - 0s 9ms/step - loss: 10.5773 - mae: 10.5773\n",
            "Epoch 9/25\n",
            "1/1 [==============================] - 0s 8ms/step - loss: 10.4448 - mae: 10.4448\n",
            "Epoch 10/25\n",
            "1/1 [==============================] - 0s 11ms/step - loss: 10.3123 - mae: 10.3123\n",
            "Epoch 11/25\n",
            "1/1 [==============================] - 0s 6ms/step - loss: 10.1798 - mae: 10.1798\n",
            "Epoch 12/25\n",
            "1/1 [==============================] - 0s 7ms/step - loss: 10.0473 - mae: 10.0473\n",
            "Epoch 13/25\n",
            "1/1 [==============================] - 0s 6ms/step - loss: 9.9148 - mae: 9.9148\n",
            "Epoch 14/25\n",
            "1/1 [==============================] - 0s 7ms/step - loss: 9.7823 - mae: 9.7823\n",
            "Epoch 15/25\n",
            "1/1 [==============================] - 0s 6ms/step - loss: 9.6498 - mae: 9.6498\n",
            "Epoch 16/25\n",
            "1/1 [==============================] - 0s 6ms/step - loss: 9.5173 - mae: 9.5173\n",
            "Epoch 17/25\n",
            "1/1 [==============================] - 0s 6ms/step - loss: 9.3848 - mae: 9.3848\n",
            "Epoch 18/25\n",
            "1/1 [==============================] - 0s 6ms/step - loss: 9.2523 - mae: 9.2523\n",
            "Epoch 19/25\n",
            "1/1 [==============================] - 0s 6ms/step - loss: 9.1198 - mae: 9.1198\n",
            "Epoch 20/25\n",
            "1/1 [==============================] - 0s 6ms/step - loss: 8.9873 - mae: 8.9873\n",
            "Epoch 21/25\n",
            "1/1 [==============================] - 0s 6ms/step - loss: 8.8548 - mae: 8.8548\n",
            "Epoch 22/25\n",
            "1/1 [==============================] - 0s 6ms/step - loss: 8.7223 - mae: 8.7223\n",
            "Epoch 23/25\n",
            "1/1 [==============================] - 0s 5ms/step - loss: 8.5898 - mae: 8.5898\n",
            "Epoch 24/25\n",
            "1/1 [==============================] - 0s 5ms/step - loss: 8.4573 - mae: 8.4573\n",
            "Epoch 25/25\n",
            "1/1 [==============================] - 0s 5ms/step - loss: 8.3248 - mae: 8.3248\n"
          ]
        },
        {
          "output_type": "execute_result",
          "data": {
            "text/plain": [
              "<keras.callbacks.History at 0x7fe0cf487b50>"
            ]
          },
          "metadata": {},
          "execution_count": 8
        }
      ]
    },
    {
      "cell_type": "code",
      "source": [
        "# check out X and y\n",
        "X, y"
      ],
      "metadata": {
        "colab": {
          "base_uri": "https://localhost:8080/"
        },
        "id": "tsXLbNd70hKE",
        "outputId": "1ba6d689-4455-4001-bd17-0f6049252583"
      },
      "execution_count": 9,
      "outputs": [
        {
          "output_type": "execute_result",
          "data": {
            "text/plain": [
              "(<tf.Tensor: shape=(8,), dtype=float64, numpy=array([-7., -4., -1.,  2.,  5.,  8., 11., 14.])>,\n",
              " <tf.Tensor: shape=(8,), dtype=float64, numpy=array([ 3.,  6.,  9., 12., 15., 18., 21., 24.])>)"
            ]
          },
          "metadata": {},
          "execution_count": 9
        }
      ]
    },
    {
      "cell_type": "code",
      "source": [
        "# Try and make prediction using our model\n",
        "model.predict([17.0])"
      ],
      "metadata": {
        "colab": {
          "base_uri": "https://localhost:8080/"
        },
        "id": "a8YN3ekQ0njN",
        "outputId": "c4198d58-b375-463d-c0e3-028b682d8796"
      },
      "execution_count": 10,
      "outputs": [
        {
          "output_type": "execute_result",
          "data": {
            "text/plain": [
              "array([[24.816017]], dtype=float32)"
            ]
          },
          "metadata": {},
          "execution_count": 10
        }
      ]
    },
    {
      "cell_type": "markdown",
      "source": [
        "## Improve Model\n",
        "\n",
        "We can imporve our model , by altering the steps we took to create model.\n",
        "\n",
        "1. **Creating a Model** - we might add more layers, increase the number of hidden units( all called neurons) within each of the hidden layers, change the activation function of each layer.\n",
        "\n",
        "2. **compiling model** - here we might change optimization function or perhaps the lerning rate of the optimization function.\n",
        "\n",
        "3. **Fitting model** - here we might fit a model for more epochs (leave it training for longer) or on more data(give the model more examples to learn from)"
      ],
      "metadata": {
        "id": "wN_KM7y_1DIB"
      }
    },
    {
      "cell_type": "code",
      "source": [
        "# 1. Build model using the sequential API\n",
        "\n",
        "model = tf.keras.Sequential([\n",
        "    tf.keras.layers.Dense(units = 64 , activation = \"relu\"),\n",
        "    tf.keras.layers.Dense(units = 32, activation = \"relu\"),\n",
        "    tf.keras.layers.Dense(units = 16, activation = \"relu\"),\n",
        "    tf.keras.layers.Dense(1)\n",
        "])\n",
        "# 2. compile the model\n",
        "\n",
        "model.compile(loss = tf.keras.losses.mae,\n",
        "              optimizer = tf.keras.optimizers.Adam(lr = 0.01),\n",
        "              metrics = [\"mae\"])\n",
        "\n",
        "# 3. Fit the model\n",
        "model.fit(tf.expand_dims(X,axis = -1),y, epochs = 100)"
      ],
      "metadata": {
        "id": "GqSaZD0H1GC8",
        "outputId": "1955be6c-3241-4a64-ee44-d8bc68fb46f8",
        "colab": {
          "base_uri": "https://localhost:8080/"
        }
      },
      "execution_count": 11,
      "outputs": [
        {
          "output_type": "stream",
          "name": "stdout",
          "text": [
            "Epoch 1/100\n"
          ]
        },
        {
          "output_type": "stream",
          "name": "stderr",
          "text": [
            "/usr/local/lib/python3.7/dist-packages/keras/optimizer_v2/adam.py:105: UserWarning: The `lr` argument is deprecated, use `learning_rate` instead.\n",
            "  super(Adam, self).__init__(name, **kwargs)\n"
          ]
        },
        {
          "output_type": "stream",
          "name": "stdout",
          "text": [
            "1/1 [==============================] - 1s 616ms/step - loss: 12.5606 - mae: 12.5606\n",
            "Epoch 2/100\n",
            "1/1 [==============================] - 0s 9ms/step - loss: 11.2003 - mae: 11.2003\n",
            "Epoch 3/100\n",
            "1/1 [==============================] - 0s 7ms/step - loss: 10.0089 - mae: 10.0089\n",
            "Epoch 4/100\n",
            "1/1 [==============================] - 0s 6ms/step - loss: 8.4663 - mae: 8.4663\n",
            "Epoch 5/100\n",
            "1/1 [==============================] - 0s 6ms/step - loss: 6.4502 - mae: 6.4502\n",
            "Epoch 6/100\n",
            "1/1 [==============================] - 0s 6ms/step - loss: 4.0821 - mae: 4.0821\n",
            "Epoch 7/100\n",
            "1/1 [==============================] - 0s 8ms/step - loss: 4.3891 - mae: 4.3891\n",
            "Epoch 8/100\n",
            "1/1 [==============================] - 0s 9ms/step - loss: 5.2313 - mae: 5.2313\n",
            "Epoch 9/100\n",
            "1/1 [==============================] - 0s 20ms/step - loss: 5.3820 - mae: 5.3820\n",
            "Epoch 10/100\n",
            "1/1 [==============================] - 0s 15ms/step - loss: 5.0437 - mae: 5.0437\n",
            "Epoch 11/100\n",
            "1/1 [==============================] - 0s 10ms/step - loss: 4.4166 - mae: 4.4166\n",
            "Epoch 12/100\n",
            "1/1 [==============================] - 0s 13ms/step - loss: 3.7783 - mae: 3.7783\n",
            "Epoch 13/100\n",
            "1/1 [==============================] - 0s 7ms/step - loss: 3.4726 - mae: 3.4726\n",
            "Epoch 14/100\n",
            "1/1 [==============================] - 0s 8ms/step - loss: 3.9894 - mae: 3.9894\n",
            "Epoch 15/100\n",
            "1/1 [==============================] - 0s 14ms/step - loss: 4.0766 - mae: 4.0766\n",
            "Epoch 16/100\n",
            "1/1 [==============================] - 0s 11ms/step - loss: 3.6499 - mae: 3.6499\n",
            "Epoch 17/100\n",
            "1/1 [==============================] - 0s 9ms/step - loss: 3.3363 - mae: 3.3363\n",
            "Epoch 18/100\n",
            "1/1 [==============================] - 0s 8ms/step - loss: 3.4563 - mae: 3.4563\n",
            "Epoch 19/100\n",
            "1/1 [==============================] - 0s 9ms/step - loss: 3.6947 - mae: 3.6947\n",
            "Epoch 20/100\n",
            "1/1 [==============================] - 0s 11ms/step - loss: 3.8025 - mae: 3.8025\n",
            "Epoch 21/100\n",
            "1/1 [==============================] - 0s 12ms/step - loss: 3.6528 - mae: 3.6528\n",
            "Epoch 22/100\n",
            "1/1 [==============================] - 0s 11ms/step - loss: 3.3137 - mae: 3.3137\n",
            "Epoch 23/100\n",
            "1/1 [==============================] - 0s 10ms/step - loss: 3.1413 - mae: 3.1413\n",
            "Epoch 24/100\n",
            "1/1 [==============================] - 0s 10ms/step - loss: 2.9541 - mae: 2.9541\n",
            "Epoch 25/100\n",
            "1/1 [==============================] - 0s 6ms/step - loss: 3.0566 - mae: 3.0566\n",
            "Epoch 26/100\n",
            "1/1 [==============================] - 0s 8ms/step - loss: 3.1590 - mae: 3.1590\n",
            "Epoch 27/100\n",
            "1/1 [==============================] - 0s 7ms/step - loss: 2.8859 - mae: 2.8859\n",
            "Epoch 28/100\n",
            "1/1 [==============================] - 0s 7ms/step - loss: 2.6243 - mae: 2.6243\n",
            "Epoch 29/100\n",
            "1/1 [==============================] - 0s 8ms/step - loss: 2.5821 - mae: 2.5821\n",
            "Epoch 30/100\n",
            "1/1 [==============================] - 0s 9ms/step - loss: 2.6465 - mae: 2.6465\n",
            "Epoch 31/100\n",
            "1/1 [==============================] - 0s 7ms/step - loss: 2.5887 - mae: 2.5887\n",
            "Epoch 32/100\n",
            "1/1 [==============================] - 0s 7ms/step - loss: 2.2842 - mae: 2.2842\n",
            "Epoch 33/100\n",
            "1/1 [==============================] - 0s 7ms/step - loss: 2.0518 - mae: 2.0518\n",
            "Epoch 34/100\n",
            "1/1 [==============================] - 0s 7ms/step - loss: 2.0723 - mae: 2.0723\n",
            "Epoch 35/100\n",
            "1/1 [==============================] - 0s 7ms/step - loss: 2.2755 - mae: 2.2755\n",
            "Epoch 36/100\n",
            "1/1 [==============================] - 0s 7ms/step - loss: 1.8126 - mae: 1.8126\n",
            "Epoch 37/100\n",
            "1/1 [==============================] - 0s 7ms/step - loss: 1.4057 - mae: 1.4057\n",
            "Epoch 38/100\n",
            "1/1 [==============================] - 0s 12ms/step - loss: 1.6455 - mae: 1.6455\n",
            "Epoch 39/100\n",
            "1/1 [==============================] - 0s 8ms/step - loss: 1.7309 - mae: 1.7309\n",
            "Epoch 40/100\n",
            "1/1 [==============================] - 0s 7ms/step - loss: 1.4895 - mae: 1.4895\n",
            "Epoch 41/100\n",
            "1/1 [==============================] - 0s 7ms/step - loss: 0.8414 - mae: 0.8414\n",
            "Epoch 42/100\n",
            "1/1 [==============================] - 0s 10ms/step - loss: 1.0293 - mae: 1.0293\n",
            "Epoch 43/100\n",
            "1/1 [==============================] - 0s 13ms/step - loss: 0.8624 - mae: 0.8624\n",
            "Epoch 44/100\n",
            "1/1 [==============================] - 0s 7ms/step - loss: 0.4404 - mae: 0.4404\n",
            "Epoch 45/100\n",
            "1/1 [==============================] - 0s 7ms/step - loss: 1.1303 - mae: 1.1303\n",
            "Epoch 46/100\n",
            "1/1 [==============================] - 0s 8ms/step - loss: 1.1307 - mae: 1.1307\n",
            "Epoch 47/100\n",
            "1/1 [==============================] - 0s 7ms/step - loss: 0.5591 - mae: 0.5591\n",
            "Epoch 48/100\n",
            "1/1 [==============================] - 0s 7ms/step - loss: 1.2755 - mae: 1.2755\n",
            "Epoch 49/100\n",
            "1/1 [==============================] - 0s 9ms/step - loss: 1.6786 - mae: 1.6786\n",
            "Epoch 50/100\n",
            "1/1 [==============================] - 0s 8ms/step - loss: 1.9197 - mae: 1.9197\n",
            "Epoch 51/100\n",
            "1/1 [==============================] - 0s 7ms/step - loss: 1.5821 - mae: 1.5821\n",
            "Epoch 52/100\n",
            "1/1 [==============================] - 0s 8ms/step - loss: 0.7332 - mae: 0.7332\n",
            "Epoch 53/100\n",
            "1/1 [==============================] - 0s 8ms/step - loss: 1.2057 - mae: 1.2057\n",
            "Epoch 54/100\n",
            "1/1 [==============================] - 0s 8ms/step - loss: 1.7445 - mae: 1.7445\n",
            "Epoch 55/100\n",
            "1/1 [==============================] - 0s 8ms/step - loss: 1.6944 - mae: 1.6944\n",
            "Epoch 56/100\n",
            "1/1 [==============================] - 0s 8ms/step - loss: 0.7591 - mae: 0.7591\n",
            "Epoch 57/100\n",
            "1/1 [==============================] - 0s 8ms/step - loss: 0.8768 - mae: 0.8768\n",
            "Epoch 58/100\n",
            "1/1 [==============================] - 0s 8ms/step - loss: 1.4812 - mae: 1.4812\n",
            "Epoch 59/100\n",
            "1/1 [==============================] - 0s 10ms/step - loss: 1.5260 - mae: 1.5260\n",
            "Epoch 60/100\n",
            "1/1 [==============================] - 0s 7ms/step - loss: 0.9434 - mae: 0.9434\n",
            "Epoch 61/100\n",
            "1/1 [==============================] - 0s 16ms/step - loss: 0.2534 - mae: 0.2534\n",
            "Epoch 62/100\n",
            "1/1 [==============================] - 0s 11ms/step - loss: 0.9430 - mae: 0.9430\n",
            "Epoch 63/100\n",
            "1/1 [==============================] - 0s 24ms/step - loss: 0.9091 - mae: 0.9091\n",
            "Epoch 64/100\n",
            "1/1 [==============================] - 0s 12ms/step - loss: 0.3503 - mae: 0.3503\n",
            "Epoch 65/100\n",
            "1/1 [==============================] - 0s 10ms/step - loss: 0.6784 - mae: 0.6784\n",
            "Epoch 66/100\n",
            "1/1 [==============================] - 0s 7ms/step - loss: 0.9361 - mae: 0.9361\n",
            "Epoch 67/100\n",
            "1/1 [==============================] - 0s 7ms/step - loss: 0.7537 - mae: 0.7537\n",
            "Epoch 68/100\n",
            "1/1 [==============================] - 0s 7ms/step - loss: 0.2985 - mae: 0.2985\n",
            "Epoch 69/100\n",
            "1/1 [==============================] - 0s 10ms/step - loss: 0.8219 - mae: 0.8219\n",
            "Epoch 70/100\n",
            "1/1 [==============================] - 0s 7ms/step - loss: 1.0525 - mae: 1.0525\n",
            "Epoch 71/100\n",
            "1/1 [==============================] - 0s 7ms/step - loss: 0.8515 - mae: 0.8515\n",
            "Epoch 72/100\n",
            "1/1 [==============================] - 0s 7ms/step - loss: 0.2612 - mae: 0.2612\n",
            "Epoch 73/100\n",
            "1/1 [==============================] - 0s 7ms/step - loss: 0.6074 - mae: 0.6074\n",
            "Epoch 74/100\n",
            "1/1 [==============================] - 0s 8ms/step - loss: 0.8158 - mae: 0.8158\n",
            "Epoch 75/100\n",
            "1/1 [==============================] - 0s 7ms/step - loss: 0.5925 - mae: 0.5925\n",
            "Epoch 76/100\n",
            "1/1 [==============================] - 0s 7ms/step - loss: 0.2210 - mae: 0.2210\n",
            "Epoch 77/100\n",
            "1/1 [==============================] - 0s 7ms/step - loss: 0.5664 - mae: 0.5664\n",
            "Epoch 78/100\n",
            "1/1 [==============================] - 0s 7ms/step - loss: 0.5400 - mae: 0.5400\n",
            "Epoch 79/100\n",
            "1/1 [==============================] - 0s 8ms/step - loss: 0.2183 - mae: 0.2183\n",
            "Epoch 80/100\n",
            "1/1 [==============================] - 0s 6ms/step - loss: 0.4670 - mae: 0.4670\n",
            "Epoch 81/100\n",
            "1/1 [==============================] - 0s 7ms/step - loss: 0.4790 - mae: 0.4790\n",
            "Epoch 82/100\n",
            "1/1 [==============================] - 0s 6ms/step - loss: 0.2406 - mae: 0.2406\n",
            "Epoch 83/100\n",
            "1/1 [==============================] - 0s 7ms/step - loss: 0.3497 - mae: 0.3497\n",
            "Epoch 84/100\n",
            "1/1 [==============================] - 0s 6ms/step - loss: 0.2122 - mae: 0.2122\n",
            "Epoch 85/100\n",
            "1/1 [==============================] - 0s 8ms/step - loss: 0.3656 - mae: 0.3656\n",
            "Epoch 86/100\n",
            "1/1 [==============================] - 0s 6ms/step - loss: 0.2140 - mae: 0.2140\n",
            "Epoch 87/100\n",
            "1/1 [==============================] - 0s 7ms/step - loss: 0.2873 - mae: 0.2873\n",
            "Epoch 88/100\n",
            "1/1 [==============================] - 0s 6ms/step - loss: 0.1712 - mae: 0.1712\n",
            "Epoch 89/100\n",
            "1/1 [==============================] - 0s 7ms/step - loss: 0.3607 - mae: 0.3607\n",
            "Epoch 90/100\n",
            "1/1 [==============================] - 0s 6ms/step - loss: 0.2277 - mae: 0.2277\n",
            "Epoch 91/100\n",
            "1/1 [==============================] - 0s 7ms/step - loss: 0.3167 - mae: 0.3167\n",
            "Epoch 92/100\n",
            "1/1 [==============================] - 0s 7ms/step - loss: 0.2721 - mae: 0.2721\n",
            "Epoch 93/100\n",
            "1/1 [==============================] - 0s 8ms/step - loss: 0.4270 - mae: 0.4270\n",
            "Epoch 94/100\n",
            "1/1 [==============================] - 0s 7ms/step - loss: 0.3581 - mae: 0.3581\n",
            "Epoch 95/100\n",
            "1/1 [==============================] - 0s 7ms/step - loss: 0.1960 - mae: 0.1960\n",
            "Epoch 96/100\n",
            "1/1 [==============================] - 0s 8ms/step - loss: 0.2043 - mae: 0.2043\n",
            "Epoch 97/100\n",
            "1/1 [==============================] - 0s 8ms/step - loss: 0.3586 - mae: 0.3586\n",
            "Epoch 98/100\n",
            "1/1 [==============================] - 0s 10ms/step - loss: 0.2007 - mae: 0.2007\n",
            "Epoch 99/100\n",
            "1/1 [==============================] - 0s 8ms/step - loss: 0.4130 - mae: 0.4130\n",
            "Epoch 100/100\n",
            "1/1 [==============================] - 0s 6ms/step - loss: 0.5114 - mae: 0.5114\n"
          ]
        },
        {
          "output_type": "execute_result",
          "data": {
            "text/plain": [
              "<keras.callbacks.History at 0x7fe0cc266e90>"
            ]
          },
          "metadata": {},
          "execution_count": 11
        }
      ]
    },
    {
      "cell_type": "code",
      "source": [
        "# Try and make prediction using our model\n",
        "model.predict([17.0])"
      ],
      "metadata": {
        "id": "__kL_fvMXgSX",
        "outputId": "9f9afea4-9837-4f54-86b6-45c1a78d6ffd",
        "colab": {
          "base_uri": "https://localhost:8080/"
        }
      },
      "execution_count": 12,
      "outputs": [
        {
          "output_type": "execute_result",
          "data": {
            "text/plain": [
              "array([[28.058153]], dtype=float32)"
            ]
          },
          "metadata": {},
          "execution_count": 12
        }
      ]
    },
    {
      "cell_type": "code",
      "source": [
        "# check out X and y\n",
        "X, y"
      ],
      "metadata": {
        "id": "ESyAj1YVezl5",
        "outputId": "201cf937-6965-4ac5-c30b-9bdf2dbb194d",
        "colab": {
          "base_uri": "https://localhost:8080/"
        }
      },
      "execution_count": 13,
      "outputs": [
        {
          "output_type": "execute_result",
          "data": {
            "text/plain": [
              "(<tf.Tensor: shape=(8,), dtype=float64, numpy=array([-7., -4., -1.,  2.,  5.,  8., 11., 14.])>,\n",
              " <tf.Tensor: shape=(8,), dtype=float64, numpy=array([ 3.,  6.,  9., 12., 15., 18., 21., 24.])>)"
            ]
          },
          "metadata": {},
          "execution_count": 13
        }
      ]
    },
    {
      "cell_type": "markdown",
      "source": [
        "## Evaluting a model\n",
        "\n",
        "In Practice a typical workflow you will go through when building nerual network is :\n",
        "\n",
        "Build Model --> Fit it --> Evalute It -->tweak a model -> fit it --> evalute it -->tweak a model "
      ],
      "metadata": {
        "id": "1p5yQvtzhjfB"
      }
    },
    {
      "cell_type": "code",
      "source": [
        "# Make a bigger dataset\n",
        "X = tf.range(-100, 100, 4)\n",
        "X"
      ],
      "metadata": {
        "id": "UZaTnKnfhs30",
        "outputId": "55fcc36d-e085-4bcc-e0d5-f36bc34daf6d",
        "colab": {
          "base_uri": "https://localhost:8080/"
        }
      },
      "execution_count": 14,
      "outputs": [
        {
          "output_type": "execute_result",
          "data": {
            "text/plain": [
              "<tf.Tensor: shape=(50,), dtype=int32, numpy=\n",
              "array([-100,  -96,  -92,  -88,  -84,  -80,  -76,  -72,  -68,  -64,  -60,\n",
              "        -56,  -52,  -48,  -44,  -40,  -36,  -32,  -28,  -24,  -20,  -16,\n",
              "        -12,   -8,   -4,    0,    4,    8,   12,   16,   20,   24,   28,\n",
              "         32,   36,   40,   44,   48,   52,   56,   60,   64,   68,   72,\n",
              "         76,   80,   84,   88,   92,   96], dtype=int32)>"
            ]
          },
          "metadata": {},
          "execution_count": 14
        }
      ]
    },
    {
      "cell_type": "code",
      "source": [
        "# Make labels for the dataset\n",
        "Y = X +10\n",
        "Y"
      ],
      "metadata": {
        "id": "Oy8rJTjqhbd6",
        "outputId": "b09df145-4061-484f-9a20-6e9f6df14e63",
        "colab": {
          "base_uri": "https://localhost:8080/"
        }
      },
      "execution_count": 15,
      "outputs": [
        {
          "output_type": "execute_result",
          "data": {
            "text/plain": [
              "<tf.Tensor: shape=(50,), dtype=int32, numpy=\n",
              "array([-90, -86, -82, -78, -74, -70, -66, -62, -58, -54, -50, -46, -42,\n",
              "       -38, -34, -30, -26, -22, -18, -14, -10,  -6,  -2,   2,   6,  10,\n",
              "        14,  18,  22,  26,  30,  34,  38,  42,  46,  50,  54,  58,  62,\n",
              "        66,  70,  74,  78,  82,  86,  90,  94,  98, 102, 106], dtype=int32)>"
            ]
          },
          "metadata": {},
          "execution_count": 15
        }
      ]
    },
    {
      "cell_type": "code",
      "source": [
        "# Visalize Dataset\n",
        "import matplotlib.pyplot as plt\n",
        "plt.scatter(X, Y)"
      ],
      "metadata": {
        "id": "UUMvG6T5ixZL",
        "outputId": "b45dd6c0-c17d-464c-9a18-b73e66f60e55",
        "colab": {
          "base_uri": "https://localhost:8080/",
          "height": 282
        }
      },
      "execution_count": 16,
      "outputs": [
        {
          "output_type": "execute_result",
          "data": {
            "text/plain": [
              "<matplotlib.collections.PathCollection at 0x7fe0cdb7d590>"
            ]
          },
          "metadata": {},
          "execution_count": 16
        },
        {
          "output_type": "display_data",
          "data": {
            "text/plain": [
              "<Figure size 432x288 with 1 Axes>"
            ],
            "image/png": "[encoded data removed]"
          },
          "metadata": {
            "needs_background": "light"
          }
        }
      ]
    },
    {
      "cell_type": "markdown",
      "source": [
        "### The 3 sets....\n",
        "\n",
        "* **Training Set** - the model learns from this data , which is typically 70-80% of the total data you have available.\n",
        "\n",
        "* **Validation set** - the model gets tuned on this data, which is typically 10-15% of the data avilable.\n",
        "\n",
        "* **Test set** - the model gets evaluted on this data to test what is has learned , this set is typically 10-15% of the total data available."
      ],
      "metadata": {
        "id": "IS103dKMn044"
      }
    },
    {
      "cell_type": "code",
      "source": [
        "# check the length of how many samples we have\n",
        "len(X)"
      ],
      "metadata": {
        "id": "DtXzCqM6i9bs",
        "outputId": "737498e1-310b-45a2-c275-f290d253463a",
        "colab": {
          "base_uri": "https://localhost:8080/"
        }
      },
      "execution_count": 17,
      "outputs": [
        {
          "output_type": "execute_result",
          "data": {
            "text/plain": [
              "50"
            ]
          },
          "metadata": {},
          "execution_count": 17
        }
      ]
    },
    {
      "cell_type": "code",
      "source": [
        "# split the data into train and test sets\n",
        "X_train = X[:40]\n",
        "Y_train = Y[:40]\n",
        "X_test = X[40:]\n",
        "Y_test = Y[40:]\n",
        "\n",
        "len(X_train), len(X_test), len(Y_train), len(Y_test)"
      ],
      "metadata": {
        "id": "bFCuEQhRpLw1",
        "outputId": "202b0c03-e57a-415a-c023-0dbbfeef845c",
        "colab": {
          "base_uri": "https://localhost:8080/"
        }
      },
      "execution_count": 18,
      "outputs": [
        {
          "output_type": "execute_result",
          "data": {
            "text/plain": [
              "(40, 10, 40, 10)"
            ]
          },
          "metadata": {},
          "execution_count": 18
        }
      ]
    },
    {
      "cell_type": "markdown",
      "source": [
        "## Visalizing data\n",
        "Now we have got our data in training and test sets...let's visualize it again!!\n"
      ],
      "metadata": {
        "id": "qCguTKC7qRhP"
      }
    },
    {
      "cell_type": "code",
      "source": [
        "plt.figure(figsize = (10,7))\n",
        "# Plot training data in blue\n",
        "plt.scatter(X_train, Y_train, c=\"b\", label = \"Training data\")\n",
        "# Plot training data in red\n",
        "plt.scatter(X_test, Y_test, c=\"r\", label = \"Testing data\")\n",
        "plt.legend()\n",
        "plt.show()"
      ],
      "metadata": {
        "id": "R9kG1M5WpkEZ",
        "outputId": "162fe250-1745-45ae-84ef-03818236e7d3",
        "colab": {
          "base_uri": "https://localhost:8080/",
          "height": 428
        }
      },
      "execution_count": 19,
      "outputs": [
        {
          "output_type": "display_data",
          "data": {
            "text/plain": [
              "<Figure size 720x504 with 1 Axes>"
            ],
            "image/png": "[encoded data removed]"
          },
          "metadata": {
            "needs_background": "light"
          }
        }
      ]
    },
    {
      "cell_type": "code",
      "source": [
        "# Let's have a look at building nerual network for our data\n",
        "\n",
        "# 1. Build model using the sequential API\n",
        "\n",
        "model = tf.keras.Sequential([\n",
        "    tf.keras.layers.Dense(1,input_shape = (1,),name = \"input_layer\"),\n",
        "    tf.keras.layers.Dense(16,name = \"hidden_layer\"),\n",
        "\n",
        "    tf.keras.layers.Dense(1,name = \"output_layer\")\n",
        "])\n",
        "\n",
        "# 2. compile the model\n",
        "model.compile(loss = tf.keras.losses.mae,\n",
        "              optimizer = tf.keras.optimizers.Adam(lr = 0.01),\n",
        "              metrics = [\"mae\",\"mse\"])"
      ],
      "metadata": {
        "id": "HxLh9Cf5qPxV",
        "outputId": "dd1c2df6-9484-4073-e94d-d6e6aa9d1097",
        "colab": {
          "base_uri": "https://localhost:8080/"
        }
      },
      "execution_count": 63,
      "outputs": [
        {
          "output_type": "stream",
          "name": "stderr",
          "text": [
            "/usr/local/lib/python3.7/dist-packages/keras/optimizer_v2/adam.py:105: UserWarning: The `lr` argument is deprecated, use `learning_rate` instead.\n",
            "  super(Adam, self).__init__(name, **kwargs)\n"
          ]
        }
      ]
    },
    {
      "cell_type": "markdown",
      "source": [
        "## Model Summary"
      ],
      "metadata": {
        "id": "gkJBhLSCsFyX"
      }
    },
    {
      "cell_type": "code",
      "source": [
        "model.summary()"
      ],
      "metadata": {
        "id": "cQh_OV3ksKDr",
        "outputId": "35b39215-9ff9-44ca-c5ec-d555b0523aab",
        "colab": {
          "base_uri": "https://localhost:8080/"
        }
      },
      "execution_count": 64,
      "outputs": [
        {
          "output_type": "stream",
          "name": "stdout",
          "text": [
            "Model: \"sequential_10\"\n",
            "_________________________________________________________________\n",
            " Layer (type)                Output Shape              Param #   \n",
            "=================================================================\n",
            " input_layer (Dense)         (None, 1)                 2         \n",
            "                                                                 \n",
            " hidden_layer (Dense)        (None, 16)                32        \n",
            "                                                                 \n",
            " output_layer (Dense)        (None, 1)                 17        \n",
            "                                                                 \n",
            "=================================================================\n",
            "Total params: 51\n",
            "Trainable params: 51\n",
            "Non-trainable params: 0\n",
            "_________________________________________________________________\n"
          ]
        }
      ]
    },
    {
      "cell_type": "code",
      "source": [
        "from tensorflow.keras.utils import plot_model\n",
        "\n",
        "plot_model(model = model, show_shapes = True)"
      ],
      "metadata": {
        "id": "-TsHoAY4rZqk",
        "outputId": "7e3f6249-c9d1-4a3e-cee2-53bd2541247c",
        "colab": {
          "base_uri": "https://localhost:8080/",
          "height": 422
        }
      },
      "execution_count": 65,
      "outputs": [
        {
          "output_type": "execute_result",
          "data": {
            "image/png": "[encoded data removed]",
            "text/plain": [
              "<IPython.core.display.Image object>"
            ]
          },
          "metadata": {},
          "execution_count": 65
        }
      ]
    },
    {
      "cell_type": "code",
      "source": [
        "# Train model\n",
        "# 3. Fit the model\n",
        "model.fit(X_train,Y_train, epochs = 100)"
      ],
      "metadata": {
        "id": "bk_o0QkgcmNa",
        "outputId": "01182ee7-aafe-4b66-befb-a7a3b9b18c50",
        "colab": {
          "base_uri": "https://localhost:8080/"
        }
      },
      "execution_count": 66,
      "outputs": [
        {
          "output_type": "stream",
          "name": "stdout",
          "text": [
            "Epoch 1/100\n",
            "2/2 [==============================] - 0s 6ms/step - loss: 67.0070 - mae: 67.0070 - mse: 6188.2910\n",
            "Epoch 2/100\n",
            "2/2 [==============================] - 0s 5ms/step - loss: 55.3763 - mae: 55.3763 - mse: 4228.9839\n",
            "Epoch 3/100\n",
            "2/2 [==============================] - 0s 7ms/step - loss: 44.7873 - mae: 44.7873 - mse: 2739.8318\n",
            "Epoch 4/100\n",
            "2/2 [==============================] - 0s 9ms/step - loss: 34.3877 - mae: 34.3877 - mse: 1606.0645\n",
            "Epoch 5/100\n",
            "2/2 [==============================] - 0s 8ms/step - loss: 24.5109 - mae: 24.5109 - mse: 817.8645\n",
            "Epoch 6/100\n",
            "2/2 [==============================] - 0s 7ms/step - loss: 14.9569 - mae: 14.9569 - mse: 307.1346\n",
            "Epoch 7/100\n",
            "2/2 [==============================] - 0s 8ms/step - loss: 8.2377 - mae: 8.2377 - mse: 94.9081\n",
            "Epoch 8/100\n",
            "2/2 [==============================] - 0s 7ms/step - loss: 12.5371 - mae: 12.5371 - mse: 181.5878\n",
            "Epoch 9/100\n",
            "2/2 [==============================] - 0s 7ms/step - loss: 14.2293 - mae: 14.2293 - mse: 278.7420\n",
            "Epoch 10/100\n",
            "2/2 [==============================] - 0s 16ms/step - loss: 14.7074 - mae: 14.7074 - mse: 305.0235\n",
            "Epoch 11/100\n",
            "2/2 [==============================] - 0s 7ms/step - loss: 13.6987 - mae: 13.6987 - mse: 254.6362\n",
            "Epoch 12/100\n",
            "2/2 [==============================] - 0s 11ms/step - loss: 12.1891 - mae: 12.1891 - mse: 174.9531\n",
            "Epoch 13/100\n",
            "2/2 [==============================] - 0s 17ms/step - loss: 9.8608 - mae: 9.8608 - mse: 98.9200\n",
            "Epoch 14/100\n",
            "2/2 [==============================] - 0s 15ms/step - loss: 7.7208 - mae: 7.7208 - mse: 77.6588\n",
            "Epoch 15/100\n",
            "2/2 [==============================] - 0s 12ms/step - loss: 8.6563 - mae: 8.6563 - mse: 107.6751\n",
            "Epoch 16/100\n",
            "2/2 [==============================] - 0s 5ms/step - loss: 9.8415 - mae: 9.8415 - mse: 134.7553\n",
            "Epoch 17/100\n",
            "2/2 [==============================] - 0s 5ms/step - loss: 9.4777 - mae: 9.4777 - mse: 124.6146\n",
            "Epoch 18/100\n",
            "2/2 [==============================] - 0s 11ms/step - loss: 8.0880 - mae: 8.0880 - mse: 96.2393\n",
            "Epoch 19/100\n",
            "2/2 [==============================] - 0s 10ms/step - loss: 7.0959 - mae: 7.0959 - mse: 71.3763\n",
            "Epoch 20/100\n",
            "2/2 [==============================] - 0s 4ms/step - loss: 7.7782 - mae: 7.7782 - mse: 67.1597\n",
            "Epoch 21/100\n",
            "2/2 [==============================] - 0s 14ms/step - loss: 7.7326 - mae: 7.7326 - mse: 65.9509\n",
            "Epoch 22/100\n",
            "2/2 [==============================] - 0s 10ms/step - loss: 7.1522 - mae: 7.1522 - mse: 64.5868\n",
            "Epoch 23/100\n",
            "2/2 [==============================] - 0s 6ms/step - loss: 6.6727 - mae: 6.6727 - mse: 66.5165\n",
            "Epoch 24/100\n",
            "2/2 [==============================] - 0s 5ms/step - loss: 6.7987 - mae: 6.7987 - mse: 69.1241\n",
            "Epoch 25/100\n",
            "2/2 [==============================] - 0s 6ms/step - loss: 6.5653 - mae: 6.5653 - mse: 64.6628\n",
            "Epoch 26/100\n",
            "2/2 [==============================] - 0s 6ms/step - loss: 6.5532 - mae: 6.5532 - mse: 58.3259\n",
            "Epoch 27/100\n",
            "2/2 [==============================] - 0s 9ms/step - loss: 6.4984 - mae: 6.4984 - mse: 56.5249\n",
            "Epoch 28/100\n",
            "2/2 [==============================] - 0s 7ms/step - loss: 6.2522 - mae: 6.2522 - mse: 57.5670\n",
            "Epoch 29/100\n",
            "2/2 [==============================] - 0s 7ms/step - loss: 6.3593 - mae: 6.3593 - mse: 60.7084\n",
            "Epoch 30/100\n",
            "2/2 [==============================] - 0s 6ms/step - loss: 6.2726 - mae: 6.2726 - mse: 59.2850\n",
            "Epoch 31/100\n",
            "2/2 [==============================] - 0s 5ms/step - loss: 6.1062 - mae: 6.1062 - mse: 53.7476\n",
            "Epoch 32/100\n",
            "2/2 [==============================] - 0s 7ms/step - loss: 6.1557 - mae: 6.1557 - mse: 49.7183\n",
            "Epoch 33/100\n",
            "2/2 [==============================] - 0s 7ms/step - loss: 5.8855 - mae: 5.8855 - mse: 50.1042\n",
            "Epoch 34/100\n",
            "2/2 [==============================] - 0s 8ms/step - loss: 5.9056 - mae: 5.9056 - mse: 52.2175\n",
            "Epoch 35/100\n",
            "2/2 [==============================] - 0s 9ms/step - loss: 5.8673 - mae: 5.8673 - mse: 51.6604\n",
            "Epoch 36/100\n",
            "2/2 [==============================] - 0s 11ms/step - loss: 5.7095 - mae: 5.7095 - mse: 48.8187\n",
            "Epoch 37/100\n",
            "2/2 [==============================] - 0s 11ms/step - loss: 5.5743 - mae: 5.5743 - mse: 44.5418\n",
            "Epoch 38/100\n",
            "2/2 [==============================] - 0s 15ms/step - loss: 5.5624 - mae: 5.5624 - mse: 42.0491\n",
            "Epoch 39/100\n",
            "2/2 [==============================] - 0s 9ms/step - loss: 5.3576 - mae: 5.3576 - mse: 42.8113\n",
            "Epoch 40/100\n",
            "2/2 [==============================] - 0s 9ms/step - loss: 5.5952 - mae: 5.5952 - mse: 46.7461\n",
            "Epoch 41/100\n",
            "2/2 [==============================] - 0s 14ms/step - loss: 5.4420 - mae: 5.4420 - mse: 44.1096\n",
            "Epoch 42/100\n",
            "2/2 [==============================] - 0s 10ms/step - loss: 5.1533 - mae: 5.1533 - mse: 38.0116\n",
            "Epoch 43/100\n",
            "2/2 [==============================] - 0s 11ms/step - loss: 5.3666 - mae: 5.3666 - mse: 35.1595\n",
            "Epoch 44/100\n",
            "2/2 [==============================] - 0s 9ms/step - loss: 4.8405 - mae: 4.8405 - mse: 35.0325\n",
            "Epoch 45/100\n",
            "2/2 [==============================] - 0s 10ms/step - loss: 5.2790 - mae: 5.2790 - mse: 41.3119\n",
            "Epoch 46/100\n",
            "2/2 [==============================] - 0s 7ms/step - loss: 5.2951 - mae: 5.2951 - mse: 41.3680\n",
            "Epoch 47/100\n",
            "2/2 [==============================] - 0s 8ms/step - loss: 4.7427 - mae: 4.7427 - mse: 32.5435\n",
            "Epoch 48/100\n",
            "2/2 [==============================] - 0s 10ms/step - loss: 4.7752 - mae: 4.7752 - mse: 29.0151\n",
            "Epoch 49/100\n",
            "2/2 [==============================] - 0s 10ms/step - loss: 4.4684 - mae: 4.4684 - mse: 27.9382\n",
            "Epoch 50/100\n",
            "2/2 [==============================] - 0s 10ms/step - loss: 4.5823 - mae: 4.5823 - mse: 31.9213\n",
            "Epoch 51/100\n",
            "2/2 [==============================] - 0s 10ms/step - loss: 4.8541 - mae: 4.8541 - mse: 34.4744\n",
            "Epoch 52/100\n",
            "2/2 [==============================] - 0s 9ms/step - loss: 4.4316 - mae: 4.4316 - mse: 27.8741\n",
            "Epoch 53/100\n",
            "2/2 [==============================] - 0s 9ms/step - loss: 4.4778 - mae: 4.4778 - mse: 23.0884\n",
            "Epoch 54/100\n",
            "2/2 [==============================] - 0s 10ms/step - loss: 4.0050 - mae: 4.0050 - mse: 22.8080\n",
            "Epoch 55/100\n",
            "2/2 [==============================] - 0s 8ms/step - loss: 4.1004 - mae: 4.1004 - mse: 25.1388\n",
            "Epoch 56/100\n",
            "2/2 [==============================] - 0s 15ms/step - loss: 3.7023 - mae: 3.7023 - mse: 20.4827\n",
            "Epoch 57/100\n",
            "2/2 [==============================] - 0s 8ms/step - loss: 3.7818 - mae: 3.7818 - mse: 18.7431\n",
            "Epoch 58/100\n",
            "2/2 [==============================] - 0s 10ms/step - loss: 3.5447 - mae: 3.5447 - mse: 18.4040\n",
            "Epoch 59/100\n",
            "2/2 [==============================] - 0s 6ms/step - loss: 3.4470 - mae: 3.4470 - mse: 17.4190\n",
            "Epoch 60/100\n",
            "2/2 [==============================] - 0s 15ms/step - loss: 3.3099 - mae: 3.3099 - mse: 15.7710\n",
            "Epoch 61/100\n",
            "2/2 [==============================] - 0s 9ms/step - loss: 3.1908 - mae: 3.1908 - mse: 14.7776\n",
            "Epoch 62/100\n",
            "2/2 [==============================] - 0s 5ms/step - loss: 3.0902 - mae: 3.0902 - mse: 14.2697\n",
            "Epoch 63/100\n",
            "2/2 [==============================] - 0s 13ms/step - loss: 3.0259 - mae: 3.0259 - mse: 13.3615\n",
            "Epoch 64/100\n",
            "2/2 [==============================] - 0s 11ms/step - loss: 2.9176 - mae: 2.9176 - mse: 12.7326\n",
            "Epoch 65/100\n",
            "2/2 [==============================] - 0s 8ms/step - loss: 2.7312 - mae: 2.7312 - mse: 11.2213\n",
            "Epoch 66/100\n",
            "2/2 [==============================] - 0s 7ms/step - loss: 2.6968 - mae: 2.6968 - mse: 9.0773\n",
            "Epoch 67/100\n",
            "2/2 [==============================] - 0s 12ms/step - loss: 2.4993 - mae: 2.4993 - mse: 9.3229\n",
            "Epoch 68/100\n",
            "2/2 [==============================] - 0s 6ms/step - loss: 2.3711 - mae: 2.3711 - mse: 8.6140\n",
            "Epoch 69/100\n",
            "2/2 [==============================] - 0s 5ms/step - loss: 2.1535 - mae: 2.1535 - mse: 6.4809\n",
            "Epoch 70/100\n",
            "2/2 [==============================] - 0s 11ms/step - loss: 2.0098 - mae: 2.0098 - mse: 6.0040\n",
            "Epoch 71/100\n",
            "2/2 [==============================] - 0s 5ms/step - loss: 2.1145 - mae: 2.1145 - mse: 4.8042\n",
            "Epoch 72/100\n",
            "2/2 [==============================] - 0s 7ms/step - loss: 1.9658 - mae: 1.9658 - mse: 4.1951\n",
            "Epoch 73/100\n",
            "2/2 [==============================] - 0s 9ms/step - loss: 1.9791 - mae: 1.9791 - mse: 5.5549\n",
            "Epoch 74/100\n",
            "2/2 [==============================] - 0s 6ms/step - loss: 1.4287 - mae: 1.4287 - mse: 2.8236\n",
            "Epoch 75/100\n",
            "2/2 [==============================] - 0s 6ms/step - loss: 2.2179 - mae: 2.2179 - mse: 6.6457\n",
            "Epoch 76/100\n",
            "2/2 [==============================] - 0s 5ms/step - loss: 1.6596 - mae: 1.6596 - mse: 3.3847\n",
            "Epoch 77/100\n",
            "2/2 [==============================] - 0s 11ms/step - loss: 1.8445 - mae: 1.8445 - mse: 4.4797\n",
            "Epoch 78/100\n",
            "2/2 [==============================] - 0s 6ms/step - loss: 1.3259 - mae: 1.3259 - mse: 2.3790\n",
            "Epoch 79/100\n",
            "2/2 [==============================] - 0s 4ms/step - loss: 0.7610 - mae: 0.7610 - mse: 0.6165\n",
            "Epoch 80/100\n",
            "2/2 [==============================] - 0s 5ms/step - loss: 1.4298 - mae: 1.4298 - mse: 2.7308\n",
            "Epoch 81/100\n",
            "2/2 [==============================] - 0s 6ms/step - loss: 0.7428 - mae: 0.7428 - mse: 0.7507\n",
            "Epoch 82/100\n",
            "2/2 [==============================] - 0s 6ms/step - loss: 2.4949 - mae: 2.4949 - mse: 8.8935\n",
            "Epoch 83/100\n",
            "2/2 [==============================] - 0s 4ms/step - loss: 1.5384 - mae: 1.5384 - mse: 3.9810\n",
            "Epoch 84/100\n",
            "2/2 [==============================] - 0s 6ms/step - loss: 1.2994 - mae: 1.2994 - mse: 2.4027\n",
            "Epoch 85/100\n",
            "2/2 [==============================] - 0s 9ms/step - loss: 0.5822 - mae: 0.5822 - mse: 0.9912\n",
            "Epoch 86/100\n",
            "2/2 [==============================] - 0s 14ms/step - loss: 2.2791 - mae: 2.2791 - mse: 7.1062\n",
            "Epoch 87/100\n",
            "2/2 [==============================] - 0s 12ms/step - loss: 0.8145 - mae: 0.8145 - mse: 1.3194\n",
            "Epoch 88/100\n",
            "2/2 [==============================] - 0s 12ms/step - loss: 2.1413 - mae: 2.1413 - mse: 6.5478\n",
            "Epoch 89/100\n",
            "2/2 [==============================] - 0s 9ms/step - loss: 0.8661 - mae: 0.8661 - mse: 1.1387\n",
            "Epoch 90/100\n",
            "2/2 [==============================] - 0s 8ms/step - loss: 1.6409 - mae: 1.6409 - mse: 3.7392\n",
            "Epoch 91/100\n",
            "2/2 [==============================] - 0s 10ms/step - loss: 0.4575 - mae: 0.4575 - mse: 0.6207\n",
            "Epoch 92/100\n",
            "2/2 [==============================] - 0s 12ms/step - loss: 1.2956 - mae: 1.2956 - mse: 2.6037\n",
            "Epoch 93/100\n",
            "2/2 [==============================] - 0s 16ms/step - loss: 0.8570 - mae: 0.8570 - mse: 1.0143\n",
            "Epoch 94/100\n",
            "2/2 [==============================] - 0s 10ms/step - loss: 0.6698 - mae: 0.6698 - mse: 0.6312\n",
            "Epoch 95/100\n",
            "2/2 [==============================] - 0s 9ms/step - loss: 0.6003 - mae: 0.6003 - mse: 0.6146\n",
            "Epoch 96/100\n",
            "2/2 [==============================] - 0s 11ms/step - loss: 1.0554 - mae: 1.0554 - mse: 1.5489\n",
            "Epoch 97/100\n",
            "2/2 [==============================] - 0s 9ms/step - loss: 0.4312 - mae: 0.4312 - mse: 0.4761\n",
            "Epoch 98/100\n",
            "2/2 [==============================] - 0s 5ms/step - loss: 2.1480 - mae: 2.1480 - mse: 6.4799\n",
            "Epoch 99/100\n",
            "2/2 [==============================] - 0s 5ms/step - loss: 0.9563 - mae: 0.9563 - mse: 1.3885\n",
            "Epoch 100/100\n",
            "2/2 [==============================] - 0s 7ms/step - loss: 0.8039 - mae: 0.8039 - mse: 0.9458\n"
          ]
        },
        {
          "output_type": "execute_result",
          "data": {
            "text/plain": [
              "<keras.callbacks.History at 0x7fe0c5d80cd0>"
            ]
          },
          "metadata": {},
          "execution_count": 66
        }
      ]
    },
    {
      "cell_type": "markdown",
      "source": [
        "### Visualizing our model's predictions"
      ],
      "metadata": {
        "id": "yFZNZvONiu8w"
      }
    },
    {
      "cell_type": "code",
      "source": [
        "# Make some predictions\n",
        "\n",
        "y_pred = model.predict(X_test)\n",
        "y_pred"
      ],
      "metadata": {
        "id": "Zucfiem6hGXc",
        "outputId": "17c4c270-4c6d-4a07-e398-204945e78bb8",
        "colab": {
          "base_uri": "https://localhost:8080/"
        }
      },
      "execution_count": 67,
      "outputs": [
        {
          "output_type": "execute_result",
          "data": {
            "text/plain": [
              "array([[ 68.73078 ],\n",
              "       [ 72.65626 ],\n",
              "       [ 76.58172 ],\n",
              "       [ 80.50719 ],\n",
              "       [ 84.43266 ],\n",
              "       [ 88.35813 ],\n",
              "       [ 92.2836  ],\n",
              "       [ 96.20907 ],\n",
              "       [100.13454 ],\n",
              "       [104.060005]], dtype=float32)"
            ]
          },
          "metadata": {},
          "execution_count": 67
        }
      ]
    },
    {
      "cell_type": "code",
      "source": [
        "Y_test"
      ],
      "metadata": {
        "id": "ZgDjzM82jDxt",
        "outputId": "a25aa252-c63e-4cea-e27a-7f57acce8dee",
        "colab": {
          "base_uri": "https://localhost:8080/"
        }
      },
      "execution_count": 68,
      "outputs": [
        {
          "output_type": "execute_result",
          "data": {
            "text/plain": [
              "<tf.Tensor: shape=(10,), dtype=int32, numpy=array([ 70,  74,  78,  82,  86,  90,  94,  98, 102, 106], dtype=int32)>"
            ]
          },
          "metadata": {},
          "execution_count": 68
        }
      ]
    },
    {
      "cell_type": "code",
      "source": [
        "# Let's create a plotting function\n",
        "\n",
        "def plot_prediction(train_data = X_train,\n",
        "                     train_labels = Y_train,\n",
        "                     test_data = X_test,\n",
        "                     test_labels = Y_test,\n",
        "                     predictions = y_pred):\n",
        "  \"\"\"\n",
        "  Plots training data ,testing data and prediction data to compare it with grounftruth labels\n",
        "  \"\"\"\n",
        "  plt.figure(figsize = (10, 7))\n",
        "  # Plot training data in blue\n",
        "  plt.scatter(X_train, Y_train, c=\"b\", label = \"Training data\")\n",
        "  # Plot testing data in red\n",
        "  plt.scatter(X_test, Y_test, c=\"r\", label = \"Testing data\")\n",
        "  # Plot testing data in red\n",
        "  plt.scatter(X_test, y_pred, c=\"g\", label = \"Prediction data\")\n",
        "  plt.legend()\n",
        "  plt.show()\n",
        "\n",
        "plot_prediction()"
      ],
      "metadata": {
        "id": "cuV5fR2yjIGz",
        "outputId": "d2cda853-f147-49b7-82cd-f9898b66fb2b",
        "colab": {
          "base_uri": "https://localhost:8080/",
          "height": 428
        }
      },
      "execution_count": 69,
      "outputs": [
        {
          "output_type": "display_data",
          "data": {
            "text/plain": [
              "<Figure size 720x504 with 1 Axes>"
            ],
            "image/png": "[encoded data removed]"
          },
          "metadata": {
            "needs_background": "light"
          }
        }
      ]
    },
    {
      "cell_type": "markdown",
      "source": [
        "### EValuting our model's prediction with regression evalution metrics"
      ],
      "metadata": {
        "id": "Ol5arALdkhlO"
      }
    },
    {
      "cell_type": "code",
      "source": [
        "# Evaluate the model on the test\n",
        "model.evaluate(X_test,Y_test)"
      ],
      "metadata": {
        "id": "mq2zNC5vk16o",
        "outputId": "6034f545-2985-40a7-8aa0-bcd356de9929",
        "colab": {
          "base_uri": "https://localhost:8080/"
        }
      },
      "execution_count": 72,
      "outputs": [
        {
          "output_type": "stream",
          "name": "stdout",
          "text": [
            "1/1 [==============================] - 0s 153ms/step - loss: 1.6046 - mae: 1.6046 - mse: 2.6206\n"
          ]
        },
        {
          "output_type": "execute_result",
          "data": {
            "text/plain": [
              "[1.6046035289764404, 1.6046035289764404, 2.6205806732177734]"
            ]
          },
          "metadata": {},
          "execution_count": 72
        }
      ]
    },
    {
      "cell_type": "code",
      "source": [
        "# Calculate the mean absolute error\n",
        "tf.metrics.mean_absolute_error(Y_test, tf.squeeze(tf.constant(y_pred)))"
      ],
      "metadata": {
        "id": "EK9lI5x8tdYr",
        "outputId": "7d0b3ede-f08a-4f49-d1f1-189631eb5a01",
        "colab": {
          "base_uri": "https://localhost:8080/"
        }
      },
      "execution_count": 77,
      "outputs": [
        {
          "output_type": "execute_result",
          "data": {
            "text/plain": [
              "<tf.Tensor: shape=(), dtype=float32, numpy=1.6046051>"
            ]
          },
          "metadata": {},
          "execution_count": 77
        }
      ]
    },
    {
      "cell_type": "code",
      "source": [
        "# Calculate the mean square error\n",
        "tf.metrics.mean_squared_error(Y_test, tf.squeeze(tf.constant(y_pred)))"
      ],
      "metadata": {
        "id": "3M6q75KNufiR",
        "outputId": "8f547c7b-8af4-4574-d2fe-5c6e759f41b4",
        "colab": {
          "base_uri": "https://localhost:8080/"
        }
      },
      "execution_count": 78,
      "outputs": [
        {
          "output_type": "execute_result",
          "data": {
            "text/plain": [
              "<tf.Tensor: shape=(), dtype=float32, numpy=2.620585>"
            ]
          },
          "metadata": {},
          "execution_count": 78
        }
      ]
    },
    {
      "cell_type": "code",
      "source": [
        "# Callculate the metrics \n",
        "def mae(y_true, y_pred):\n",
        "  return tf.metrics.mean_absolute_error(y_true, tf.squeeze(tf.constant(y_pred)))\n",
        "\n",
        "def mse(y_true, y_pred):\n",
        "  return tf.metrics.mean_squared_error(y_true, tf.squeeze(tf.constant(y_pred)))"
      ],
      "metadata": {
        "id": "ey9XsBDTvTR0"
      },
      "execution_count": 82,
      "outputs": []
    }
  ]
}